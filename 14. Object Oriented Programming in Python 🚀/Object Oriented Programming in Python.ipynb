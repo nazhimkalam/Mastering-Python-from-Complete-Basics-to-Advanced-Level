{
 "cells": [
  {
   "cell_type": "markdown",
   "metadata": {},
   "source": [
    "# Python Object Oriented Programming 🚀🚀🚀\n",
    "\n",
    "<img src=\"https://1.bp.blogspot.com/-PVyp5OIsWx0/XTOi76VnGiI/AAAAAAAAHx4/qt1R9Fyo2PISsUcMICYPXXm50i0tIeROgCLcBGAs/s1600/Thor%2B37.gif\" width=\"500\" />\n",
    "\n",
    "\n",
    "## Python Classes/Objects 🍪\n",
    "- Python is an object oriented programming language.\n",
    "\n",
    "- Even the data types are of objects\n",
    "\n",
    "        By Providing the type() we can get the type of the variable or the data type\n",
    "            Eg:- print(type(\"Hello\"))   # displays <class 'str'>\n",
    "                 print(type(7))         # displays <class 'int'>\n",
    "                 print(type(9.81))      # displays <class 'float'>\n",
    "                 print(type(True))      # displays <class 'bool'>\n",
    "\n",
    "- Almost everything in Python is an object, with its properties and methods.\n",
    "\n",
    "- A Class is like an object constructor, or a \"blueprint\" for creating objects."
   ]
  },
  {
   "cell_type": "markdown",
   "metadata": {},
   "source": [
    "## Overview of OOP Terminology\n",
    "\n",
    "<img src=\"https://thumbs.gfycat.com/DeafeningDamagedCats-size_restricted.gif\" width=\"400\" />\n",
    "\n",
    "**1. Class:** *A **blueprint** for an object, defines a set of attributes that characterizes any **object of the class**. These attributes are basically Variables and Methods.*\n",
    "\n",
    "**2. Class/Static Variables:** *A variable that is shared by **all instance (objects)** of a class.*\n",
    "\n",
    "**3. Instance Variables:** *A variable that are defined inside a method and it belongs to **an instance (object)** of the class*\n",
    "\n",
    "**4. Data Members:** *A **class/static variable or instance variable** that **holds data** related to the class and it's objects.*\n",
    "\n",
    "**5. Object:** *It's a **unique instance of a class**,and it consists of both variables and methods related to that **class**.*\n",
    "\n",
    "**6. Methods:** *It's basically a **function** defined in a class.*\n",
    "\n",
    "**7. Instance:** *An **object** of a class.*\n",
    "\n",
    "**8. Instantiation:** *The **creation** of an instance **(object)** of a class.*\n",
    "\n",
    "**9. Inheritance:** *The **transfer of the characteristics** of a class to other classes that are derived from it.*\n",
    "\n",
    "**10. Function Overloading:** *The assignment of **more than one behaviour** to a particular **function**.*\n",
    "\n",
    "**11. Operator Overloading:** *The assignment of **more than one function** to a particular **operator**.*"
   ]
  },
  {
   "cell_type": "markdown",
   "metadata": {},
   "source": [
    "## Create a Class 😋\n",
    "- To create a class, use the keyword **class**"
   ]
  },
  {
   "cell_type": "code",
   "execution_count": 2,
   "metadata": {},
   "outputs": [],
   "source": [
    "# Create a class named MyClass, with a property named x and y\n",
    "class MyClass:\n",
    "    num1 = 5\n",
    "    num2 = 7\n",
    "    "
   ]
  },
  {
   "cell_type": "markdown",
   "metadata": {},
   "source": [
    "## Create Object 😍\n",
    "- Now we can use the class named MyClass to create **objects**"
   ]
  },
  {
   "cell_type": "code",
   "execution_count": 4,
   "metadata": {},
   "outputs": [
    {
     "name": "stdout",
     "output_type": "stream",
     "text": [
      "5\n",
      "7\n"
     ]
    }
   ],
   "source": [
    "# Create an object named \"object1\", and print the value of num1 and num2\n",
    "object1 = MyClass()\n",
    "\n",
    "print(object1.num1)\n",
    "print(object1.num2)"
   ]
  },
  {
   "cell_type": "markdown",
   "metadata": {},
   "source": [
    "## The __init__() Function\n",
    "    *  __init__ is a constructor and we normally used this to initialize the variables\n",
    "    *  This __init__ will run automatically when you create an object"
   ]
  },
  {
   "cell_type": "markdown",
   "metadata": {},
   "source": [
    "### Note: The __init__() function is called automatically every time the class is being used to create a new object."
   ]
  },
  {
   "cell_type": "code",
   "execution_count": 6,
   "metadata": {},
   "outputs": [
    {
     "name": "stdout",
     "output_type": "stream",
     "text": [
      "John\n",
      "36\n",
      "Hermione\n",
      "10\n",
      "Harry\n",
      "8\n"
     ]
    }
   ],
   "source": [
    "# Create a class named Person, use the __init__() function to assign values for name and age\n",
    "\n",
    "class Person:\n",
    "    \n",
    "    # This is the constructor\n",
    "    def __init__(self, name, age):\n",
    "        self.name = name\n",
    "        self.age = age\n",
    "\n",
    "        \n",
    "        \n",
    "p1 = Person(\"John\", 36)\n",
    "p2 = Person(\"Hermione\", 10)\n",
    "p3 = Person(\"Harry\", 8)\n",
    "\n",
    "print(p1.name)\n",
    "print(p1.age)\n",
    "\n",
    "print(p2.name)\n",
    "print(p2.age)\n",
    "\n",
    "print(p3.name)\n",
    "print(p3.age)\n"
   ]
  },
  {
   "cell_type": "markdown",
   "metadata": {},
   "source": [
    "## Object Methods 🔥\n",
    "- Objects can also contain methods. Methods in objects are functions that belong to the object.\n",
    "- Let us create a method in the Person class\n"
   ]
  },
  {
   "cell_type": "code",
   "execution_count": 8,
   "metadata": {},
   "outputs": [
    {
     "name": "stdout",
     "output_type": "stream",
     "text": [
      "Hello my name is John\n"
     ]
    }
   ],
   "source": [
    "# Insert a function that prints a greeting, and execute it on the p1 object\n",
    "class Person:\n",
    "    def __init__(self, name, age):\n",
    "        self.name = name\n",
    "        self.age = age\n",
    "    \n",
    "    def displayName(self):\n",
    "        print(\"Hello my name is \" + self.name)\n",
    "\n",
    "        \n",
    "# Main Code        \n",
    "p1 = Person(\"John\", 36)\n",
    "p1.displayName()\n",
    "\n",
    "# NOTE: The self parameter is a reference to the current instance of the class"
   ]
  },
  {
   "cell_type": "markdown",
   "metadata": {},
   "source": [
    "## The self Parameter 🔥\n",
    "- The self parameter is a reference to the current instance of the class, and is used to access variables that belongs to the class.\n",
    "- It does not have to be named self , you can call it whatever you like, but it has to be the first parameter of any function in the class"
   ]
  },
  {
   "cell_type": "code",
   "execution_count": 12,
   "metadata": {},
   "outputs": [
    {
     "name": "stdout",
     "output_type": "stream",
     "text": [
      "Hello my name is Kevin\n"
     ]
    }
   ],
   "source": [
    "# Use the words mysillyobject and abc instead of self\n",
    "class Person:\n",
    "    def __init__(mysillyobject, name, age):\n",
    "        mysillyobject.name = name\n",
    "        mysillyobject.age = age\n",
    "    \n",
    "    def displayName(mysillyobject):\n",
    "        print(\"Hello my name is \" + mysillyobject.name)\n",
    "\n",
    "p1 = Person(\"Kevin\", 64)\n",
    "p1.displayName()"
   ]
  },
  {
   "cell_type": "markdown",
   "metadata": {},
   "source": [
    "## Modify Object Properties\n",
    "- You can modify properties on objects like this:"
   ]
  },
  {
   "cell_type": "code",
   "execution_count": 18,
   "metadata": {},
   "outputs": [
    {
     "name": "stdout",
     "output_type": "stream",
     "text": [
      "This is may age: 36\n",
      "This is may age: 40\n"
     ]
    }
   ],
   "source": [
    "# Set the age of p1 to 40:\n",
    "class Person:\n",
    "    def __init__(self, name, age):\n",
    "        self.name = name\n",
    "        self.age = age\n",
    "    \n",
    "    def displayName(self):\n",
    "        print(\"Hello my name is \" + self.name)\n",
    "    \n",
    "    def displayAge(self):\n",
    "        print(\"This is may age:\", self.age)\n",
    "\n",
    "        \n",
    "# Main Code        \n",
    "p1 = Person(\"John\", 36)\n",
    "p1.displayAge()\n",
    "\n",
    "p1.age = 40\n",
    "p1.displayAge()\n"
   ]
  },
  {
   "cell_type": "markdown",
   "metadata": {},
   "source": [
    "## Delete Object Properties 💡\n",
    "- You can delete properties on objects by using the del keyword:"
   ]
  },
  {
   "cell_type": "code",
   "execution_count": 22,
   "metadata": {},
   "outputs": [
    {
     "ename": "AttributeError",
     "evalue": "age",
     "output_type": "error",
     "traceback": [
      "\u001b[1;31m---------------------------------------------------------------------------\u001b[0m",
      "\u001b[1;31mAttributeError\u001b[0m                            Traceback (most recent call last)",
      "\u001b[1;32m<ipython-input-22-d66a3daf4ac0>\u001b[0m in \u001b[0;36m<module>\u001b[1;34m\u001b[0m\n\u001b[0;32m      1\u001b[0m \u001b[1;31m# Delete the age property from the p1 object\u001b[0m\u001b[1;33m\u001b[0m\u001b[1;33m\u001b[0m\u001b[1;33m\u001b[0m\u001b[0m\n\u001b[1;32m----> 2\u001b[1;33m \u001b[1;32mdel\u001b[0m \u001b[0mp1\u001b[0m\u001b[1;33m.\u001b[0m\u001b[0mage\u001b[0m\u001b[1;33m\u001b[0m\u001b[1;33m\u001b[0m\u001b[0m\n\u001b[0m\u001b[0;32m      3\u001b[0m \u001b[0mp1\u001b[0m\u001b[1;33m.\u001b[0m\u001b[0mdisplayName\u001b[0m\u001b[1;33m(\u001b[0m\u001b[1;33m)\u001b[0m\u001b[1;33m\u001b[0m\u001b[1;33m\u001b[0m\u001b[0m\n",
      "\u001b[1;31mAttributeError\u001b[0m: age"
     ]
    }
   ],
   "source": [
    "# Delete the age property from the p1 object\n",
    "del p1.age\n",
    "p1.displayName()\n",
    "\n",
    "# Since we have deleted age property from the class \"Person\" this p1 object will be invalid meaning that this object no longer\n",
    "# belongs to the class Person"
   ]
  },
  {
   "cell_type": "markdown",
   "metadata": {},
   "source": [
    "## Delete Objects 🧯\n",
    "- You can delete objects by using the del keyword:"
   ]
  },
  {
   "cell_type": "code",
   "execution_count": 23,
   "metadata": {},
   "outputs": [],
   "source": [
    "# Delete the p1 object\n",
    "del p1\n"
   ]
  },
  {
   "cell_type": "markdown",
   "metadata": {},
   "source": [
    "## The pass Statement 🔥\n",
    "- **class** definitions cannot be empty, but if you for some reason have a **class** definition with no content, put in the **pass** statement to avoid getting an error."
   ]
  },
  {
   "cell_type": "code",
   "execution_count": 24,
   "metadata": {},
   "outputs": [],
   "source": [
    "class Person:\n",
    "      pass"
   ]
  },
  {
   "cell_type": "markdown",
   "metadata": {},
   "source": [
    "## Exercise 😁\n",
    "\n",
    "<img src=\"https://68.media.tumblr.com/b7e7c6236168c4f11ebbe105a1a3de24/tumblr_otis255nm61u1kyq6o2_540.gif\" width=\"400\" />"
   ]
  },
  {
   "cell_type": "code",
   "execution_count": 25,
   "metadata": {},
   "outputs": [],
   "source": [
    "# Question 01\n",
    "# Create a class called \"Animal\" with an attribute called \"type\" and \"name\", also include a method called \"displayDetails()\"\n",
    "# which displays the name and the type of the animal\n",
    "# Create 3 animal objects of a bird, fish and a dog\n",
    "# NOTE:- Remember to make use of the constructor\n",
    "\n",
    "\n",
    "\n",
    "\n"
   ]
  },
  {
   "cell_type": "code",
   "execution_count": null,
   "metadata": {},
   "outputs": [],
   "source": [
    "# Question 02\n",
    "# Create a class called \"Vehicle\" with an attribute called \"brand\" and \"color\", also include a method called \"displayDetails()\"\n",
    "# which displays the brand and the color of the vechile\n",
    "# Create 3 vehicle objects of any thing you wish\n",
    "# NOTE:- Remember to make use of the constructor\n",
    "\n",
    "\n",
    "\n"
   ]
  },
  {
   "cell_type": "markdown",
   "metadata": {},
   "source": [
    "## Instance VS Class/Static Variables 💡\n",
    "\n",
    "- **Instance Variable:-** A variable that are defined inside a method and it belongs to **an instance (object)** of the class, we access instance variables via objects.\n",
    "\n",
    "- **Class/Static Variable:-** A variable that is shared by **all instance (objects)** of a class, class variables are accessed via the class name."
   ]
  },
  {
   "cell_type": "code",
   "execution_count": null,
   "metadata": {},
   "outputs": [],
   "source": [
    "# In this example both Instance and class/static variables are used to explain their difference\n",
    "\n",
    "class Student:\n",
    "    \n",
    "    # (class/static variables)\n",
    "    studentCount = 0\n",
    "    schoolName = \"Royal Institute\"\n",
    "    \n",
    "    # constructor for initialization \n",
    "    def __init__(self, name):\n",
    "        \n",
    "        # assigning the name to studentName variable (instance variable)\n",
    "        self.studentName = name\n",
    "        \n",
    "        # incrementing the (class/static variable)\n",
    "        Student.studentCount += 1\n",
    "        \n",
    "    \n",
    "    # method to display student name\n",
    "    def displayStudentName(self):\n",
    "        print(self.studentName)\n",
    "        \n",
    "    # method to display the school name    \n",
    "    def displaySchoolName(self):\n",
    "        print(Student.schoolName)\n",
    "        \n",
    "\n",
    "# Main Code\n",
    "\n",
    "# Currently 0 students\n",
    "print(Student.studentCount)\n",
    "\n",
    "# Currently 1 students\n",
    "student_01 = Student(\"Nazhim\")\n",
    "print(Student.studentCount)\n",
    "\n",
    "# Currently 2 students\n",
    "student_02 = Student(\"Harry\")\n",
    "print(Student.studentCount)\n",
    "\n",
    "\n",
    "# displaying the school name which is common to all the students so a class/static variable is used \n",
    "student_01.displaySchoolName()\n",
    "student_02.displaySchoolName()"
   ]
  },
  {
   "cell_type": "markdown",
   "metadata": {},
   "source": [
    "## Instance VS Class VS Static Methods 🧨\n",
    "\n",
    "- **Instance methods**:- Instance methods are methods which are called **by the objects only**. You **cannot** call instance methods by the **class name**\n",
    "\n",
    "- **Class methods**:- Class methods are mainly used to **manipulate class variables**. When writing class methods we replace **self** with **cls**. Because **self** is for instance objects where as **cls** is for the class. (we have to use this decorator on top of the class method **@classmethod**). We call class methods using the **Class name**\n",
    "\n",
    "- **Static methods**:- We used **static methods** only when we having nothing to do with the instance variables and nothing to do with the class variables.(we have to use this decorator on top of the static method **@staticmethod**). We call static methods using the **Class name**. Note we dont pass **cls** or **self** as a parameter."
   ]
  },
  {
   "cell_type": "code",
   "execution_count": 6,
   "metadata": {},
   "outputs": [
    {
     "name": "stdout",
     "output_type": "stream",
     "text": [
      "Royal Institute\n",
      "Nazhim Kalam\n",
      "Gateway College\n",
      "This is a static class\n"
     ]
    }
   ],
   "source": [
    "# Here is an example where (Instance & Class & Static) are being used!\n",
    "\n",
    "class Student:\n",
    "    \n",
    "    # class variable  \n",
    "    schoolName = \"Royal Institute\"\n",
    "    \n",
    "    # constructor for initialization \n",
    "    def __init__(self, name):\n",
    "        \n",
    "        # assigning the name to studentName variable (instance variable)\n",
    "        self.studentName = name\n",
    "        \n",
    "    \n",
    "    # (INSTANCE METHODS)\n",
    "    def displayStudentName(self):\n",
    "        print(self.studentName)\n",
    " \n",
    "    # (CLASS METHODS)\n",
    "    @classmethod\n",
    "    def changeSchoolName(cls):\n",
    "        Student.schoolName = \"Gateway College\"\n",
    "        \n",
    "    #  (STATIC METHODS)\n",
    "    @staticmethod\n",
    "    def displayInfo():\n",
    "        print(\"This is a static class\")\n",
    "        \n",
    "        \n",
    "\n",
    "# MAIN CODE\n",
    "newStudent = Student(\"Nazhim Kalam\")\n",
    "print(Student.schoolName)\n",
    "\n",
    "# calling instance methods\n",
    "newStudent.displayStudentName()\n",
    "\n",
    "# calling class methods\n",
    "Student.changeSchoolName()\n",
    "print(Student.schoolName)\n",
    "\n",
    "# calling static methods\n",
    "Student.displayInfo()\n"
   ]
  },
  {
   "cell_type": "markdown",
   "metadata": {},
   "source": [
    "# Python OOPs Concepts 🚀🚀🚀\n",
    "\n",
    "<img src=\"https://66.media.tumblr.com/0ea4f28655daabf5b949b63557c6eb25/tumblr_inline_p44tjnMAEl1qdjtxa_540.gif\" width=\"500\"/>\n",
    "\n",
    "    1. Class\n",
    "    2. Object\n",
    "    3. Method\n",
    "    4. Encapsulation\n",
    "    5. Inheritance\n",
    "    6. Polymorphism \n",
    "    7. Abstraction"
   ]
  },
  {
   "cell_type": "markdown",
   "metadata": {},
   "source": [
    "## Encapsulation 🤖\n",
    "\n",
    "- Encapsulation is also an essential aspect of object-oriented programming. \n",
    "- It is used to restrict access variables. \n",
    "- We used Encapsulation for security purpose, we dont want anyone to access the variables directly instead use methods to work with them.\n",
    "- In encapsulation, code and data are wrapped together within a single unit from being modified by accident.\n",
    "\n",
    "**Under Encapsulation we have 2 types of methods which are:**\n",
    "\n",
    "        1. Accessor Methods (even called as getters)\n",
    "        2. Mutator Methods (even called as setters)\n",
    "        \n",
    "        \n",
    "**1. Accessor:** these are used to get the value of an instance variable.\n",
    "\n",
    "**2. Mutators:** these are used to set the value of an instance variable.\n",
    "\n"
   ]
  },
  {
   "cell_type": "code",
   "execution_count": 9,
   "metadata": {},
   "outputs": [
    {
     "name": "stdout",
     "output_type": "stream",
     "text": [
      "0\n",
      "19\n"
     ]
    }
   ],
   "source": [
    "# Here we will look at an example of Encapsulation\n",
    "class Person:\n",
    "    \n",
    "    # constructor\n",
    "    def __init__(self):\n",
    "        self.age = 0\n",
    "    \n",
    "    \n",
    "    # Mutator for the personName variable (setting the name)\n",
    "    def setAge(self, inputAge):\n",
    "        \n",
    "        # we check if the age is a valid one and then we assign it to the variable\n",
    "        if(inputAge > 0):\n",
    "            self.age = inputAge\n",
    "       \n",
    "    # Accessor for the personName variable (getting the name)\n",
    "    def getAge(self):\n",
    "        return self.age\n",
    "\n",
    "\n",
    "# MAIN CODE\n",
    "p1 = Person()\n",
    "print(p1.getAge())\n",
    "\n",
    "\n",
    "p1.setAge(19)\n",
    "print(p1.getAge())\n"
   ]
  },
  {
   "cell_type": "markdown",
   "metadata": {},
   "source": [
    "### Exercise 😎\n",
    "\n",
    "<img src = \"https://media1.tenor.com/images/2d2df35d4a6d21016f910aa90d017fba/tenor.gif?itemid=13079632\" width = \"400\"/>"
   ]
  },
  {
   "cell_type": "code",
   "execution_count": null,
   "metadata": {},
   "outputs": [],
   "source": [
    "# Question 01\n",
    "# Create a class called \"Vehicle\" with an attribute called \"brand\" and \"color\", also include a method called \"displayDetails()\"\n",
    "# which displays the brand and the color of the vechile\n",
    "# Create 3 vehicle objects of any thing you wish\n",
    "# NOTE:- Remember to make use of the constructor\n",
    "\n",
    "# For the pervious exercise where you created the Vehicle class, redo that by adding encapsulation for all the\n",
    "# attributes (variables)\n",
    "\n",
    "\n",
    "\n"
   ]
  },
  {
   "cell_type": "markdown",
   "metadata": {},
   "source": [
    "## Inheritance 🔥\n",
    "\n",
    "- Inheritance is the most important aspect of object-oriented programming, which simulates the real-world concept of inheritance. \n",
    "- It specifies that the child object acquires all the properties and behaviors of the parent object.\n",
    "\n",
    "\n",
    "- By using inheritance, we can create a class which uses all the properties and behavior of another class. \n",
    "- The new class is known as a derived class or child class, and the one whose properties are acquired is known as a base class or parent class.\n",
    "\n",
    "\n",
    "- It provides the re-usability of the code.\n",
    "\n",
    "- **Parent class** is the class being inherited from, also called base class.\n",
    "\n",
    "- **Child class** is the class that inherits from another class, also called derived class."
   ]
  },
  {
   "cell_type": "markdown",
   "metadata": {},
   "source": [
    "### Create a Parent Class 👴🏼\n",
    "- Any class can be a parent class, so the syntax is the same as creating any other class:\n",
    "\n"
   ]
  },
  {
   "cell_type": "code",
   "execution_count": 11,
   "metadata": {},
   "outputs": [
    {
     "name": "stdout",
     "output_type": "stream",
     "text": [
      "John Doe\n"
     ]
    }
   ],
   "source": [
    "# Create a class named Person, with firstname and lastname properties, and a printname method\n",
    "class Person:\n",
    "    def __init__(self, fname, lname):\n",
    "        self.firstname = fname\n",
    "        self.lastname = lname\n",
    "    \n",
    "    def printName(self):\n",
    "        print(self.firstname, self.lastname)\n",
    "\n",
    "# MAIN CODE\n",
    "# Use the Person class to create an object, and then execute the printname method:\n",
    "person_01 = Person(\"John\", \"Doe\")\n",
    "person_01.printName()\n"
   ]
  },
  {
   "cell_type": "markdown",
   "metadata": {},
   "source": [
    "### Create a Child Class 🧒🏼\n",
    "- To create a class that inherits the functionality from another class, send the parent class as a parameter when creating the child class:"
   ]
  },
  {
   "cell_type": "code",
   "execution_count": 14,
   "metadata": {},
   "outputs": [
    {
     "name": "stdout",
     "output_type": "stream",
     "text": [
      "Nazhim\n",
      "Nazhim Kalam\n"
     ]
    }
   ],
   "source": [
    "# Create a class named Student, which will inherit the properties and methods from the Person class:\n",
    "class Student(Person):\n",
    "        \n",
    "    def printStudentFirstName(self):\n",
    "        print(self.firstname)\n",
    "    \n",
    "    def printStudentLastName(self):\n",
    "        print(self.lastname)\n",
    "        \n",
    "# MAIN CODE\n",
    "student_01 = Student(\"Nazhim\", \"Kalam\")\n",
    "student_01.printStudentFirstName()\n",
    "student_01.printName()\n",
    "        \n",
    "# NOTE: We can create a __init__() method inside Student as well, if you don't till will refer the Parent class __init__()\n",
    "# NOTE: When you create __init__() in the child class (Student class in this case) it will no longer refer the Parent __init_()\n",
    "# NOTE: The __init__() function is called automatically every time the class is being used to create a new object."
   ]
  },
  {
   "cell_type": "markdown",
   "metadata": {},
   "source": [
    "### Calling Parent constructor using Child constructor 🐳"
   ]
  },
  {
   "cell_type": "code",
   "execution_count": 17,
   "metadata": {},
   "outputs": [
    {
     "name": "stdout",
     "output_type": "stream",
     "text": [
      "Nazhim\n",
      "Kalam\n",
      "Nazhim Kalam\n"
     ]
    }
   ],
   "source": [
    "# Note: The child's __init__() function overrides the inheritance of the parent's __init__() function.\n",
    "# To keep the inheritance of the parent's __init__() function, add a call to the parent's __init__() function:\n",
    "\n",
    "# Parent Class\n",
    "class Person:\n",
    "    def __init__(self, fname, lname):\n",
    "        self.firstname = fname\n",
    "        self.lastname = lname\n",
    "    \n",
    "    def printName(self):\n",
    "        print(self.firstname, self.lastname)\n",
    "        \n",
    "\n",
    "# Child Class\n",
    "class Student(Person):\n",
    "    \n",
    "    def __init__(self, fname, lname):\n",
    "        Person.__init__(self, fname, lname)\n",
    "        \n",
    "    def printStudentFirstName(self):\n",
    "        print(self.firstname)\n",
    "    \n",
    "    def printStudentLastName(self):\n",
    "        print(self.lastname)\n",
    "        \n",
    "\n",
    "# MAIN CODE \n",
    "student_01 = Student(\"Nazhim\", \"Kalam\")\n",
    "\n",
    "student_01.printStudentFirstName()\n",
    "student_01.printStudentLastName()\n",
    "\n",
    "student_01.printName()\n",
    "\n"
   ]
  },
  {
   "cell_type": "markdown",
   "metadata": {},
   "source": [
    "### Use the super() Function 🤔\n",
    "- Python also has a super() function that will make the child class inherit all the methods and properties from its parent 💡\n",
    "- By using the super() function, you do not have to use the name of the parent element, it will automatically inherit the methods and properties from its parent."
   ]
  },
  {
   "cell_type": "code",
   "execution_count": 22,
   "metadata": {},
   "outputs": [],
   "source": [
    "# Parent Class\n",
    "class Person:\n",
    "    def __init__(self, fname, lname):\n",
    "        self.firstname = fname\n",
    "        self.lastname = lname\n",
    "    \n",
    "    def printName(self):\n",
    "        print(self.firstname, self.lastname)\n",
    "        \n",
    "\n",
    "# Child Class\n",
    "class Student(Person):\n",
    "    \n",
    "    def __init__(self, fname, lname):\n",
    "        super().__init__(fname, lname)  # using super() instead of the Parent Class Name!\n",
    "        \n",
    "    def printStudentFirstName(self):\n",
    "        print(self.firstname)\n",
    "    \n",
    "    def printStudentLastName(self):\n",
    "        print(self.lastname)\n",
    "        \n",
    "# MAIN CODE \n",
    "student_01 = Student(\"Nazhim\", \"Kalam\")\n"
   ]
  },
  {
   "cell_type": "markdown",
   "metadata": {},
   "source": [
    "### Add Properties 🖤"
   ]
  },
  {
   "cell_type": "code",
   "execution_count": 24,
   "metadata": {},
   "outputs": [],
   "source": [
    "# Add a year parameter, and pass the correct year when creating objects\n",
    "# Parent Class\n",
    "class Person:\n",
    "    def __init__(self, fname, lname):\n",
    "        self.firstname = fname\n",
    "        self.lastname = lname\n",
    "    \n",
    "    def printName(self):\n",
    "        print(self.firstname, self.lastname)\n",
    "        \n",
    "\n",
    "# Child Class\n",
    "class Student(Person):\n",
    "    \n",
    "    def __init__(self, fname, lname, year):\n",
    "        super().__init__(fname, lname)  # using super() instead of the Parent Class Name!\n",
    "        self.graduationyear = year\n",
    "        \n",
    "    def printStudentFirstName(self):\n",
    "        print(self.firstname)\n",
    "    \n",
    "    def printStudentLastName(self):\n",
    "        print(self.lastname)\n",
    "\n",
    "# MAIN CODE \n",
    "student_01 = Student(\"Nazhim\", \"Kalam\", 2019)"
   ]
  },
  {
   "cell_type": "markdown",
   "metadata": {},
   "source": [
    "### Let's create a method in child class to get a clear result of how inheritance works 🎯\n",
    "- **If you add a method in the child class with the same name as a function in the parent class, the inheritance of the parent method will be overridden.**"
   ]
  },
  {
   "cell_type": "code",
   "execution_count": 28,
   "metadata": {},
   "outputs": [
    {
     "name": "stdout",
     "output_type": "stream",
     "text": [
      "Welcome Nazhim Nazhim to the class of 2019\n"
     ]
    }
   ],
   "source": [
    "# Parent Class\n",
    "class Person:\n",
    "    def __init__(self, fname, lname):\n",
    "        self.firstname = fname\n",
    "        self.lastname = lname\n",
    "    \n",
    "    def printName(self):\n",
    "        print(self.firstname, self.lastname)\n",
    "        \n",
    "\n",
    "# Child Class\n",
    "class Student(Person):\n",
    "    \n",
    "    def __init__(self, fname, lname, year):\n",
    "        super().__init__(fname, lname)  # using super() instead of the Parent Class Name!\n",
    "        self.graduationyear = year\n",
    "        \n",
    "    def printStudentFirstName(self):\n",
    "        print(self.firstname)\n",
    "    \n",
    "    def printStudentLastName(self):\n",
    "        print(self.lastname)\n",
    "        \n",
    "    def welcome(self):\n",
    "        print(\"Welcome\", self.firstname, self.firstname, \"to the class of\", self.graduationyear)\n",
    "\n",
    "# MAIN CODE \n",
    "student_01 = Student(\"Nazhim\", \"Kalam\", 2019)\n",
    "student_01.welcome()"
   ]
  },
  {
   "cell_type": "markdown",
   "metadata": {},
   "source": [
    "### Exercise 💡\n",
    "\n",
    "<img src = \"https://giffiles.alphacoders.com/207/207316.gif\" width = \"400\" />"
   ]
  },
  {
   "cell_type": "code",
   "execution_count": null,
   "metadata": {},
   "outputs": [],
   "source": [
    "# Question 01\n",
    "# Create 2 classes called \"Parent\" and \"child\"\n",
    "# In the Parent class create an attribute called \"parentName\" and a method to display \"parentName\"\n",
    "# In the Child class create an attribute called \"childName\" and a method to display \"childName\"\n",
    "# Create another method inside the child class to display the full name as follows \"childName parentName\"\n",
    "\n",
    "\n",
    "\n"
   ]
  },
  {
   "cell_type": "markdown",
   "metadata": {},
   "source": [
    "## Polymorphism 🤪\n",
    "\n",
    "- Polymorphism contains two words \"poly\" and \"morphs\". \n",
    "- Poly means many, and morph means shape. \n",
    "- By polymorphism, we understand that one task can be performed in different ways. For example - you have a class animal, and all animals speak. \n",
    "\n",
    "\n",
    "- But they speak differently. \n",
    "- Here, the \"speak\" behavior is polymorphic in a sense and depends on the animal. \n",
    "- So, the abstract \"animal\" concept does not actually \"speak\", but specific animals (like dogs and cats) have a concrete implementation of the action \"speak\"."
   ]
  },
  {
   "cell_type": "code",
   "execution_count": null,
   "metadata": {},
   "outputs": [],
   "source": []
  },
  {
   "cell_type": "markdown",
   "metadata": {},
   "source": [
    "## Abstraction 🎯\n",
    "\n",
    "- Data abstraction and encapsulation both are often used as synonyms. \n",
    "- Both are nearly synonyms because data abstraction is achieved through encapsulation.\n",
    "\n",
    "\n",
    "\n",
    "- Abstraction is used to hide internal details and show only functionalities. \n",
    "- Abstracting something means to give names to things so that the name captures the core of what a function or a whole program does."
   ]
  },
  {
   "cell_type": "code",
   "execution_count": null,
   "metadata": {},
   "outputs": [],
   "source": []
  }
 ],
 "metadata": {
  "kernelspec": {
   "display_name": "Python 3",
   "language": "python",
   "name": "python3"
  },
  "language_info": {
   "codemirror_mode": {
    "name": "ipython",
    "version": 3
   },
   "file_extension": ".py",
   "mimetype": "text/x-python",
   "name": "python",
   "nbconvert_exporter": "python",
   "pygments_lexer": "ipython3",
   "version": "3.7.4"
  }
 },
 "nbformat": 4,
 "nbformat_minor": 4
}
