{
 "cells": [
  {
   "cell_type": "markdown",
   "metadata": {},
   "source": [
    "# Data Structures 🚀\n",
    "\n",
    "<img src = \"https://miro.medium.com/max/5442/1*KpDOKMFAgDWaGTQHL0r70g.png\" width = \"600\" />\n",
    "\n",
    "- **Data Structures are types of Collections used to hold data and manipulate with them**\n",
    "\n",
    "- **There are four collection data types in the Python**\n",
    "\n",
    "\n",
    "    1. List\n",
    "    2. Tuple\n",
    "    3. Set\n",
    "    4. Dictionary\n",
    "    \n",
    "    In addition we also will be looking into the following as well:\n",
    "    5. Stacks\n",
    "    6. Queues\n",
    "    7. Linked Lists"
   ]
  },
  {
   "cell_type": "markdown",
   "metadata": {},
   "source": [
    "# Lists 🚀\n",
    "\n",
    "<img src = \"https://www.adzuna.co.za/blog/wp-content/uploads/2018/02/coder-and-developer.png\" width = \"300\" />\n",
    "\n",
    "- **Lists are used to store multiple items in a single variable.**\n",
    "\n",
    "- **Lists are one of 4 built-in data types in Python used to store collections of data, the other 3 are Tuple, Set, and Dictionary, all with different qualities and usage.**\n",
    "\n",
    "- **Lists are created using square brackets**"
   ]
  },
  {
   "cell_type": "code",
   "execution_count": 1,
   "metadata": {},
   "outputs": [
    {
     "name": "stdout",
     "output_type": "stream",
     "text": [
      "['apple', 'banana', 'cherry']\n"
     ]
    }
   ],
   "source": [
    "myList = [\"apple\", \"banana\", \"cherry\"]\n",
    "print(myList)"
   ]
  },
  {
   "cell_type": "markdown",
   "metadata": {},
   "source": [
    "### NOTE: Remember NOT to create variable names with special key words like list, set, tuple etc.. "
   ]
  },
  {
   "cell_type": "markdown",
   "metadata": {},
   "source": [
    "## List Items\n",
    "- **List items are ordered, changeable, and allow duplicate values**\n",
    "\n",
    "- **List items are indexed, the first item has index [0], the second item has index [1] etc.**\n",
    "\n",
    "### 1. Ordered\n",
    "\n",
    "- **When we say that lists are ordered, it means that the items have a defined order, and that order will not change.**\n",
    "\n",
    "- **If you add new items to a list, the new items will be placed at the end of the list.**\n",
    "\n",
    "\n",
    "### 2. Changeable\n",
    "- **The list is changeable, meaning that we can change, add, and remove items in a list after it has been created.**\n",
    "\n",
    "### 3. Allow Duplicates\n",
    "- **Since lists are indexed, lists can have items with the same value**"
   ]
  },
  {
   "cell_type": "code",
   "execution_count": 2,
   "metadata": {},
   "outputs": [
    {
     "name": "stdout",
     "output_type": "stream",
     "text": [
      "['apple', 'banana', 'cherry', 'apple', 'cherry']\n"
     ]
    }
   ],
   "source": [
    "# Lists allow duplicate values ('apple' is duplicated)\n",
    "myList = [\"apple\", \"banana\", \"cherry\", \"apple\", \"cherry\"]\n",
    "print(myList)\n"
   ]
  },
  {
   "cell_type": "markdown",
   "metadata": {},
   "source": [
    "## List Length\n",
    "- **To determine how many items a list has, use the len() function**"
   ]
  },
  {
   "cell_type": "code",
   "execution_count": 3,
   "metadata": {},
   "outputs": [
    {
     "name": "stdout",
     "output_type": "stream",
     "text": [
      "3\n"
     ]
    }
   ],
   "source": [
    "# Print the number of items in the list\n",
    "myList = [\"apple\", \"banana\", \"cherry\"]\n",
    "print(len(myList))\n"
   ]
  },
  {
   "cell_type": "markdown",
   "metadata": {},
   "source": [
    "### List Items - Data Types\n",
    "- **List items can be of any data type**"
   ]
  },
  {
   "cell_type": "code",
   "execution_count": 6,
   "metadata": {},
   "outputs": [
    {
     "name": "stdout",
     "output_type": "stream",
     "text": [
      "['apple', 'banana', 'cherry']\n",
      "[1, 5, 7, 9, 3]\n",
      "[True, False, False]\n"
     ]
    }
   ],
   "source": [
    "# String, int and boolean data types\n",
    "list1 = [\"apple\", \"banana\", \"cherry\"]\n",
    "list2 = [1, 5, 7, 9, 3]\n",
    "list3 = [True, False, False]\n",
    "\n",
    "print(list1)\n",
    "print(list2)\n",
    "print(list3)\n"
   ]
  },
  {
   "cell_type": "code",
   "execution_count": 7,
   "metadata": {},
   "outputs": [
    {
     "name": "stdout",
     "output_type": "stream",
     "text": [
      "['abc', 34, True, 40, 'male']\n"
     ]
    }
   ],
   "source": [
    "# A list can contain different data types\n",
    "# A list with strings, integers and boolean values\n",
    "list1 = [\"abc\", 34, True, 40, \"male\"]\n",
    "\n",
    "print(list1)\n"
   ]
  },
  {
   "cell_type": "markdown",
   "metadata": {},
   "source": [
    "### type()\n",
    "-  lists are defined as objects with the data type 'list'"
   ]
  },
  {
   "cell_type": "code",
   "execution_count": 9,
   "metadata": {},
   "outputs": [
    {
     "name": "stdout",
     "output_type": "stream",
     "text": [
      "<class 'list'>\n"
     ]
    }
   ],
   "source": [
    "myList = [1, \"apple\", True]\n",
    "print(type(myList))\n"
   ]
  },
  {
   "cell_type": "markdown",
   "metadata": {},
   "source": [
    "## The list() Constructor\n",
    "- It is also possible to use the list() constructor when creating a new list."
   ]
  },
  {
   "cell_type": "code",
   "execution_count": 10,
   "metadata": {},
   "outputs": [
    {
     "name": "stdout",
     "output_type": "stream",
     "text": [
      "['apple', 'banana', 'cherry']\n"
     ]
    }
   ],
   "source": [
    "# Using the list() constructor to make a List\n",
    "myNewList = list((\"apple\", \"banana\", \"cherry\")) # note the double round-brackets\n",
    "print(myNewList)\n"
   ]
  },
  {
   "cell_type": "markdown",
   "metadata": {},
   "source": [
    "## Access List Items\n",
    "### Positive Indexing\n",
    "- List items are indexed and you can access them by referring to the index number\n",
    "- The first item has index 0, 1 refers to the second item in the list and so on..."
   ]
  },
  {
   "cell_type": "code",
   "execution_count": 1,
   "metadata": {},
   "outputs": [
    {
     "name": "stdout",
     "output_type": "stream",
     "text": [
      "banana\n"
     ]
    }
   ],
   "source": [
    "# Print the second item of the list\n",
    "myList = [\"apple\", \"banana\", \"cherry\"]\n",
    "print(myList[1])\n"
   ]
  },
  {
   "cell_type": "markdown",
   "metadata": {},
   "source": [
    "### Negative Indexing\n",
    "- Negative indexing means start from the end\n",
    "- -1 refers to the last item, -2 refers to the second last item etc."
   ]
  },
  {
   "cell_type": "code",
   "execution_count": 2,
   "metadata": {},
   "outputs": [
    {
     "name": "stdout",
     "output_type": "stream",
     "text": [
      "cherry\n"
     ]
    }
   ],
   "source": [
    "# Print the last item of the list\n",
    "myList = [\"apple\", \"banana\", \"cherry\"]\n",
    "print(myList[-1])\n"
   ]
  },
  {
   "cell_type": "markdown",
   "metadata": {},
   "source": [
    "### Range of Positive Indexes\n",
    "- You can specify a range of indexes by specifying where to start and where to end the range.\n",
    "- When specifying a range, the return value will be a new list with the specified items\n",
    "- **Syntax listName [ startingElement : OneAfterTheEndingElement ]**"
   ]
  },
  {
   "cell_type": "code",
   "execution_count": 4,
   "metadata": {},
   "outputs": [
    {
     "name": "stdout",
     "output_type": "stream",
     "text": [
      "['cherry', 'orange', 'kiwi']\n"
     ]
    }
   ],
   "source": [
    "# Return the third, fourth, and fifth item\n",
    "# The search will start at index 2 (included) and end at index 5 (not included).\n",
    "myList = [\"apple\", \"banana\", \"cherry\", \"orange\", \"kiwi\", \"melon\", \"mango\"]\n",
    "print(myList[2:5])\n"
   ]
  },
  {
   "cell_type": "code",
   "execution_count": 5,
   "metadata": {},
   "outputs": [
    {
     "name": "stdout",
     "output_type": "stream",
     "text": [
      "['apple', 'banana', 'cherry', 'orange']\n"
     ]
    }
   ],
   "source": [
    "# By leaving out the start value, the range will start at the first item\n",
    "# This example returns the items from the beginning to, but NOT including, \"kiwi\"\n",
    "myList = [\"apple\", \"banana\", \"cherry\", \"orange\", \"kiwi\", \"melon\", \"mango\"]\n",
    "print(myList[:4])\n"
   ]
  },
  {
   "cell_type": "code",
   "execution_count": 6,
   "metadata": {},
   "outputs": [
    {
     "name": "stdout",
     "output_type": "stream",
     "text": [
      "['cherry', 'orange', 'kiwi', 'melon', 'mango']\n"
     ]
    }
   ],
   "source": [
    "# By leaving out the end value, the range will go on to the end of the list\n",
    "# This example returns the items from \"cherry\" to the end\n",
    "myList = [\"apple\", \"banana\", \"cherry\", \"orange\", \"kiwi\", \"melon\", \"mango\"]\n",
    "print(myList[2:])\n"
   ]
  },
  {
   "cell_type": "markdown",
   "metadata": {},
   "source": [
    "### Range of Negative Indexes\n",
    "- Specify negative indexes if you want to start the search from the end of the list\n"
   ]
  },
  {
   "cell_type": "code",
   "execution_count": 7,
   "metadata": {},
   "outputs": [
    {
     "name": "stdout",
     "output_type": "stream",
     "text": [
      "['orange', 'kiwi', 'melon']\n"
     ]
    }
   ],
   "source": [
    "# This example returns the items from \"orange\" (-4) to, but NOT including \"mango\" (-1)\n",
    "myList = [\"apple\", \"banana\", \"cherry\", \"orange\", \"kiwi\", \"melon\", \"mango\"]\n",
    "print(myList[-4:-1])\n"
   ]
  },
  {
   "cell_type": "markdown",
   "metadata": {},
   "source": [
    "### Check if Item Exists\n",
    "- To determine if a specified item is present in a list use the in keyword"
   ]
  },
  {
   "cell_type": "code",
   "execution_count": 9,
   "metadata": {},
   "outputs": [
    {
     "name": "stdout",
     "output_type": "stream",
     "text": [
      "Yes, 'apple' is in the fruits list\n"
     ]
    }
   ],
   "source": [
    "# Check if \"apple\" is present in the list\n",
    "myList = [\"apple\", \"banana\", \"cherry\"]\n",
    "\n",
    "if \"apple\" in myList:\n",
    "    print(\"Yes, 'apple' is in the fruits list\")\n",
    "    "
   ]
  },
  {
   "cell_type": "markdown",
   "metadata": {},
   "source": [
    "## Change Item Value\n",
    "- To change the value of a specific item, refer to the index number"
   ]
  },
  {
   "cell_type": "code",
   "execution_count": 10,
   "metadata": {},
   "outputs": [
    {
     "name": "stdout",
     "output_type": "stream",
     "text": [
      "['apple', 'blackcurrant', 'cherry']\n"
     ]
    }
   ],
   "source": [
    "# Change the second item\n",
    "myList = [\"apple\", \"banana\", \"cherry\"]\n",
    "myList[1] = \"blackcurrant\"\n",
    "print(myList)\n"
   ]
  },
  {
   "cell_type": "markdown",
   "metadata": {},
   "source": [
    "### Change a Range of Item Values\n",
    "- To change the value of items within a specific range, define a list with the new values, and refer to the range of index numbers where you want to insert the new values"
   ]
  },
  {
   "cell_type": "code",
   "execution_count": 18,
   "metadata": {},
   "outputs": [
    {
     "name": "stdout",
     "output_type": "stream",
     "text": [
      "['apple', 'blackcurrant', 'watermelon', 'orange', 'kiwi', 'mango']\n"
     ]
    }
   ],
   "source": [
    "# Change the values \"banana\" and \"cherry\" with the values \"blackcurrant\" and \"watermelon\"\n",
    "myList = [\"apple\", \"banana\", \"cherry\", \"orange\", \"kiwi\", \"mango\"]\n",
    "myList[1:3] = [\"blackcurrant\", \"watermelon\"]\n",
    "print(myList)\n"
   ]
  },
  {
   "cell_type": "markdown",
   "metadata": {},
   "source": [
    "**Note: The length of the list will change when the number of items inserted does not match the number of items replaced.**\n",
    "- If you insert more items than you replace, the new items will be inserted where you specified, and the remaining items will move accordingly"
   ]
  },
  {
   "cell_type": "code",
   "execution_count": 19,
   "metadata": {},
   "outputs": [
    {
     "name": "stdout",
     "output_type": "stream",
     "text": [
      "['apple', 'blackcurrant', 'watermelon', 'cherry']\n"
     ]
    }
   ],
   "source": [
    "# Change the second value by replacing it with two new values\n",
    "myList = [\"apple\", \"banana\", \"cherry\"]\n",
    "myList[1:2] = [\"blackcurrant\", \"watermelon\"]\n",
    "print(myList)\n"
   ]
  },
  {
   "cell_type": "markdown",
   "metadata": {},
   "source": [
    "- If you insert less items than you replace, the new items will be inserted where you specified, and the remaining items will move accordingly"
   ]
  },
  {
   "cell_type": "code",
   "execution_count": 20,
   "metadata": {},
   "outputs": [
    {
     "name": "stdout",
     "output_type": "stream",
     "text": [
      "['apple', 'watermelon']\n"
     ]
    }
   ],
   "source": [
    "# Change the second and third value by replacing it with one value\n",
    "thislist = [\"apple\", \"banana\", \"cherry\"]\n",
    "thislist[1:3] = [\"watermelon\"]\n",
    "print(thislist)\n"
   ]
  },
  {
   "cell_type": "markdown",
   "metadata": {},
   "source": [
    "## Insert Items\n",
    "- To insert a new list item, without replacing any of the existing values, we can use the insert() method.\n",
    "\n",
    "- The insert() method inserts an item at the specified index"
   ]
  },
  {
   "cell_type": "code",
   "execution_count": 22,
   "metadata": {},
   "outputs": [
    {
     "name": "stdout",
     "output_type": "stream",
     "text": [
      "['apple', 'banana', 'watermelon', 'cherry']\n"
     ]
    }
   ],
   "source": [
    "# Insert \"watermelon\" as the third item\n",
    "myList = [\"apple\", \"banana\", \"cherry\"]\n",
    "myList.insert(2, \"watermelon\")\n",
    "print(myList)\n",
    "\n",
    "# As a result of the example above, the list will now contain 4 items."
   ]
  },
  {
   "cell_type": "markdown",
   "metadata": {},
   "source": [
    "## Add List Items\n"
   ]
  },
  {
   "cell_type": "markdown",
   "metadata": {},
   "source": [
    "### Append Items\n",
    "- To add an item to the end of the list, use the append() method"
   ]
  },
  {
   "cell_type": "code",
   "execution_count": 23,
   "metadata": {},
   "outputs": [
    {
     "name": "stdout",
     "output_type": "stream",
     "text": [
      "['apple', 'banana', 'cherry', 'orange']\n"
     ]
    }
   ],
   "source": [
    "# Using the append() method to append an item\n",
    "myList = [\"apple\", \"banana\", \"cherry\"]\n",
    "myList.append(\"orange\")\n",
    "print(myList)\n"
   ]
  },
  {
   "cell_type": "markdown",
   "metadata": {},
   "source": [
    "## Extend List\n",
    "- To append elements from another list to the current list, use the extend() method"
   ]
  },
  {
   "cell_type": "code",
   "execution_count": 25,
   "metadata": {},
   "outputs": [
    {
     "name": "stdout",
     "output_type": "stream",
     "text": [
      "['apple', 'banana', 'cherry', 'mango', 'pineapple', 'papaya']\n"
     ]
    }
   ],
   "source": [
    "# Add the elements of tropical to thislist\n",
    "currentList = [\"apple\", \"banana\", \"cherry\"]\n",
    "anotherList = [\"mango\", \"pineapple\", \"papaya\"]\n",
    "currentList.extend(anotherList)\n",
    "print(currentList)\n",
    "\n",
    "# The elements will be added to the end of the list."
   ]
  },
  {
   "cell_type": "markdown",
   "metadata": {},
   "source": [
    "## Remove List Items"
   ]
  },
  {
   "cell_type": "markdown",
   "metadata": {},
   "source": [
    "### Remove Specified Item\n",
    "- The remove() method removes the specified item."
   ]
  },
  {
   "cell_type": "code",
   "execution_count": 26,
   "metadata": {},
   "outputs": [
    {
     "name": "stdout",
     "output_type": "stream",
     "text": [
      "['apple', 'cherry']\n"
     ]
    }
   ],
   "source": [
    "# Remove \"banana\"\n",
    "myList = [\"apple\", \"banana\", \"cherry\"]\n",
    "myList.remove(\"banana\")\n",
    "print(myList)\n"
   ]
  },
  {
   "cell_type": "markdown",
   "metadata": {},
   "source": [
    "### Remove Specified Index\n",
    " - The pop() method removes the specified index."
   ]
  },
  {
   "cell_type": "code",
   "execution_count": 27,
   "metadata": {},
   "outputs": [
    {
     "name": "stdout",
     "output_type": "stream",
     "text": [
      "['apple', 'cherry']\n"
     ]
    }
   ],
   "source": [
    "# Remove the second item\n",
    "myList = [\"apple\", \"banana\", \"cherry\"]\n",
    "myList.pop(1)\n",
    "print(myList)\n"
   ]
  },
  {
   "cell_type": "markdown",
   "metadata": {},
   "source": [
    "- If you do not specify the index, the pop() method removes the last item."
   ]
  },
  {
   "cell_type": "code",
   "execution_count": 28,
   "metadata": {},
   "outputs": [
    {
     "name": "stdout",
     "output_type": "stream",
     "text": [
      "['apple', 'banana']\n"
     ]
    }
   ],
   "source": [
    "# Remove the last item\n",
    "myList = [\"apple\", \"banana\", \"cherry\"]\n",
    "myList.pop()\n",
    "print(myList)\n"
   ]
  },
  {
   "cell_type": "markdown",
   "metadata": {},
   "source": [
    "- The del keyword also removes the specified index:"
   ]
  },
  {
   "cell_type": "code",
   "execution_count": 30,
   "metadata": {},
   "outputs": [
    {
     "name": "stdout",
     "output_type": "stream",
     "text": [
      "['banana', 'cherry']\n"
     ]
    }
   ],
   "source": [
    "# Remove the first item\n",
    "myList = [\"apple\", \"banana\", \"cherry\"]\n",
    "del myList[0]\n",
    "print(myList)\n"
   ]
  },
  {
   "cell_type": "markdown",
   "metadata": {},
   "source": [
    "- The del keyword can also delete the list completely.\n"
   ]
  },
  {
   "cell_type": "code",
   "execution_count": 31,
   "metadata": {},
   "outputs": [
    {
     "ename": "NameError",
     "evalue": "name 'myList' is not defined",
     "output_type": "error",
     "traceback": [
      "\u001b[1;31m---------------------------------------------------------------------------\u001b[0m",
      "\u001b[1;31mNameError\u001b[0m                                 Traceback (most recent call last)",
      "\u001b[1;32m<ipython-input-31-6fcd612246c8>\u001b[0m in \u001b[0;36m<module>\u001b[1;34m\u001b[0m\n\u001b[0;32m      1\u001b[0m \u001b[0mmyList\u001b[0m \u001b[1;33m=\u001b[0m \u001b[1;33m[\u001b[0m\u001b[1;34m\"apple\"\u001b[0m\u001b[1;33m,\u001b[0m \u001b[1;34m\"banana\"\u001b[0m\u001b[1;33m,\u001b[0m \u001b[1;34m\"cherry\"\u001b[0m\u001b[1;33m]\u001b[0m\u001b[1;33m\u001b[0m\u001b[1;33m\u001b[0m\u001b[0m\n\u001b[0;32m      2\u001b[0m \u001b[1;32mdel\u001b[0m \u001b[0mmyList\u001b[0m\u001b[1;33m\u001b[0m\u001b[1;33m\u001b[0m\u001b[0m\n\u001b[1;32m----> 3\u001b[1;33m \u001b[0mprint\u001b[0m\u001b[1;33m(\u001b[0m\u001b[0mmyList\u001b[0m\u001b[1;33m)\u001b[0m\u001b[1;33m\u001b[0m\u001b[1;33m\u001b[0m\u001b[0m\n\u001b[0m",
      "\u001b[1;31mNameError\u001b[0m: name 'myList' is not defined"
     ]
    }
   ],
   "source": [
    "myList = [\"apple\", \"banana\", \"cherry\"]\n",
    "del myList\n",
    "\n",
    "# You will get an error because we deleted the entire list using the \"del\" keyword\n",
    "print(myList)"
   ]
  },
  {
   "cell_type": "markdown",
   "metadata": {},
   "source": [
    "## Clear the List\n",
    "- The clear() method empties the list.\n",
    "\n",
    "- The list still remains, but it has no content."
   ]
  },
  {
   "cell_type": "code",
   "execution_count": 32,
   "metadata": {},
   "outputs": [
    {
     "name": "stdout",
     "output_type": "stream",
     "text": [
      "[]\n"
     ]
    }
   ],
   "source": [
    "# Clear the list content\n",
    "myList = [\"apple\", \"banana\", \"cherry\"]\n",
    "myList.clear()\n",
    "print(myList)\n"
   ]
  },
  {
   "cell_type": "markdown",
   "metadata": {},
   "source": [
    "## List Comprehension\n",
    "- List comprehension offers a shorter syntax when you want to create a new list based on the values of an existing list."
   ]
  },
  {
   "cell_type": "code",
   "execution_count": 35,
   "metadata": {},
   "outputs": [
    {
     "name": "stdout",
     "output_type": "stream",
     "text": [
      "[1, 2, 3, 4, 5, 6, 7, 8, 9, 10, 11, 12, 13, 14, 15, 16, 17, 18, 19, 20, 21, 22, 23, 24, 25, 26, 27, 28, 29, 30, 31, 32, 33, 34, 35, 36, 37, 38, 39, 40, 41, 42, 43, 44, 45, 46, 47, 48, 49, 50, 51, 52, 53, 54, 55, 56, 57, 58, 59, 60, 61, 62, 63, 64, 65, 66, 67, 68, 69, 70, 71, 72, 73, 74, 75, 76, 77, 78, 79, 80, 81, 82, 83, 84, 85, 86, 87, 88, 89, 90, 91, 92, 93, 94, 95, 96, 97, 98, 99, 100]\n"
     ]
    }
   ],
   "source": [
    "# If u want to create a list with 100 numbers we can make use of a loop but using list comprehension we can do it in a\n",
    "# single line\n",
    "\n",
    "myList = [x for x in range(1, 101)]\n",
    "print(myList)"
   ]
  },
  {
   "cell_type": "markdown",
   "metadata": {},
   "source": [
    "## Loop Through a List\n",
    "- You can loop through the list items by using a for loop"
   ]
  },
  {
   "cell_type": "code",
   "execution_count": 63,
   "metadata": {},
   "outputs": [
    {
     "name": "stdout",
     "output_type": "stream",
     "text": [
      "apple\n",
      "banana\n",
      "cherry\n"
     ]
    }
   ],
   "source": [
    "thisList = [\"apple\", \"banana\", \"cherry\"]\n",
    "\n",
    "for x in thisList:\n",
    "      print(x)"
   ]
  },
  {
   "cell_type": "markdown",
   "metadata": {},
   "source": [
    "## Loop Through the Index Numbers\n",
    "- You can also loop through the list items by referring to their index number.\n",
    "\n",
    "- Use the range() and len() functions to create a suitable iterable."
   ]
  },
  {
   "cell_type": "code",
   "execution_count": 64,
   "metadata": {},
   "outputs": [
    {
     "name": "stdout",
     "output_type": "stream",
     "text": [
      "apple\n",
      "banana\n",
      "cherry\n"
     ]
    }
   ],
   "source": [
    "# Print all items by referring to their index number\n",
    "thisList = [\"apple\", \"banana\", \"cherry\"]\n",
    "\n",
    "for i in range(len(thisList)):\n",
    "      print(thisList[i])\n",
    "        "
   ]
  },
  {
   "cell_type": "code",
   "execution_count": null,
   "metadata": {},
   "outputs": [],
   "source": [
    "# Exercise using a while loop display all the items in the list\n"
   ]
  },
  {
   "cell_type": "markdown",
   "metadata": {},
   "source": [
    "## Sort Lists"
   ]
  },
  {
   "cell_type": "markdown",
   "metadata": {},
   "source": [
    "### Sort List Alphanumerically\n",
    "- List objects have a sort() method that will sort the list alphanumerically, ascending, by default"
   ]
  },
  {
   "cell_type": "code",
   "execution_count": 37,
   "metadata": {},
   "outputs": [
    {
     "name": "stdout",
     "output_type": "stream",
     "text": [
      "['banana', 'kiwi', 'mango', 'orange', 'pineapple']\n"
     ]
    }
   ],
   "source": [
    "# Sort the list alphabetically\n",
    "myList = [\"orange\", \"mango\", \"kiwi\", \"pineapple\", \"banana\"]\n",
    "myList.sort()\n",
    "print(myList)\n"
   ]
  },
  {
   "cell_type": "code",
   "execution_count": 38,
   "metadata": {},
   "outputs": [
    {
     "name": "stdout",
     "output_type": "stream",
     "text": [
      "[23, 50, 65, 82, 100]\n"
     ]
    }
   ],
   "source": [
    "# Sort the list numerically\n",
    "myList = [100, 50, 65, 82, 23]\n",
    "myList.sort()\n",
    "print(myList)\n"
   ]
  },
  {
   "cell_type": "markdown",
   "metadata": {},
   "source": [
    "### Sort Descending\n",
    "- To sort descending, use the keyword argument reverse = True"
   ]
  },
  {
   "cell_type": "code",
   "execution_count": 39,
   "metadata": {},
   "outputs": [
    {
     "name": "stdout",
     "output_type": "stream",
     "text": [
      "['pineapple', 'orange', 'mango', 'kiwi', 'banana']\n"
     ]
    }
   ],
   "source": [
    "# Sort the list descending\n",
    "myList = [\"orange\", \"mango\", \"kiwi\", \"pineapple\", \"banana\"]\n",
    "myList.sort(reverse = True)\n",
    "print(myList)\n"
   ]
  },
  {
   "cell_type": "code",
   "execution_count": 40,
   "metadata": {},
   "outputs": [
    {
     "name": "stdout",
     "output_type": "stream",
     "text": [
      "[100, 82, 65, 50, 23]\n"
     ]
    }
   ],
   "source": [
    "# Sort the list descending\n",
    "myList = [100, 50, 65, 82, 23]\n",
    "myList.sort(reverse = True)\n",
    "print(myList)\n"
   ]
  },
  {
   "cell_type": "markdown",
   "metadata": {},
   "source": [
    "### Reverse Order\n",
    " - What if you want to reverse the order of a list, regardless of the alphabet?\n",
    " - The reverse() method reverses the current sorting order of the elements."
   ]
  },
  {
   "cell_type": "code",
   "execution_count": 41,
   "metadata": {},
   "outputs": [
    {
     "name": "stdout",
     "output_type": "stream",
     "text": [
      "['cherry', 'Kiwi', 'Orange', 'banana']\n"
     ]
    }
   ],
   "source": [
    "# Reverse the order of the list items\n",
    "myList = [\"banana\", \"Orange\", \"Kiwi\", \"cherry\"]\n",
    "myList.reverse()\n",
    "print(myList)\n"
   ]
  },
  {
   "cell_type": "markdown",
   "metadata": {},
   "source": [
    "### Copy a List\n",
    "- You cannot copy a list simply by typing list2 = list1, because: list2 will only be a reference to list1, and changes made in list1 will automatically also be made in list2.\n",
    "\n",
    "- There are ways to make a copy, one way is to use the built-in List method copy()."
   ]
  },
  {
   "cell_type": "code",
   "execution_count": 42,
   "metadata": {},
   "outputs": [
    {
     "name": "stdout",
     "output_type": "stream",
     "text": [
      "['apple', 'banana', 'cherry']\n"
     ]
    }
   ],
   "source": [
    "# Make a copy of a list with the copy() method\n",
    "oldList = [\"apple\", \"banana\", \"cherry\"]\n",
    "mylist = oldList.copy()\n",
    "print(mylist)\n"
   ]
  },
  {
   "cell_type": "markdown",
   "metadata": {},
   "source": [
    "- Another way to make a copy is to use the built-in method list()."
   ]
  },
  {
   "cell_type": "code",
   "execution_count": 43,
   "metadata": {},
   "outputs": [
    {
     "name": "stdout",
     "output_type": "stream",
     "text": [
      "['apple', 'banana', 'cherry']\n"
     ]
    }
   ],
   "source": [
    "# Make a copy of a list with the list() method\n",
    "thislist = [\"apple\", \"banana\", \"cherry\"]\n",
    "mylist = list(thislist)\n",
    "print(mylist)\n"
   ]
  },
  {
   "cell_type": "markdown",
   "metadata": {},
   "source": [
    "## Join Lists"
   ]
  },
  {
   "cell_type": "markdown",
   "metadata": {},
   "source": [
    "### Join Two Lists\n",
    "- There are several ways to join, or concatenate, two or more lists in Python.\n",
    "- One of the easiest ways are by using the + operator"
   ]
  },
  {
   "cell_type": "code",
   "execution_count": 44,
   "metadata": {},
   "outputs": [
    {
     "name": "stdout",
     "output_type": "stream",
     "text": [
      "['a', 'b', 'c', 1, 2, 3]\n"
     ]
    }
   ],
   "source": [
    "# Join two list\n",
    "list1 = [\"a\", \"b\", \"c\"]\n",
    "list2 = [1, 2, 3]\n",
    "\n",
    "list3 = list1 + list2\n",
    "print(list3)\n"
   ]
  },
  {
   "cell_type": "markdown",
   "metadata": {},
   "source": [
    "- Use the extend() method to add list2 at the end of list1"
   ]
  },
  {
   "cell_type": "code",
   "execution_count": 46,
   "metadata": {},
   "outputs": [
    {
     "name": "stdout",
     "output_type": "stream",
     "text": [
      "['a', 'b', 'c', 1, 2, 3]\n"
     ]
    }
   ],
   "source": [
    "list1 = [\"a\", \"b\" , \"c\"]\n",
    "list2 = [1, 2, 3]\n",
    "\n",
    "list1.extend(list2)\n",
    "print(list1)"
   ]
  },
  {
   "cell_type": "markdown",
   "metadata": {},
   "source": [
    "### List Methods 🔥\n",
    "- **append()**\t:  *Adds an element at the end of the list*\n",
    "- **clear()**\t:  *Removes all the elements from the list*\n",
    "- **copy()**\t:  *Returns a copy of the list*\n",
    "- **count()**\t:  *Returns the number of elements with the specified value*\n",
    "- **extend()**\t:  *Add the elements of a list (or any iterable), to the end of the current list*\n",
    "- **index()**\t:  *Returns the index of the first element with the specified value*\n",
    "- **insert()**\t:  *Adds an element at the specified position*\n",
    "- **pop()**\t    :  *Removes the element at the specified position*\n",
    "- **remove()**\t:  *Removes the item with the specified value*\n",
    "- **reverse()**\t:  *Reverses the order of the list*\n",
    "- **sort()**\t:  *Sorts the list*"
   ]
  },
  {
   "cell_type": "markdown",
   "metadata": {},
   "source": [
    "## Exercise on List\n",
    "\n",
    "<img src = \"https://ak2.picdn.net/shutterstock/videos/6441422/thumb/1.jpg?ip=x480\" width = \"200\" />"
   ]
  },
  {
   "cell_type": "markdown",
   "metadata": {},
   "source": [
    "### Question 1: Given a Python list you should be able to display Python list in the following order\n",
    "\n",
    "aLsit = [100, 200, 300, 400, 500]\n",
    "\n",
    "**Expected output:**\n",
    "\n",
    "[500, 400, 300, 200, 100]"
   ]
  },
  {
   "cell_type": "markdown",
   "metadata": {},
   "source": [
    "### Question 2: Concatenate two lists index-wise\n",
    "\n",
    "list1 = [\"M\", \"na\", \"i\", \"Ke\"] \n",
    "\n",
    "list2 = [\"y\", \"me\", \"s\", \"lly\"]\n",
    "\n",
    "**Expected output:**\n",
    "\n",
    "[\"M\", \"na\", \"i\", \"Ke\", \"y\", \"me\", \"s\", \"lly\"] "
   ]
  },
  {
   "cell_type": "markdown",
   "metadata": {},
   "source": [
    "### Question 3: Sort the following list of numbers in Ascending Order\n",
    "\n",
    "sortMe = [ 5, -6, 100, 0, -99 ]\n",
    "\n",
    "**Expected output:**\n",
    "\n",
    "[ -99, -6, 0, 5, 100 ]"
   ]
  },
  {
   "cell_type": "markdown",
   "metadata": {},
   "source": [
    "### Question 4: Sort the following list of numbers in Descending Order\n",
    "\n",
    "sortMe = [ 5, -6, 100, 0, -99 ]\n",
    "\n",
    "**Expected output:**\n",
    "\n",
    "[ 100, 5, 0, -6, -99 ]"
   ]
  },
  {
   "cell_type": "markdown",
   "metadata": {},
   "source": [
    "### Question 5: Create and display a list with even numbers from 1 to 10 (use list comprehension)\n",
    "\n",
    "**Expected output:**\n",
    "\n",
    "[2, 4, 6, 8, 10]"
   ]
  },
  {
   "cell_type": "markdown",
   "metadata": {},
   "source": [
    "# Tuples 🚀\n",
    "\n",
    "<img src = \"https://miro.medium.com/max/1187/1*0FqDC0_r1f5xFz3IywLYRA.jpeg\" width = \"400\" />\n",
    "\n",
    "- Tuples are used to store multiple items in a single variable.\n",
    "- Tuple is one of 4 built-in data types in Python used to store collections of data\n",
    "- A tuple is a collection which is ordered and **unchangeable**.\n",
    "- Tuples are written with round brackets."
   ]
  },
  {
   "cell_type": "markdown",
   "metadata": {},
   "source": [
    "### Create a Tuple"
   ]
  },
  {
   "cell_type": "code",
   "execution_count": 47,
   "metadata": {},
   "outputs": [
    {
     "name": "stdout",
     "output_type": "stream",
     "text": [
      "('apple', 'banana', 'cherry')\n"
     ]
    }
   ],
   "source": [
    "myTuple = (\"apple\", \"banana\", \"cherry\")\n",
    "print(myTuple)\n"
   ]
  },
  {
   "cell_type": "markdown",
   "metadata": {},
   "source": [
    "## Tuple Items\n",
    "\n",
    "- Tuple items are ordered, unchangeable, and allow duplicate values.\n",
    "\n",
    "- Tuple items are indexed, the first item has index [0], the second item has index [1] etc\n",
    "\n",
    "### Ordered\n",
    "- When we say that tuples are ordered, it means that the items have a defined order, and that order will not change.\n",
    "\n",
    "### Unchangeable\n",
    "- Tuples are unchangeable, meaning that we cannot change, add or remove items after the tuple has been created.\n",
    "\n",
    "### Allow Duplicates\n",
    "- Since tuple are indexed, tuples can have items with the same value"
   ]
  },
  {
   "cell_type": "code",
   "execution_count": 48,
   "metadata": {},
   "outputs": [
    {
     "name": "stdout",
     "output_type": "stream",
     "text": [
      "('apple', 'banana', 'cherry', 'apple', 'cherry')\n"
     ]
    }
   ],
   "source": [
    "# Tuples allow duplicate values\n",
    "thisTuple = (\"apple\", \"banana\", \"cherry\", \"apple\", \"cherry\")\n",
    "print(thisTuple)\n"
   ]
  },
  {
   "cell_type": "markdown",
   "metadata": {},
   "source": [
    "## Tuple Length\n",
    "- To determine how many items a tuple has, use the len() function"
   ]
  },
  {
   "cell_type": "code",
   "execution_count": 49,
   "metadata": {},
   "outputs": [
    {
     "name": "stdout",
     "output_type": "stream",
     "text": [
      "3\n"
     ]
    }
   ],
   "source": [
    "# Print the number of items in the tuple\n",
    "thisTuple = (\"apple\", \"banana\", \"cherry\")\n",
    "print(len(thisTuple))\n"
   ]
  },
  {
   "cell_type": "markdown",
   "metadata": {},
   "source": [
    "## Create Tuple With One Item\n",
    " - To create a tuple with only one item, you have to add a comma after the item, otherwise Python will not recognize it as a tuple."
   ]
  },
  {
   "cell_type": "code",
   "execution_count": 52,
   "metadata": {},
   "outputs": [
    {
     "name": "stdout",
     "output_type": "stream",
     "text": [
      "<class 'tuple'>\n",
      "<class 'str'>\n"
     ]
    }
   ],
   "source": [
    "# One item tuple, remember the commma\n",
    "thisTuple = (\"apple\",)\n",
    "print(type(thisTuple))\n",
    "\n",
    "#NOT a tuple\n",
    "thisTuple = (\"apple\")\n",
    "print(type(thisTuple))\n"
   ]
  },
  {
   "cell_type": "markdown",
   "metadata": {},
   "source": [
    "## Tuple Items - Data Types\n",
    "- Tuple items can be of any data type"
   ]
  },
  {
   "cell_type": "code",
   "execution_count": 53,
   "metadata": {},
   "outputs": [
    {
     "name": "stdout",
     "output_type": "stream",
     "text": [
      "('apple', 'banana', 'cherry')\n",
      "(1, 5, 7, 9, 3)\n",
      "(True, False, False)\n"
     ]
    }
   ],
   "source": [
    "# String, int and boolean data types\n",
    "tuple1 = (\"apple\", \"banana\", \"cherry\")\n",
    "tuple2 = (1, 5, 7, 9, 3)\n",
    "tuple3 = (True, False, False)\n",
    "\n",
    "print(tuple1)\n",
    "print(tuple2)\n",
    "print(tuple3)"
   ]
  },
  {
   "cell_type": "markdown",
   "metadata": {},
   "source": [
    "- A tuple can contain different data types"
   ]
  },
  {
   "cell_type": "code",
   "execution_count": 55,
   "metadata": {},
   "outputs": [
    {
     "name": "stdout",
     "output_type": "stream",
     "text": [
      "('abc', 34, True, 40, 'male')\n"
     ]
    }
   ],
   "source": [
    "tuple1 = (\"abc\", 34, True, 40, \"male\")\n",
    "print(tuple1)\n"
   ]
  },
  {
   "cell_type": "markdown",
   "metadata": {},
   "source": [
    "## type()\n",
    "- From Python's perspective, tuples are defined as objects with the data type 'tuple'"
   ]
  },
  {
   "cell_type": "code",
   "execution_count": 57,
   "metadata": {},
   "outputs": [
    {
     "name": "stdout",
     "output_type": "stream",
     "text": [
      "<class 'tuple'>\n"
     ]
    }
   ],
   "source": [
    "# What is the data type of a tuple?\n",
    "myTuple = (\"apple\", \"banana\", \"cherry\")\n",
    "print(type(myTuple))\n"
   ]
  },
  {
   "cell_type": "markdown",
   "metadata": {},
   "source": [
    "## The tuple() Constructor\n",
    "- It is also possible to use the tuple() constructor to make a tuple."
   ]
  },
  {
   "cell_type": "code",
   "execution_count": 58,
   "metadata": {},
   "outputs": [
    {
     "name": "stdout",
     "output_type": "stream",
     "text": [
      "('apple', 'banana', 'cherry')\n"
     ]
    }
   ],
   "source": [
    "# Using the tuple() method to make a tuple\n",
    "thisTuple = tuple((\"apple\", \"banana\", \"cherry\")) # note the double round-brackets\n",
    "print(thisTuple)\n"
   ]
  },
  {
   "cell_type": "markdown",
   "metadata": {},
   "source": [
    "## Access Tuple Items\n",
    "- You can access tuple items by referring to the index number, inside square brackets\n",
    "- Note: The first item has index 0."
   ]
  },
  {
   "cell_type": "code",
   "execution_count": 59,
   "metadata": {},
   "outputs": [
    {
     "name": "stdout",
     "output_type": "stream",
     "text": [
      "banana\n"
     ]
    }
   ],
   "source": [
    "# Print the second item in the tuple\n",
    "thisTuple = (\"apple\", \"banana\", \"cherry\")\n",
    "print( thisTuple[1] )\n"
   ]
  },
  {
   "cell_type": "markdown",
   "metadata": {},
   "source": [
    "## Negative Indexing\n",
    "- Negative indexing means start from the end.\n",
    "- -1 refers to the last item, -2 refers to the second last item etc."
   ]
  },
  {
   "cell_type": "code",
   "execution_count": 60,
   "metadata": {},
   "outputs": [
    {
     "name": "stdout",
     "output_type": "stream",
     "text": [
      "cherry\n"
     ]
    }
   ],
   "source": [
    "# Print the last item of the tuple\n",
    "thisTuple = (\"apple\", \"banana\", \"cherry\")\n",
    "print(thisTuple[-1])\n"
   ]
  },
  {
   "cell_type": "markdown",
   "metadata": {},
   "source": [
    "## Range of Indexes\n",
    "- You can specify a range of indexes by specifying where to start and where to end the range.\n",
    "- When specifying a range, the return value will be a new tuple with the specified items."
   ]
  },
  {
   "cell_type": "code",
   "execution_count": 62,
   "metadata": {},
   "outputs": [
    {
     "name": "stdout",
     "output_type": "stream",
     "text": [
      "('cherry', 'orange', 'kiwi')\n"
     ]
    }
   ],
   "source": [
    "# Return the third, fourth, and fifth item\n",
    "thisTuple = (\"apple\", \"banana\", \"cherry\", \"orange\", \"kiwi\", \"melon\", \"mango\")\n",
    "print(thisTuple[2:5])\n",
    "\n",
    "# Note: The search will start at index 2 (included) and end at index 5 (not included)."
   ]
  },
  {
   "cell_type": "markdown",
   "metadata": {},
   "source": [
    "- This example returns the items from the beginning to, but NOT included, \"kiwi\""
   ]
  },
  {
   "cell_type": "code",
   "execution_count": 63,
   "metadata": {},
   "outputs": [
    {
     "name": "stdout",
     "output_type": "stream",
     "text": [
      "('apple', 'banana', 'cherry', 'orange')\n"
     ]
    }
   ],
   "source": [
    "thisTuple = (\"apple\", \"banana\", \"cherry\", \"orange\", \"kiwi\", \"melon\", \"mango\")\n",
    "print(thisTuple[:4])\n"
   ]
  },
  {
   "cell_type": "markdown",
   "metadata": {},
   "source": [
    "- By leaving out the end value, the range will go on to the end of the list"
   ]
  },
  {
   "cell_type": "code",
   "execution_count": 64,
   "metadata": {},
   "outputs": [
    {
     "name": "stdout",
     "output_type": "stream",
     "text": [
      "('cherry', 'orange', 'kiwi', 'melon', 'mango')\n"
     ]
    }
   ],
   "source": [
    "# This example returns the items from \"cherry\" and to the end\n",
    "thisTuple = (\"apple\", \"banana\", \"cherry\", \"orange\", \"kiwi\", \"melon\", \"mango\")\n",
    "print(thisTuple[2:])\n"
   ]
  },
  {
   "cell_type": "markdown",
   "metadata": {},
   "source": [
    "## Range of Negative Indexes\n",
    "- Specify negative indexes if you want to start the search from the end of the tuple"
   ]
  },
  {
   "cell_type": "code",
   "execution_count": 65,
   "metadata": {},
   "outputs": [
    {
     "name": "stdout",
     "output_type": "stream",
     "text": [
      "('orange', 'kiwi', 'melon')\n"
     ]
    }
   ],
   "source": [
    "# This example returns the items from index -4 (included) to index -1 (excluded)\n",
    "thisTuple = (\"apple\", \"banana\", \"cherry\", \"orange\", \"kiwi\", \"melon\", \"mango\")\n",
    "print(thisTuple[-4:-1])\n"
   ]
  },
  {
   "cell_type": "markdown",
   "metadata": {},
   "source": [
    "## Check if Item Exists\n",
    "- To determine if a specified item is present in a tuple use the in keyword"
   ]
  },
  {
   "cell_type": "code",
   "execution_count": 66,
   "metadata": {},
   "outputs": [
    {
     "name": "stdout",
     "output_type": "stream",
     "text": [
      "Yes, 'apple' is in the fruits tuple\n"
     ]
    }
   ],
   "source": [
    "# Check if \"apple\" is present in the tuple\n",
    "thistuple = (\"apple\", \"banana\", \"cherry\")\n",
    "if \"apple\" in thistuple:\n",
    "      print(\"Yes, 'apple' is in the fruits tuple\")"
   ]
  },
  {
   "cell_type": "markdown",
   "metadata": {},
   "source": [
    "## Update Tuples\n",
    "- **Tuples are unchangeable, meaing that you cannot change, add, or remove items once the tuple is created.**"
   ]
  },
  {
   "cell_type": "markdown",
   "metadata": {},
   "source": [
    "### Change Tuple Values\n",
    "- Once a tuple is created, you cannot change its values. Tuples are **unchangeable**, or **immutable** as it also is called.\n",
    "- But there is a workaround. You can convert the tuple into a list, change the list, and convert the list back into a tuple."
   ]
  },
  {
   "cell_type": "code",
   "execution_count": 67,
   "metadata": {},
   "outputs": [
    {
     "name": "stdout",
     "output_type": "stream",
     "text": [
      "('apple', 'kiwi', 'cherry')\n"
     ]
    }
   ],
   "source": [
    "# Convert the tuple into a list to be able to change it\n",
    "x = (\"apple\", \"banana\", \"cherry\")\n",
    "y = list(x)\n",
    "\n",
    "y[1] = \"kiwi\"\n",
    "x = tuple(y)\n",
    "\n",
    "print(x)"
   ]
  },
  {
   "cell_type": "markdown",
   "metadata": {},
   "source": [
    "### Add Items\n",
    "- Once a tuple is created, you cannot add items to it."
   ]
  },
  {
   "cell_type": "code",
   "execution_count": 68,
   "metadata": {},
   "outputs": [
    {
     "ename": "AttributeError",
     "evalue": "'tuple' object has no attribute 'append'",
     "output_type": "error",
     "traceback": [
      "\u001b[1;31m---------------------------------------------------------------------------\u001b[0m",
      "\u001b[1;31mAttributeError\u001b[0m                            Traceback (most recent call last)",
      "\u001b[1;32m<ipython-input-68-80db6115f170>\u001b[0m in \u001b[0;36m<module>\u001b[1;34m\u001b[0m\n\u001b[0;32m      1\u001b[0m \u001b[1;31m# You cannot add items to a tuple\u001b[0m\u001b[1;33m\u001b[0m\u001b[1;33m\u001b[0m\u001b[1;33m\u001b[0m\u001b[0m\n\u001b[0;32m      2\u001b[0m \u001b[0mthisTuple\u001b[0m \u001b[1;33m=\u001b[0m \u001b[1;33m(\u001b[0m\u001b[1;34m\"apple\"\u001b[0m\u001b[1;33m,\u001b[0m \u001b[1;34m\"banana\"\u001b[0m\u001b[1;33m,\u001b[0m \u001b[1;34m\"cherry\"\u001b[0m\u001b[1;33m)\u001b[0m\u001b[1;33m\u001b[0m\u001b[1;33m\u001b[0m\u001b[0m\n\u001b[1;32m----> 3\u001b[1;33m \u001b[0mthisTuple\u001b[0m\u001b[1;33m.\u001b[0m\u001b[0mappend\u001b[0m\u001b[1;33m(\u001b[0m\u001b[1;34m\"orange\"\u001b[0m\u001b[1;33m)\u001b[0m \u001b[1;31m# This will raise an error\u001b[0m\u001b[1;33m\u001b[0m\u001b[1;33m\u001b[0m\u001b[0m\n\u001b[0m\u001b[0;32m      4\u001b[0m \u001b[0mprint\u001b[0m\u001b[1;33m(\u001b[0m\u001b[0mthisTuple\u001b[0m\u001b[1;33m)\u001b[0m\u001b[1;33m\u001b[0m\u001b[1;33m\u001b[0m\u001b[0m\n",
      "\u001b[1;31mAttributeError\u001b[0m: 'tuple' object has no attribute 'append'"
     ]
    }
   ],
   "source": [
    "# You cannot add items to a tuple\n",
    "thisTuple = (\"apple\", \"banana\", \"cherry\")\n",
    "thisTuple.append(\"orange\") # This will raise an error\n",
    "print(thisTuple)\n"
   ]
  },
  {
   "cell_type": "markdown",
   "metadata": {},
   "source": [
    "- Just like the workaround for changing a tuple, you can convert it into a list, add your item(s), and convert it back into a tuple."
   ]
  },
  {
   "cell_type": "code",
   "execution_count": 69,
   "metadata": {},
   "outputs": [
    {
     "name": "stdout",
     "output_type": "stream",
     "text": [
      "('apple', 'banana', 'cherry', 'orange')\n"
     ]
    }
   ],
   "source": [
    "# Convert the tuple into a list, add \"orange\", and convert it back into a tuple\n",
    "myTuple = (\"apple\", \"banana\", \"cherry\")\n",
    "y = list(myTuple)\n",
    "\n",
    "y.append(\"orange\")\n",
    "myTuple = tuple(y)\n",
    "print(myTuple)"
   ]
  },
  {
   "cell_type": "markdown",
   "metadata": {},
   "source": [
    "## Remove Items\n",
    "- You cannot remove items in a tuple\n",
    "- Tuples are unchangeable, so you cannot remove items from it, but you can use the same workaround as we used for changing and adding tuple items:"
   ]
  },
  {
   "cell_type": "code",
   "execution_count": 70,
   "metadata": {},
   "outputs": [
    {
     "name": "stdout",
     "output_type": "stream",
     "text": [
      "('banana', 'cherry')\n"
     ]
    }
   ],
   "source": [
    "# Convert the tuple into a list, remove \"apple\", and convert it back into a tuple\n",
    "myTuple = (\"apple\", \"banana\", \"cherry\")\n",
    "y = list(thistuple)\n",
    "\n",
    "y.remove(\"apple\")\n",
    "myTuple = tuple(y)\n",
    "\n",
    "print(myTuple)"
   ]
  },
  {
   "cell_type": "markdown",
   "metadata": {},
   "source": [
    "### The del keyword can delete the tuple completely"
   ]
  },
  {
   "cell_type": "code",
   "execution_count": 72,
   "metadata": {},
   "outputs": [
    {
     "ename": "NameError",
     "evalue": "name 'myTuple' is not defined",
     "output_type": "error",
     "traceback": [
      "\u001b[1;31m---------------------------------------------------------------------------\u001b[0m",
      "\u001b[1;31mNameError\u001b[0m                                 Traceback (most recent call last)",
      "\u001b[1;32m<ipython-input-72-5a370648fa56>\u001b[0m in \u001b[0;36m<module>\u001b[1;34m\u001b[0m\n\u001b[0;32m      1\u001b[0m \u001b[0mmyTuple\u001b[0m \u001b[1;33m=\u001b[0m \u001b[1;33m(\u001b[0m\u001b[1;34m\"apple\"\u001b[0m\u001b[1;33m,\u001b[0m \u001b[1;34m\"banana\"\u001b[0m\u001b[1;33m,\u001b[0m \u001b[1;34m\"cherry\"\u001b[0m\u001b[1;33m)\u001b[0m\u001b[1;33m\u001b[0m\u001b[1;33m\u001b[0m\u001b[0m\n\u001b[0;32m      2\u001b[0m \u001b[1;32mdel\u001b[0m \u001b[0mmyTuple\u001b[0m\u001b[1;33m\u001b[0m\u001b[1;33m\u001b[0m\u001b[0m\n\u001b[1;32m----> 3\u001b[1;33m \u001b[0mprint\u001b[0m\u001b[1;33m(\u001b[0m\u001b[0mmyTuple\u001b[0m\u001b[1;33m)\u001b[0m \u001b[1;31m#this will raise an error because the tuple no longer exists\u001b[0m\u001b[1;33m\u001b[0m\u001b[1;33m\u001b[0m\u001b[0m\n\u001b[0m",
      "\u001b[1;31mNameError\u001b[0m: name 'myTuple' is not defined"
     ]
    }
   ],
   "source": [
    "myTuple = (\"apple\", \"banana\", \"cherry\")\n",
    "del myTuple\n",
    "print(myTuple) #this will raise an error because the tuple no longer exists\n"
   ]
  },
  {
   "cell_type": "markdown",
   "metadata": {},
   "source": [
    "## Loop Through a Tuple\n",
    "- You can loop through the tuple items by using a for loop."
   ]
  },
  {
   "cell_type": "code",
   "execution_count": 65,
   "metadata": {},
   "outputs": [
    {
     "name": "stdout",
     "output_type": "stream",
     "text": [
      "apple\n",
      "banana\n",
      "cherry\n"
     ]
    }
   ],
   "source": [
    "# Iterate through the items and print the values\n",
    "thisTuple = (\"apple\", \"banana\", \"cherry\")\n",
    "\n",
    "for x in thisTuple:\n",
    "      print(x)\n",
    "        "
   ]
  },
  {
   "cell_type": "code",
   "execution_count": null,
   "metadata": {},
   "outputs": [],
   "source": [
    "# Exercise using a while loop display all the items in the tuple\n"
   ]
  },
  {
   "cell_type": "markdown",
   "metadata": {},
   "source": [
    "### Join Two Tuples\n",
    "- To join two or more tuples you can use the + operator"
   ]
  },
  {
   "cell_type": "code",
   "execution_count": 73,
   "metadata": {},
   "outputs": [
    {
     "name": "stdout",
     "output_type": "stream",
     "text": [
      "('a', 'b', 'c', 1, 2, 3)\n"
     ]
    }
   ],
   "source": [
    "# Join two tuples\n",
    "tuple1 = (\"a\", \"b\" , \"c\")\n",
    "tuple2 = (1, 2, 3)\n",
    "\n",
    "tuple3 = tuple1 + tuple2\n",
    "print(tuple3)\n"
   ]
  },
  {
   "cell_type": "markdown",
   "metadata": {},
   "source": [
    "### Multiply Tuples\n",
    "- If you want to multiply the content of a tuple a given number of times, you can use the * operator"
   ]
  },
  {
   "cell_type": "code",
   "execution_count": 74,
   "metadata": {},
   "outputs": [
    {
     "name": "stdout",
     "output_type": "stream",
     "text": [
      "('apple', 'banana', 'cherry', 'apple', 'banana', 'cherry')\n"
     ]
    }
   ],
   "source": [
    "# Multiply the fruits tuple by 2\n",
    "fruits = (\"apple\", \"banana\", \"cherry\")\n",
    "mytuple = fruits * 2\n",
    "\n",
    "print(mytuple)"
   ]
  },
  {
   "cell_type": "markdown",
   "metadata": {},
   "source": [
    "### Tuple count() Method"
   ]
  },
  {
   "cell_type": "code",
   "execution_count": 75,
   "metadata": {},
   "outputs": [
    {
     "name": "stdout",
     "output_type": "stream",
     "text": [
      "2\n"
     ]
    }
   ],
   "source": [
    "# Return the number of times the value 5 appears in the tuple\n",
    "thistuple = (1, 3, 7, 8, 7, 5, 4, 6, 8, 5)\n",
    "\n",
    "x = thistuple.count(5)\n",
    "\n",
    "print(x)"
   ]
  },
  {
   "cell_type": "code",
   "execution_count": 78,
   "metadata": {},
   "outputs": [
    {
     "name": "stdout",
     "output_type": "stream",
     "text": [
      "3\n"
     ]
    }
   ],
   "source": [
    "thistuple = (\"a\", \"a\",\"a\", \"b\", \"c\", \"d\")\n",
    "\n",
    "x = thistuple.count(\"a\")\n",
    "\n",
    "print(x)"
   ]
  },
  {
   "cell_type": "markdown",
   "metadata": {},
   "source": [
    "### Tuple index() Method"
   ]
  },
  {
   "cell_type": "code",
   "execution_count": 79,
   "metadata": {},
   "outputs": [
    {
     "name": "stdout",
     "output_type": "stream",
     "text": [
      "3\n"
     ]
    }
   ],
   "source": [
    "# Search for the first occurrence of the value 8, and return its position\n",
    "thistuple = (1, 3, 7, 8, 7, 5, 4, 6, 8, 5)\n",
    "\n",
    "x = thistuple.index(8)\n",
    "\n",
    "print(x)"
   ]
  },
  {
   "cell_type": "markdown",
   "metadata": {},
   "source": [
    "## Exercise on Tuples🔥\n",
    "<img src = \"https://ak2.picdn.net/shutterstock/videos/6441422/thumb/1.jpg?ip=x480\" width = \"200\" />"
   ]
  },
  {
   "cell_type": "code",
   "execution_count": null,
   "metadata": {},
   "outputs": [],
   "source": [
    "# Question 01 (Print the first item in the fruits tuple.)\n",
    "fruits = (\"apple\", \"banana\", \"cherry\")\n",
    "\n"
   ]
  },
  {
   "cell_type": "code",
   "execution_count": 80,
   "metadata": {},
   "outputs": [
    {
     "name": "stdout",
     "output_type": "stream",
     "text": [
      "3\n"
     ]
    }
   ],
   "source": [
    "# Question 02 (Use the correct syntax to print the number of items in the fruits tuple\n",
    "fruits = (\"apple\", \"banana\", \"cherry\")\n",
    "\n"
   ]
  },
  {
   "cell_type": "code",
   "execution_count": 81,
   "metadata": {},
   "outputs": [],
   "source": [
    "# Question 03 (Use negative indexing to print the last item in the tuple.)\n",
    "fruits = (\"apple\", \"banana\", \"cherry\")\n"
   ]
  },
  {
   "cell_type": "code",
   "execution_count": 82,
   "metadata": {},
   "outputs": [],
   "source": [
    "# Question 04 (Use a range of indexes to print the third, fourth, and fifth item in the tuple.)\n",
    "fruits = (\"apple\", \"banana\", \"cherry\", \"orange\", \"kiwi\", \"melon\", \"mango\")\n"
   ]
  },
  {
   "cell_type": "markdown",
   "metadata": {},
   "source": [
    "# Sets 🚀\n",
    "\n",
    "<img src = \"https://ak.picdn.net/shutterstock/videos/1010270171/thumb/10.jpg\" width = \"400\" />\n",
    "\n",
    "- Sets are used to store multiple items in a single variable.\n",
    "- A set is a collection which is both unordered and unindexed.\n",
    "- Sets are written with curly brackets.\n"
   ]
  },
  {
   "cell_type": "code",
   "execution_count": 83,
   "metadata": {},
   "outputs": [
    {
     "name": "stdout",
     "output_type": "stream",
     "text": [
      "{'cherry', 'banana', 'apple'}\n"
     ]
    }
   ],
   "source": [
    "# Create a Set\n",
    "mySet = {\"apple\", \"banana\", \"cherry\"}\n",
    "print(mySet)\n"
   ]
  },
  {
   "cell_type": "markdown",
   "metadata": {},
   "source": [
    "### Note: Sets are unordered, so you cannot be sure in which order the items will appear."
   ]
  },
  {
   "cell_type": "markdown",
   "metadata": {},
   "source": [
    "## Set Items\n",
    "- Set items are unordered, unchangeable, and do not allow duplicate values.\n",
    "\n",
    "### Unordered\n",
    "- Unordered means that the items in a set do not have a defined order.\n",
    "- Set items can appear in a different order every time you use them, and cannot be referred to by index or key.\n",
    "\n",
    "\n",
    "### Unchangeable\n",
    "- Sets are unchangeable, meaning that we cannot change the items after the set has been created.\n",
    "\n",
    "**Once a set is created, you cannot change its items, but you can add new items.**\n",
    "\n",
    "\n",
    "### Duplicates Not Allowed\n",
    "- Sets cannot have two items with the same value."
   ]
  },
  {
   "cell_type": "code",
   "execution_count": 84,
   "metadata": {},
   "outputs": [
    {
     "name": "stdout",
     "output_type": "stream",
     "text": [
      "{'cherry', 'banana', 'apple'}\n"
     ]
    }
   ],
   "source": [
    "# Duplicate values will be ignored\n",
    "mySet = {\"apple\", \"banana\", \"cherry\", \"apple\"}\n",
    "\n",
    "print(mySet)"
   ]
  },
  {
   "cell_type": "markdown",
   "metadata": {},
   "source": [
    "### Get the Length of a Set\n",
    "- To determine how many items a set has, use the len() method."
   ]
  },
  {
   "cell_type": "code",
   "execution_count": 85,
   "metadata": {},
   "outputs": [
    {
     "name": "stdout",
     "output_type": "stream",
     "text": [
      "3\n"
     ]
    }
   ],
   "source": [
    "# Get the number of items in a set\n",
    "mySet = {\"apple\", \"banana\", \"cherry\"}\n",
    "\n",
    "print(len(mySet))"
   ]
  },
  {
   "cell_type": "markdown",
   "metadata": {},
   "source": [
    "### Set Items - Data Types\n",
    "- Set items can be of any data type"
   ]
  },
  {
   "cell_type": "code",
   "execution_count": 86,
   "metadata": {},
   "outputs": [
    {
     "name": "stdout",
     "output_type": "stream",
     "text": [
      "{'cherry', 'banana', 'apple'}\n",
      "{1, 3, 5, 7, 9}\n",
      "{False, True}\n"
     ]
    }
   ],
   "source": [
    "# String, int and boolean data types\n",
    "set1 = {\"apple\", \"banana\", \"cherry\"}\n",
    "set2 = {1, 5, 7, 9, 3}\n",
    "set3 = {True, False, False}\n",
    "\n",
    "print(set1)\n",
    "print(set2)\n",
    "print(set3)"
   ]
  },
  {
   "cell_type": "markdown",
   "metadata": {},
   "source": [
    "### A set can contain different data types:"
   ]
  },
  {
   "cell_type": "code",
   "execution_count": 87,
   "metadata": {},
   "outputs": [],
   "source": [
    "# A set with strings, integers and boolean values:\n",
    "set1 = {\"abc\", 34, True, 40, \"male\"}\n"
   ]
  },
  {
   "cell_type": "markdown",
   "metadata": {},
   "source": [
    "### type()\n",
    "- From Python's perspective, sets are defined as objects with the data type 'set'"
   ]
  },
  {
   "cell_type": "code",
   "execution_count": 88,
   "metadata": {},
   "outputs": [
    {
     "name": "stdout",
     "output_type": "stream",
     "text": [
      "<class 'set'>\n"
     ]
    }
   ],
   "source": [
    "# What is the data type of a set?\n",
    "mySet = {\"apple\", \"banana\", \"cherry\"}\n",
    "print(type(mySet))\n"
   ]
  },
  {
   "cell_type": "markdown",
   "metadata": {},
   "source": [
    "### The set() Constructor\n",
    "- It is also possible to use the set() constructor to make a set."
   ]
  },
  {
   "cell_type": "code",
   "execution_count": 89,
   "metadata": {},
   "outputs": [
    {
     "name": "stdout",
     "output_type": "stream",
     "text": [
      "{'cherry', 'banana', 'apple'}\n"
     ]
    }
   ],
   "source": [
    "# Using the set() constructor to make a set\n",
    "mySet = set((\"apple\", \"banana\", \"cherry\")) # note the double round-brackets\n",
    "print(mySet)\n"
   ]
  },
  {
   "cell_type": "markdown",
   "metadata": {},
   "source": [
    "## Access Set Items\n",
    "- You cannot access items in a set by referring to an index or a key.\n",
    "- But you can loop through the set items using a for loop, or ask if a specified value is present in a set, by using the in keyword."
   ]
  },
  {
   "cell_type": "code",
   "execution_count": 92,
   "metadata": {},
   "outputs": [
    {
     "name": "stdout",
     "output_type": "stream",
     "text": [
      "cherry\n",
      "banana\n",
      "apple\n"
     ]
    }
   ],
   "source": [
    "# Loop through the set, and print the values\n",
    "mySet= {\"apple\", \"banana\", \"cherry\"}\n",
    "\n",
    "for x in mySet:\n",
    "      print(x)"
   ]
  },
  {
   "cell_type": "code",
   "execution_count": 93,
   "metadata": {},
   "outputs": [
    {
     "name": "stdout",
     "output_type": "stream",
     "text": [
      "True\n"
     ]
    }
   ],
   "source": [
    "# Check if \"banana\" is present in the set\n",
    "mySet = {\"apple\", \"banana\", \"cherry\"}\n",
    "\n",
    "print(\"banana\" in mySet)"
   ]
  },
  {
   "cell_type": "markdown",
   "metadata": {},
   "source": [
    "### Change Items\n",
    "- Once a set is created, you cannot change its items, but you can add new items."
   ]
  },
  {
   "cell_type": "markdown",
   "metadata": {},
   "source": [
    "##  Add Set Items\n",
    "- Once a set is created, you cannot change its items, but you can add new items.\n",
    "- To add one item to a set use the add() method."
   ]
  },
  {
   "cell_type": "code",
   "execution_count": 94,
   "metadata": {},
   "outputs": [
    {
     "name": "stdout",
     "output_type": "stream",
     "text": [
      "{'cherry', 'banana', 'apple', 'orange'}\n"
     ]
    }
   ],
   "source": [
    "# Add an item to a set, using the add() method:\n",
    "mySet = {\"apple\", \"banana\", \"cherry\"}\n",
    "\n",
    "mySet.add(\"orange\")\n",
    "\n",
    "print(mySet)"
   ]
  },
  {
   "cell_type": "markdown",
   "metadata": {},
   "source": [
    "### Add Sets\n",
    "- To add items from another set into the current set, use the update() method.\n"
   ]
  },
  {
   "cell_type": "code",
   "execution_count": 95,
   "metadata": {},
   "outputs": [
    {
     "name": "stdout",
     "output_type": "stream",
     "text": [
      "{'cherry', 'mango', 'banana', 'papaya', 'pineapple', 'apple'}\n"
     ]
    }
   ],
   "source": [
    "# Add elements from tropical and thisSet into newset\n",
    "thisSet = {\"apple\", \"banana\", \"cherry\"}\n",
    "tropical = {\"pineapple\", \"mango\", \"papaya\"}\n",
    "\n",
    "thisSet.update(tropical)\n",
    "\n",
    "print(thisSet)"
   ]
  },
  {
   "cell_type": "markdown",
   "metadata": {},
   "source": [
    "### Add Any Iterable\n",
    "- The object in the update() method does not have be a set, it can be any iterable object (tuples, lists, dictionaries et,)."
   ]
  },
  {
   "cell_type": "code",
   "execution_count": 96,
   "metadata": {},
   "outputs": [
    {
     "name": "stdout",
     "output_type": "stream",
     "text": [
      "{'banana', 'orange', 'apple', 'cherry', 'kiwi'}\n"
     ]
    }
   ],
   "source": [
    "# Add elements of a list to at set\n",
    "thisSet = {\"apple\", \"banana\", \"cherry\"}\n",
    "mylist = [\"kiwi\", \"orange\"]\n",
    "\n",
    "thisSet.update(mylist)\n",
    "\n",
    "print(thisSet)"
   ]
  },
  {
   "cell_type": "markdown",
   "metadata": {},
   "source": [
    "## Remove Set Items\n",
    "- To remove an item in a set, use the remove(), or the discard() method."
   ]
  },
  {
   "cell_type": "code",
   "execution_count": 97,
   "metadata": {},
   "outputs": [
    {
     "name": "stdout",
     "output_type": "stream",
     "text": [
      "{'cherry', 'apple'}\n"
     ]
    }
   ],
   "source": [
    "# Remove \"banana\" by using the remove() method:\n",
    "mySet = {\"apple\", \"banana\", \"cherry\"}\n",
    "\n",
    "mySet.remove(\"banana\")\n",
    "\n",
    "print(mySet)"
   ]
  },
  {
   "cell_type": "markdown",
   "metadata": {},
   "source": [
    "**Note: If the item to remove does not exist, remove() will raise an error.**"
   ]
  },
  {
   "cell_type": "code",
   "execution_count": 98,
   "metadata": {},
   "outputs": [
    {
     "name": "stdout",
     "output_type": "stream",
     "text": [
      "{'cherry', 'apple'}\n"
     ]
    }
   ],
   "source": [
    "# Remove \"banana\" by using the discard() method:\n",
    "mySet = {\"apple\", \"banana\", \"cherry\"}\n",
    "\n",
    "mySet.discard(\"banana\")\n",
    "\n",
    "print(mySet)"
   ]
  },
  {
   "cell_type": "code",
   "execution_count": 102,
   "metadata": {},
   "outputs": [
    {
     "name": "stdout",
     "output_type": "stream",
     "text": [
      "cherry\n",
      "{'banana', 'apple'}\n"
     ]
    }
   ],
   "source": [
    "# Remove the last item by using the pop() method\n",
    "mySet = {\"apple\", \"banana\", \"cherry\"}\n",
    "\n",
    "x = mySet.pop()\n",
    "\n",
    "print(x)\n",
    "\n",
    "print(mySet)\n",
    "\n",
    "# Note: Sets are unordered, so when using the pop() method, you do not know which item that gets removed."
   ]
  },
  {
   "cell_type": "code",
   "execution_count": 103,
   "metadata": {},
   "outputs": [
    {
     "ename": "NameError",
     "evalue": "name 'mySet' is not defined",
     "output_type": "error",
     "traceback": [
      "\u001b[1;31m---------------------------------------------------------------------------\u001b[0m",
      "\u001b[1;31mNameError\u001b[0m                                 Traceback (most recent call last)",
      "\u001b[1;32m<ipython-input-103-8ded9a0862cc>\u001b[0m in \u001b[0;36m<module>\u001b[1;34m\u001b[0m\n\u001b[0;32m      4\u001b[0m \u001b[1;32mdel\u001b[0m \u001b[0mmySet\u001b[0m\u001b[1;33m\u001b[0m\u001b[1;33m\u001b[0m\u001b[0m\n\u001b[0;32m      5\u001b[0m \u001b[1;33m\u001b[0m\u001b[0m\n\u001b[1;32m----> 6\u001b[1;33m \u001b[0mprint\u001b[0m\u001b[1;33m(\u001b[0m\u001b[0mmySet\u001b[0m\u001b[1;33m)\u001b[0m\u001b[1;33m\u001b[0m\u001b[1;33m\u001b[0m\u001b[0m\n\u001b[0m",
      "\u001b[1;31mNameError\u001b[0m: name 'mySet' is not defined"
     ]
    }
   ],
   "source": [
    "# The del keyword will delete the set completely\n",
    "mySet = {\"apple\", \"banana\", \"cherry\"}\n",
    "\n",
    "del mySet\n",
    "\n",
    "print(mySet)"
   ]
  },
  {
   "cell_type": "markdown",
   "metadata": {},
   "source": [
    "## Loop Sets\n",
    "- You can loop through the set items by using a for loop"
   ]
  },
  {
   "cell_type": "code",
   "execution_count": 66,
   "metadata": {},
   "outputs": [
    {
     "name": "stdout",
     "output_type": "stream",
     "text": [
      "banana\n",
      "cherry\n",
      "apple\n"
     ]
    }
   ],
   "source": [
    "# Loop through the set, and print the values\n",
    "thisSet = {\"apple\", \"banana\", \"cherry\"}\n",
    "\n",
    "for x in thisSet:\n",
    "      print(x)"
   ]
  },
  {
   "cell_type": "code",
   "execution_count": null,
   "metadata": {},
   "outputs": [],
   "source": [
    "# Exercise using a while loop, display the content of the set \"thisSet\"\n"
   ]
  },
  {
   "cell_type": "markdown",
   "metadata": {},
   "source": [
    "## Join Sets\n",
    "\n",
    "### Join Two Sets\n",
    "- There are several ways to join two or more sets in Python.\n",
    "- You can use the union() method that returns a new set containing all items from both sets, or the update() method that inserts all the items from one set into another:"
   ]
  },
  {
   "cell_type": "code",
   "execution_count": 104,
   "metadata": {},
   "outputs": [
    {
     "name": "stdout",
     "output_type": "stream",
     "text": [
      "{1, 'c', 2, 3, 'a', 'b'}\n"
     ]
    }
   ],
   "source": [
    "# The union() method returns a new set with all items from both sets:\n",
    "set1 = {\"a\", \"b\" , \"c\"}\n",
    "set2 = {1, 2, 3}\n",
    "\n",
    "set3 = set1.union(set2)\n",
    "print(set3)\n"
   ]
  },
  {
   "cell_type": "code",
   "execution_count": 105,
   "metadata": {},
   "outputs": [
    {
     "name": "stdout",
     "output_type": "stream",
     "text": [
      "{1, 'c', 2, 3, 'a', 'b'}\n"
     ]
    }
   ],
   "source": [
    "# The update() method inserts the items in set2 into set1:\n",
    "set1 = {\"a\", \"b\" , \"c\"}\n",
    "set2 = {1, 2, 3}\n",
    "\n",
    "set1.update(set2)\n",
    "print(set1)"
   ]
  },
  {
   "cell_type": "markdown",
   "metadata": {},
   "source": [
    "**Note: Both union() and update() will exclude any duplicate items.**"
   ]
  },
  {
   "cell_type": "markdown",
   "metadata": {},
   "source": [
    "###  Keep ONLY the Duplicates\n",
    "- The intersection_update() method will keep only the items that are present in both sets."
   ]
  },
  {
   "cell_type": "code",
   "execution_count": 1,
   "metadata": {},
   "outputs": [
    {
     "name": "stdout",
     "output_type": "stream",
     "text": [
      "{'apple'}\n"
     ]
    }
   ],
   "source": [
    "# Keep the items that exist in both set x, and set y\n",
    "x = {\"apple\", \"banana\", \"cherry\"}\n",
    "y = {\"google\", \"microsoft\", \"apple\"}\n",
    "\n",
    "x.intersection_update(y)\n",
    "\n",
    "print(x)"
   ]
  },
  {
   "cell_type": "markdown",
   "metadata": {},
   "source": [
    "- The intersection() method will return a new set, that only contains the items that are present in both sets."
   ]
  },
  {
   "cell_type": "code",
   "execution_count": 3,
   "metadata": {},
   "outputs": [
    {
     "name": "stdout",
     "output_type": "stream",
     "text": [
      "{'apple'}\n",
      "{'banana', 'cherry', 'apple'}\n"
     ]
    }
   ],
   "source": [
    "# Return a set that contains the items that exist in both set x, and set y\n",
    "x = {\"apple\", \"banana\", \"cherry\"}\n",
    "y = {\"google\", \"microsoft\", \"apple\"}\n",
    "\n",
    "z = x.intersection(y)\n",
    "\n",
    "print(z)\n",
    "\n",
    "print(x)"
   ]
  },
  {
   "cell_type": "markdown",
   "metadata": {},
   "source": [
    "## Exercise on Sets 🔥\n",
    "\n",
    "<img src = \"https://ak2.picdn.net/shutterstock/videos/6441422/thumb/1.jpg?ip=x480\" width = \"200\" />"
   ]
  },
  {
   "cell_type": "code",
   "execution_count": null,
   "metadata": {},
   "outputs": [],
   "source": [
    "# Question 01\n",
    "# Check if \"apple\" is present in the fruits set.\n",
    "fruits = {\"apple\", \"banana\", \"cherry\"}\n"
   ]
  },
  {
   "cell_type": "code",
   "execution_count": null,
   "metadata": {},
   "outputs": [],
   "source": [
    "# Question 02\n",
    "# Use the add method to add \"orange\" to the fruits set.\n",
    "fruits = {\"apple\", \"banana\", \"cherry\"}\n"
   ]
  },
  {
   "cell_type": "code",
   "execution_count": null,
   "metadata": {},
   "outputs": [],
   "source": [
    "# Question 03\n",
    "# Use the correct method to add multiple items (more_fruits) to the fruits set.\n",
    "fruits = {\"apple\", \"banana\", \"cherry\"}\n",
    "more_fruits = [\"orange\", \"mango\", \"grapes\"]\n"
   ]
  },
  {
   "cell_type": "code",
   "execution_count": null,
   "metadata": {},
   "outputs": [],
   "source": [
    "# Question 04\n",
    "# Use the remove method to remove \"banana\" from the fruits set.\n",
    "fruits = {\"apple\", \"banana\", \"cherry\"}\n"
   ]
  },
  {
   "cell_type": "code",
   "execution_count": null,
   "metadata": {},
   "outputs": [],
   "source": [
    "# Question 05\n",
    "# Use the discard method to remove \"banana\" from the fruits set.\n",
    "fruits = {\"apple\", \"banana\", \"cherry\"}\n"
   ]
  },
  {
   "cell_type": "markdown",
   "metadata": {},
   "source": [
    "# Dictionaries 🚀\n",
    "\n",
    "<img src = \"https://www.codeshala.in/wp-content/uploads/2019/09/ultimate-coders-5-best-programming-languages-for-kids.jpg\" width = \"500\" />\n",
    "\n",
    "- Dictionaries are used to store data values in key:value pairs.\n",
    "- A dictionary is a collection which is unordered, changeable and does not allow duplicates.\n",
    "- Dictionaries are written with curly brackets, and have keys and values"
   ]
  },
  {
   "cell_type": "code",
   "execution_count": 4,
   "metadata": {},
   "outputs": [
    {
     "name": "stdout",
     "output_type": "stream",
     "text": [
      "{'brand': 'Ford', 'model': 'Mustang', 'year': 1964}\n"
     ]
    }
   ],
   "source": [
    "# Create and print a dictionary\n",
    "myDictionary = {\n",
    "  \"brand\": \"Ford\",\n",
    "  \"model\": \"Mustang\",\n",
    "  \"year\": 1964\n",
    "}\n",
    "print(myDictionary)\n"
   ]
  },
  {
   "cell_type": "markdown",
   "metadata": {},
   "source": [
    "### Unordered\n",
    "- When we say that dictionaries are unordered, it means that the items does not have a defined order, you cannot refer to an item by using an index.\n",
    "\n",
    "### Changeable\n",
    "- Dictionaries are changeable, meaning that we can change, add or remove items after the dictionary has been created.\n",
    "\n",
    "### Duplicates Not Allowed\n",
    "- Dictionaries cannot have two items with the same key "
   ]
  },
  {
   "cell_type": "code",
   "execution_count": 5,
   "metadata": {},
   "outputs": [
    {
     "name": "stdout",
     "output_type": "stream",
     "text": [
      "{'brand': 'Ford', 'model': 'Mustang', 'year': 2020}\n"
     ]
    }
   ],
   "source": [
    "# Duplicate values will overwrite existing values\n",
    "myDictionary = {\n",
    "  \"brand\": \"Ford\",\n",
    "  \"model\": \"Mustang\",\n",
    "  \"year\": 1964,\n",
    "  \"year\": 2020\n",
    "}\n",
    "\n",
    "print(myDictionary)"
   ]
  },
  {
   "cell_type": "markdown",
   "metadata": {},
   "source": [
    "## Dictionary Length\n",
    "- To determine how many items a dictionary has, use the len() function"
   ]
  },
  {
   "cell_type": "code",
   "execution_count": 7,
   "metadata": {},
   "outputs": [
    {
     "name": "stdout",
     "output_type": "stream",
     "text": [
      "3\n"
     ]
    }
   ],
   "source": [
    "# Print the number of items in the dictionary\n",
    "myDictionary = {\n",
    "  \"brand\": \"Ford\",\n",
    "  \"model\": \"Mustang\",\n",
    "  \"year\": 1964\n",
    "}\n",
    "print(len(myDictionary))"
   ]
  },
  {
   "cell_type": "markdown",
   "metadata": {},
   "source": [
    "## Dictionary Items - Data Types\n",
    "- The values in dictionary items can be of any data type"
   ]
  },
  {
   "cell_type": "code",
   "execution_count": 8,
   "metadata": {},
   "outputs": [
    {
     "name": "stdout",
     "output_type": "stream",
     "text": [
      "{'brand': 'Ford', 'electric': False, 'year': 1964, 'colors': ['red', 'white', 'blue']}\n"
     ]
    }
   ],
   "source": [
    "# String, int, boolean, and list data types\n",
    "myDictionary = {\n",
    "  \"brand\": \"Ford\",\n",
    "  \"electric\": False,\n",
    "  \"year\": 1964,\n",
    "  \"colors\": [\"red\", \"white\", \"blue\"]\n",
    "}\n",
    "\n",
    "print(myDictionary)"
   ]
  },
  {
   "cell_type": "markdown",
   "metadata": {},
   "source": [
    "## type()\n",
    "- From Python's perspective, dictionaries are defined as objects with the data type 'dict'"
   ]
  },
  {
   "cell_type": "code",
   "execution_count": 9,
   "metadata": {},
   "outputs": [
    {
     "name": "stdout",
     "output_type": "stream",
     "text": [
      "<class 'dict'>\n"
     ]
    }
   ],
   "source": [
    "# Print the data type of a dictionary\n",
    "\n",
    "thisDict = {\n",
    "  \"brand\": \"Ford\",\n",
    "  \"model\": \"Mustang\",\n",
    "  \"year\": 1964\n",
    "}\n",
    "print(type(thisDict))"
   ]
  },
  {
   "cell_type": "markdown",
   "metadata": {},
   "source": [
    "## Access Dictionary Items\n",
    "- You can access the items of a dictionary by referring to its key name, inside square brackets"
   ]
  },
  {
   "cell_type": "code",
   "execution_count": 11,
   "metadata": {},
   "outputs": [
    {
     "name": "stdout",
     "output_type": "stream",
     "text": [
      "Mustang\n"
     ]
    }
   ],
   "source": [
    "# Get the value of the \"model\" key\n",
    "thisDict = {\n",
    "  \"brand\": \"Ford\",\n",
    "  \"model\": \"Mustang\",\n",
    "  \"year\": 1964\n",
    "}\n",
    "\n",
    "x = thisDict[\"model\"]\n",
    "print(x)\n"
   ]
  },
  {
   "cell_type": "markdown",
   "metadata": {},
   "source": [
    "- There is also a method called get() that will give you the same result"
   ]
  },
  {
   "cell_type": "code",
   "execution_count": 12,
   "metadata": {},
   "outputs": [
    {
     "name": "stdout",
     "output_type": "stream",
     "text": [
      "Mustang\n"
     ]
    }
   ],
   "source": [
    "# Get the value of the \"model\" key\n",
    "thisDict = {\n",
    "  \"brand\": \"Ford\",\n",
    "  \"model\": \"Mustang\",\n",
    "  \"year\": 1964\n",
    "}\n",
    "\n",
    "x = thisDict.get(\"model\")\n",
    "print(x)"
   ]
  },
  {
   "cell_type": "markdown",
   "metadata": {},
   "source": [
    "## Get Keys\n",
    "- The keys() method will return a list of all the keys in the dictionary."
   ]
  },
  {
   "cell_type": "code",
   "execution_count": 18,
   "metadata": {},
   "outputs": [
    {
     "name": "stdout",
     "output_type": "stream",
     "text": [
      "dict_keys(['brand', 'model', 'year'])\n"
     ]
    }
   ],
   "source": [
    "# Get a list of the keys\n",
    "thisDict = {\n",
    "  \"brand\": \"Ford\",\n",
    "  \"model\": \"Mustang\",\n",
    "  \"year\": 1964\n",
    "}\n",
    "\n",
    "x = thisDict.keys()\n",
    "print(x)"
   ]
  },
  {
   "cell_type": "markdown",
   "metadata": {},
   "source": [
    "- The list of the keys is a view of the dictionary, meaning that any changes done to the dictionary will be reflected in the keys list."
   ]
  },
  {
   "cell_type": "code",
   "execution_count": 21,
   "metadata": {},
   "outputs": [
    {
     "name": "stdout",
     "output_type": "stream",
     "text": [
      "dict_keys(['brand', 'model', 'year'])\n",
      "dict_keys(['brand', 'model', 'year', 'color'])\n"
     ]
    }
   ],
   "source": [
    "# Add a new item to the original dictionary, and see that the value list gets updated as well\n",
    "car = {\n",
    "        \"brand\": \"Ford\",\n",
    "        \"model\": \"Mustang\",\n",
    "        \"year\": 1964\n",
    "      }\n",
    "\n",
    "x = car.keys()\n",
    "\n",
    "#before the change\n",
    "print(x) \n",
    "\n",
    "car[\"color\"] = \"white\"\n",
    "\n",
    "#after the change\n",
    "print(x) "
   ]
  },
  {
   "cell_type": "markdown",
   "metadata": {},
   "source": [
    "## Get Values\n",
    "- The values() method will return a list of all the values in the dictionary."
   ]
  },
  {
   "cell_type": "code",
   "execution_count": 24,
   "metadata": {},
   "outputs": [
    {
     "name": "stdout",
     "output_type": "stream",
     "text": [
      "dict_values(['Ford', 'Mustang', 1964])\n"
     ]
    }
   ],
   "source": [
    "# Get a list of the values\n",
    "car = {\n",
    "        \"brand\": \"Ford\",\n",
    "        \"model\": \"Mustang\",\n",
    "        \"year\": 1964\n",
    "      }\n",
    "\n",
    "x = car.values()\n",
    "print(x)\n"
   ]
  },
  {
   "cell_type": "markdown",
   "metadata": {},
   "source": [
    "- The list of the values is a view of the dictionary, meaning that any changes done to the dictionary will be reflected in the values list."
   ]
  },
  {
   "cell_type": "code",
   "execution_count": 25,
   "metadata": {},
   "outputs": [
    {
     "name": "stdout",
     "output_type": "stream",
     "text": [
      "dict_values(['Ford', 'Mustang', 1964])\n",
      "dict_values(['Ford', 'Mustang', 2020])\n"
     ]
    }
   ],
   "source": [
    "# Add a new item to the original dictionary, and see that the keys list gets updated as well\n",
    "car = {\n",
    "        \"brand\": \"Ford\",\n",
    "        \"model\": \"Mustang\",\n",
    "        \"year\": 1964\n",
    "      }\n",
    "\n",
    "x = car.values()\n",
    "\n",
    "#before the change\n",
    "print(x) \n",
    "\n",
    "car[\"year\"] = 2020\n",
    "\n",
    "#after the change\n",
    "print(x) "
   ]
  },
  {
   "cell_type": "markdown",
   "metadata": {},
   "source": [
    "## Get Items\n",
    "- The items() method will return each item in a dictionary, as tuples in a list"
   ]
  },
  {
   "cell_type": "code",
   "execution_count": 35,
   "metadata": {},
   "outputs": [
    {
     "name": "stdout",
     "output_type": "stream",
     "text": [
      "dict_items([('brand', 'Ford'), ('model', 'Mustang'), ('year', 1964)])\n"
     ]
    }
   ],
   "source": [
    "# Get a list of the key:value pairs\n",
    "car = {\n",
    "        \"brand\": \"Ford\",\n",
    "        \"model\": \"Mustang\",\n",
    "        \"year\": 1964\n",
    "      }\n",
    "\n",
    "x = car.items()\n",
    "print(x)"
   ]
  },
  {
   "cell_type": "markdown",
   "metadata": {},
   "source": [
    "- The returned list is a view of the items of the dictionary, meaning that any changes done to the dictionary will be reflected in the items list."
   ]
  },
  {
   "cell_type": "code",
   "execution_count": 36,
   "metadata": {},
   "outputs": [
    {
     "name": "stdout",
     "output_type": "stream",
     "text": [
      "dict_items([('brand', 'Ford'), ('model', 'Mustang'), ('year', 1964)])\n",
      "dict_items([('brand', 'Ford'), ('model', 'Mustang'), ('year', 2020)])\n"
     ]
    }
   ],
   "source": [
    "# Add a new item to the original dictionary, and see that the items list gets updated as well\n",
    "car = {\n",
    "        \"brand\": \"Ford\",\n",
    "        \"model\": \"Mustang\",\n",
    "        \"year\": 1964\n",
    "      }\n",
    "\n",
    "x = car.items()\n",
    "\n",
    "# before the change\n",
    "print(x)\n",
    "\n",
    "car[\"year\"] = 2020\n",
    "\n",
    "# after the change\n",
    "print(x) "
   ]
  },
  {
   "cell_type": "markdown",
   "metadata": {},
   "source": [
    "## Check if Key Exists\n",
    "- To determine if a specified key is present in a dictionary use the in keyword"
   ]
  },
  {
   "cell_type": "code",
   "execution_count": 37,
   "metadata": {},
   "outputs": [
    {
     "name": "stdout",
     "output_type": "stream",
     "text": [
      "Yes, 'model' is one of the keys in the thisdict dictionary\n"
     ]
    }
   ],
   "source": [
    "# Check if \"model\" is present in the dictionary\n",
    "car = {\n",
    "              \"brand\": \"Ford\",\n",
    "              \"model\": \"Mustang\",\n",
    "              \"year\": 1964\n",
    "           }\n",
    "\n",
    "if \"model\" in car:\n",
    "      print(\"Yes, 'model' is one of the keys in the thisdict dictionary\")"
   ]
  },
  {
   "cell_type": "markdown",
   "metadata": {},
   "source": [
    "## Change Values\n",
    "- You can change the value of a specific item by referring to its key name"
   ]
  },
  {
   "cell_type": "code",
   "execution_count": 38,
   "metadata": {},
   "outputs": [
    {
     "name": "stdout",
     "output_type": "stream",
     "text": [
      "{'brand': 'Ford', 'model': 'Mustang', 'year': 1964}\n",
      "{'brand': 'Ford', 'model': 'Mustang', 'year': 2018}\n"
     ]
    }
   ],
   "source": [
    "# Change the \"year\" to 2018:\n",
    "thisDict = {\n",
    "  \"brand\": \"Ford\",\n",
    "  \"model\": \"Mustang\",\n",
    "  \"year\": 1964\n",
    "}\n",
    "\n",
    "#before changing\n",
    "print(thisDict)\n",
    "\n",
    "thisDict[\"year\"] = 2018\n",
    "\n",
    "# after changing\n",
    "print(thisDict)"
   ]
  },
  {
   "cell_type": "markdown",
   "metadata": {},
   "source": [
    "## Update Dictionary\n",
    "- The update() method will update the dictionary with the items from the given argument.\n",
    "- The argument must be a dictionary, or an iterable object with key:value pairs."
   ]
  },
  {
   "cell_type": "code",
   "execution_count": 39,
   "metadata": {},
   "outputs": [
    {
     "name": "stdout",
     "output_type": "stream",
     "text": [
      "{'brand': 'Ford', 'model': 'Mustang', 'year': 1964}\n",
      "{'brand': 'Ford', 'model': 'Mustang', 'year': 2020}\n"
     ]
    }
   ],
   "source": [
    "# Update the \"year\" of the car by using the update() method:\n",
    "thisDict = {\n",
    "              \"brand\": \"Ford\",\n",
    "              \"model\": \"Mustang\",\n",
    "              \"year\": 1964\n",
    "            }\n",
    "# before changing\n",
    "print(thisDict)\n",
    "\n",
    "thisDict.update({\"year\": 2020})\n",
    "\n",
    "# after changing\n",
    "print(thisDict)"
   ]
  },
  {
   "cell_type": "markdown",
   "metadata": {},
   "source": [
    "## Adding Items\n",
    "- Adding an item to the dictionary is done by using a new index key and assigning a value to it"
   ]
  },
  {
   "cell_type": "code",
   "execution_count": 41,
   "metadata": {},
   "outputs": [
    {
     "name": "stdout",
     "output_type": "stream",
     "text": [
      "{'brand': 'Ford', 'model': 'Mustang', 'year': 1964, 'color': 'red'}\n"
     ]
    }
   ],
   "source": [
    "thisDict = {\n",
    "  \"brand\": \"Ford\",\n",
    "  \"model\": \"Mustang\",\n",
    "  \"year\": 1964\n",
    "}\n",
    "thisDict[\"color\"] = \"red\"\n",
    "\n",
    "print(thisDict)"
   ]
  },
  {
   "cell_type": "markdown",
   "metadata": {},
   "source": [
    "## Update Dictionary\n",
    "- The update() method will update the dictionary with the items from a given argument. If the item does not exist, the item will be added.\n",
    "\n",
    "- The argument must be a dictionary, or an iterable object with key:value pairs."
   ]
  },
  {
   "cell_type": "code",
   "execution_count": 42,
   "metadata": {},
   "outputs": [
    {
     "name": "stdout",
     "output_type": "stream",
     "text": [
      "{'brand': 'Ford', 'model': 'Mustang', 'year': 1964, 'color': 'red'}\n"
     ]
    }
   ],
   "source": [
    "# Add a color item to the dictionary by using the update() method\n",
    "thisDict = {\n",
    "              \"brand\": \"Ford\",\n",
    "              \"model\": \"Mustang\",\n",
    "              \"year\": 1964\n",
    "           }\n",
    "\n",
    "thisDict.update({\"color\": \"red\"})\n",
    "\n",
    "print(thisDict)"
   ]
  },
  {
   "cell_type": "markdown",
   "metadata": {},
   "source": [
    "## Removing Items\n",
    "- There are several methods to remove items from a dictionary"
   ]
  },
  {
   "cell_type": "markdown",
   "metadata": {},
   "source": [
    "- The pop() method removes the item with the specified key name"
   ]
  },
  {
   "cell_type": "code",
   "execution_count": 44,
   "metadata": {},
   "outputs": [
    {
     "name": "stdout",
     "output_type": "stream",
     "text": [
      "{'brand': 'Ford', 'year': 1964}\n"
     ]
    }
   ],
   "source": [
    "thisDict = {\n",
    "              \"brand\": \"Ford\",\n",
    "              \"model\": \"Mustang\",\n",
    "              \"year\": 1964\n",
    "           }\n",
    "\n",
    "thisDict.pop(\"model\")\n",
    "\n",
    "print(thisDict)"
   ]
  },
  {
   "cell_type": "markdown",
   "metadata": {},
   "source": [
    "- The popitem() method removes the last inserted item (in versions before 3.7, a random item is removed instead):"
   ]
  },
  {
   "cell_type": "code",
   "execution_count": 45,
   "metadata": {},
   "outputs": [
    {
     "name": "stdout",
     "output_type": "stream",
     "text": [
      "{'brand': 'Ford', 'model': 'Mustang'}\n"
     ]
    }
   ],
   "source": [
    "thisDict = {\n",
    "              \"brand\": \"Ford\",\n",
    "              \"model\": \"Mustang\",\n",
    "              \"year\": 1964\n",
    "           }\n",
    "\n",
    "thisDict.popitem()\n",
    "\n",
    "print(thisDict)"
   ]
  },
  {
   "cell_type": "markdown",
   "metadata": {},
   "source": [
    "- The del keyword removes the item with the specified key name"
   ]
  },
  {
   "cell_type": "code",
   "execution_count": 46,
   "metadata": {},
   "outputs": [
    {
     "name": "stdout",
     "output_type": "stream",
     "text": [
      "{'brand': 'Ford', 'year': 1964}\n"
     ]
    }
   ],
   "source": [
    "thisDict = {\n",
    "  \"brand\": \"Ford\",\n",
    "  \"model\": \"Mustang\",\n",
    "  \"year\": 1964\n",
    "}\n",
    "\n",
    "del thisDict[\"model\"]\n",
    "\n",
    "print(thisDict)"
   ]
  },
  {
   "cell_type": "markdown",
   "metadata": {},
   "source": [
    "- The del keyword can also delete the dictionary completely"
   ]
  },
  {
   "cell_type": "code",
   "execution_count": 47,
   "metadata": {},
   "outputs": [
    {
     "ename": "NameError",
     "evalue": "name 'thisDict' is not defined",
     "output_type": "error",
     "traceback": [
      "\u001b[1;31m---------------------------------------------------------------------------\u001b[0m",
      "\u001b[1;31mNameError\u001b[0m                                 Traceback (most recent call last)",
      "\u001b[1;32m<ipython-input-47-910566726caf>\u001b[0m in \u001b[0;36m<module>\u001b[1;34m\u001b[0m\n\u001b[0;32m      7\u001b[0m \u001b[1;32mdel\u001b[0m \u001b[0mthisDict\u001b[0m\u001b[1;33m\u001b[0m\u001b[1;33m\u001b[0m\u001b[0m\n\u001b[0;32m      8\u001b[0m \u001b[1;33m\u001b[0m\u001b[0m\n\u001b[1;32m----> 9\u001b[1;33m \u001b[0mprint\u001b[0m\u001b[1;33m(\u001b[0m\u001b[0mthisDict\u001b[0m\u001b[1;33m)\u001b[0m \u001b[1;31m#this will cause an error because \"thisdict\" no longer exists.\u001b[0m\u001b[1;33m\u001b[0m\u001b[1;33m\u001b[0m\u001b[0m\n\u001b[0m",
      "\u001b[1;31mNameError\u001b[0m: name 'thisDict' is not defined"
     ]
    }
   ],
   "source": [
    "thisDict = {\n",
    "  \"brand\": \"Ford\",\n",
    "  \"model\": \"Mustang\",\n",
    "  \"year\": 1964\n",
    "}\n",
    "\n",
    "del thisDict\n",
    "\n",
    "print(thisDict) #this will cause an error because \"thisdict\" no longer exists."
   ]
  },
  {
   "cell_type": "markdown",
   "metadata": {},
   "source": [
    "- The clear() method empties the dictionary"
   ]
  },
  {
   "cell_type": "code",
   "execution_count": 49,
   "metadata": {},
   "outputs": [
    {
     "name": "stdout",
     "output_type": "stream",
     "text": [
      "{}\n"
     ]
    }
   ],
   "source": [
    "thisDict = {\n",
    "              \"brand\": \"Ford\",\n",
    "              \"model\": \"Mustang\",\n",
    "              \"year\": 1964\n",
    "           }\n",
    "\n",
    "thisDict.clear()\n",
    "\n",
    "print(thisDict)"
   ]
  },
  {
   "cell_type": "markdown",
   "metadata": {},
   "source": [
    "## Loop Through a Dictionary\n",
    "- You can loop through a dictionary by using a for loop.\n",
    "- When looping through a dictionary, the return value are the keys of the dictionary, but there are methods to return the values as well."
   ]
  },
  {
   "cell_type": "code",
   "execution_count": 50,
   "metadata": {},
   "outputs": [
    {
     "name": "stdout",
     "output_type": "stream",
     "text": [
      "brand\n",
      "model\n",
      "year\n"
     ]
    }
   ],
   "source": [
    "# Print all key names in the dictionary, one by one\n",
    "thisDict = {\n",
    "              \"brand\": \"Ford\",\n",
    "              \"model\": \"Mustang\",\n",
    "              \"year\": 1964\n",
    "           }\n",
    "\n",
    "for x in thisDict:\n",
    "      print(x)"
   ]
  },
  {
   "cell_type": "code",
   "execution_count": 51,
   "metadata": {},
   "outputs": [
    {
     "name": "stdout",
     "output_type": "stream",
     "text": [
      "Ford\n",
      "Mustang\n",
      "1964\n"
     ]
    }
   ],
   "source": [
    "# Print all values in the dictionary, one by one\n",
    "thisDict = {\n",
    "              \"brand\": \"Ford\",\n",
    "              \"model\": \"Mustang\",\n",
    "              \"year\": 1964\n",
    "           }\n",
    "\n",
    "for x in thisDict:\n",
    "      print(thisDict[x])"
   ]
  },
  {
   "cell_type": "code",
   "execution_count": 53,
   "metadata": {},
   "outputs": [
    {
     "name": "stdout",
     "output_type": "stream",
     "text": [
      "Ford\n",
      "Mustang\n",
      "1964\n"
     ]
    }
   ],
   "source": [
    "# You can also use the values() method to return values of a dictionary\n",
    "thisDict = {\n",
    "              \"brand\": \"Ford\",\n",
    "              \"model\": \"Mustang\",\n",
    "              \"year\": 1964\n",
    "           }\n",
    "\n",
    "for x in thisDict.values():\n",
    "      print(x)\n",
    "        "
   ]
  },
  {
   "cell_type": "code",
   "execution_count": 54,
   "metadata": {},
   "outputs": [
    {
     "name": "stdout",
     "output_type": "stream",
     "text": [
      "brand\n",
      "model\n",
      "year\n"
     ]
    }
   ],
   "source": [
    "# You can use the keys() method to return the keys of a dictionary\n",
    "thisDict = {\n",
    "              \"brand\": \"Ford\",\n",
    "              \"model\": \"Mustang\",\n",
    "              \"year\": 1964\n",
    "           }\n",
    "\n",
    "for x in thisDict.keys():\n",
    "      print(x)\n",
    "        "
   ]
  },
  {
   "cell_type": "code",
   "execution_count": 56,
   "metadata": {},
   "outputs": [
    {
     "name": "stdout",
     "output_type": "stream",
     "text": [
      "brand Ford\n",
      "model Mustang\n",
      "year 1964\n"
     ]
    }
   ],
   "source": [
    "# Loop through both keys and values, by using the items() method\n",
    "thisDict = {\n",
    "              \"brand\": \"Ford\",\n",
    "              \"model\": \"Mustang\",\n",
    "              \"year\": 1964\n",
    "           }\n",
    "\n",
    "for x, y in thisDict.items():\n",
    "      print(x, y)"
   ]
  },
  {
   "cell_type": "markdown",
   "metadata": {},
   "source": [
    "## Copy a Dictionary\n",
    "- You cannot copy a dictionary simply by typing dict2 = dict1, because: dict2 will only be a reference to dict1, and changes made in dict1 will automatically also be made in dict2.\n",
    "- There are ways to make a copy, one way is to use the built-in Dictionary method copy()."
   ]
  },
  {
   "cell_type": "code",
   "execution_count": 58,
   "metadata": {},
   "outputs": [
    {
     "name": "stdout",
     "output_type": "stream",
     "text": [
      "{'brand': 'Ford', 'model': 'Mustang', 'year': 1964}\n"
     ]
    }
   ],
   "source": [
    "# Make a copy of a dictionary with the copy() method\n",
    "thisDict = {\n",
    "              \"brand\": \"Ford\",\n",
    "              \"model\": \"Mustang\",\n",
    "              \"year\": 1964\n",
    "           }\n",
    "\n",
    "copyDict = thisDict.copy()\n",
    "\n",
    "print(copyDict)"
   ]
  },
  {
   "cell_type": "markdown",
   "metadata": {},
   "source": [
    "- Another way to make a copy is to use the built-in function dict()"
   ]
  },
  {
   "cell_type": "code",
   "execution_count": 59,
   "metadata": {},
   "outputs": [
    {
     "name": "stdout",
     "output_type": "stream",
     "text": [
      "{'brand': 'Ford', 'model': 'Mustang', 'year': 1964}\n"
     ]
    }
   ],
   "source": [
    "# Make a copy of a dictionary with the dict() function\n",
    "thisDict = {\n",
    "              \"brand\": \"Ford\",\n",
    "              \"model\": \"Mustang\",\n",
    "              \"year\": 1964\n",
    "           }\n",
    "\n",
    "copyDict = dict(thisDict)\n",
    "\n",
    "print(copyDict)"
   ]
  },
  {
   "cell_type": "markdown",
   "metadata": {},
   "source": [
    "## Nested Dictionaries\n",
    "- A dictionary can contain dictionaries, this is called nested dictionaries."
   ]
  },
  {
   "cell_type": "code",
   "execution_count": 60,
   "metadata": {},
   "outputs": [
    {
     "name": "stdout",
     "output_type": "stream",
     "text": [
      "{'child1': {'name': 'Emil', 'year': 2004}, 'child2': {'name': 'Tobias', 'year': 2007}, 'child3': {'name': 'Linus', 'year': 2011}}\n"
     ]
    }
   ],
   "source": [
    "# Create a dictionary that contain three dictionaries\n",
    "myfamily = {\n",
    "    \n",
    "  \"child1\" : {\n",
    "    \"name\" : \"Emil\",\n",
    "    \"year\" : 2004\n",
    "  },\n",
    "    \n",
    "  \"child2\" : {\n",
    "    \"name\" : \"Tobias\",\n",
    "    \"year\" : 2007\n",
    "  },\n",
    "    \n",
    "  \"child3\" : {\n",
    "    \"name\" : \"Linus\",\n",
    "    \"year\" : 2011\n",
    "  }\n",
    "    \n",
    "}\n",
    "\n",
    "print(myfamily)"
   ]
  },
  {
   "cell_type": "markdown",
   "metadata": {},
   "source": [
    "- Create three dictionaries, then create one dictionary that will contain the other three dictionaries"
   ]
  },
  {
   "cell_type": "code",
   "execution_count": 61,
   "metadata": {},
   "outputs": [
    {
     "name": "stdout",
     "output_type": "stream",
     "text": [
      "{'child1': {'name': 'Emil', 'year': 2004}, 'child2': {'name': 'Tobias', 'year': 2007}, 'child3': {'name': 'Linus', 'year': 2011}}\n"
     ]
    }
   ],
   "source": [
    "child1 = {\n",
    "  \"name\" : \"Emil\",\n",
    "  \"year\" : 2004\n",
    "}\n",
    "\n",
    "child2 = {\n",
    "  \"name\" : \"Tobias\",\n",
    "  \"year\" : 2007\n",
    "}\n",
    "\n",
    "child3 = {\n",
    "  \"name\" : \"Linus\",\n",
    "  \"year\" : 2011\n",
    "}\n",
    "\n",
    "myfamily = {\n",
    "  \"child1\" : child1,\n",
    "  \"child2\" : child2,\n",
    "  \"child3\" : child3\n",
    "}\n",
    "\n",
    "print(myfamily)"
   ]
  },
  {
   "cell_type": "markdown",
   "metadata": {},
   "source": [
    "## Exericse Dictionary\n",
    "\n",
    "<img src = \"https://ak2.picdn.net/shutterstock/videos/6441422/thumb/1.jpg?ip=x480\" width = \"200\" />"
   ]
  },
  {
   "cell_type": "code",
   "execution_count": null,
   "metadata": {},
   "outputs": [],
   "source": [
    "# Question 01\n",
    "# Use the get method to print the value of the \"model\" key of the car dictionary.\n",
    "\n",
    "car = {\n",
    "  \"brand\": \"Ford\",\n",
    "  \"model\": \"Mustang\",\n",
    "  \"year\": 1964\n",
    "}\n"
   ]
  },
  {
   "cell_type": "code",
   "execution_count": null,
   "metadata": {},
   "outputs": [],
   "source": [
    "# Question 02\n",
    "# Change the \"year\" value from 1964 to 2020.\n",
    "\n",
    "car = {\n",
    "  \"brand\": \"Ford\",\n",
    "  \"model\": \"Mustang\",\n",
    "  \"year\": 1964\n",
    "}\n",
    "\n"
   ]
  },
  {
   "cell_type": "code",
   "execution_count": null,
   "metadata": {},
   "outputs": [],
   "source": [
    "# Question 03\n",
    "# Add the key/value pair \"color\" : \"red\" to the car dictionary.\n",
    "\n",
    "car = {\n",
    "  \"brand\": \"Ford\",\n",
    "  \"model\": \"Mustang\",\n",
    "  \"year\": 1964\n",
    "}\n",
    "\n"
   ]
  },
  {
   "cell_type": "code",
   "execution_count": null,
   "metadata": {},
   "outputs": [],
   "source": [
    "# Question 04\n",
    "# Use the pop method to remove \"model\" from the car dictionary\n",
    "\n",
    "car = {\n",
    "  \"brand\": \"Ford\",\n",
    "  \"model\": \"Mustang\",\n",
    "  \"year\": 1964\n",
    "}\n"
   ]
  },
  {
   "cell_type": "code",
   "execution_count": 3,
   "metadata": {},
   "outputs": [],
   "source": [
    "# Question 05\n",
    "# Use the clear method to empty the car dictionary\n",
    "\n",
    "car = {\n",
    "  \"brand\": \"Ford\",\n",
    "  \"model\": \"Mustang\",\n",
    "  \"year\": 1964\n",
    "}\n",
    "\n"
   ]
  },
  {
   "cell_type": "markdown",
   "metadata": {},
   "source": [
    "## Stacks 🚀🚀🚀\n",
    "<img src=\"https://marketingland.com/wp-content/ml-loads/2016/03/stacks_ss_1920.png\" width=\"400\" />"
   ]
  },
  {
   "cell_type": "markdown",
   "metadata": {},
   "source": [
    "### What is a Stack?\n",
    "- A stack is a **linear data structure** that stores items in a **Last-In/First-Out (LIFO) or First-In/Last-Out (FILO) manner.** \n",
    "\n",
    "- In stack, a new element is added at one end and an element is removed from that end only\n",
    "\n",
    "- The insert and delete operations are often called **push** and **pop.**\n",
    "\n",
    "<img src=\"https://www.studytonight.com/data-structures/images/stack-data-structure.png\" width=\"600\" /> \n",
    "\n",
    "- There are some **basic operations** of stack as follows:\n",
    "        \n",
    "           1. push(): Pushing elements into the stack.\n",
    "           2. pop(): Removing an element from the stack.\n",
    "           3. peek(): Get the top data element of the stack, without removing it.\n",
    "           4. isFull(): Checks if the stack is full\n",
    "           5. isEmpty(): Checks if the stack is empty."
   ]
  },
  {
   "cell_type": "markdown",
   "metadata": {},
   "source": [
    "---\n",
    "\n",
    "### Push Operation (Algorithm steps specially when making pseudocodes)\n",
    "\n",
    "**Step 01**: Checks if the stack is FULL\n",
    "\n",
    "**Step 02**: If the stack is full, produces an error and exit.\n",
    "\n",
    "**Step 03**: If the stack is not FULL, increments TOP to point next empty space.\n",
    "\n",
    "**Step 04**: Adds data element to the stack location, where top is pointing.\n",
    "\n",
    "**Step 05**: Returns Success.\n",
    "\n",
    "---\n",
    "\n",
    "### Pop Operation (Algorithm steps specially when making pseudocodes)\n",
    "\n",
    "**Step 01**: Checks if the stack is EMPTY\n",
    "\n",
    "**Step 02**: If the stack is EMPTY, produces an error and exit.\n",
    "\n",
    "**Step 03**: If the stack is not EMPTY, access the data element at which TOP is pointing.\n",
    "\n",
    "**Step 04**: Decreases the value of TOP by one.\n",
    "\n",
    "**Step 05**: Returns Success.\n",
    "\n",
    "---\n"
   ]
  },
  {
   "cell_type": "code",
   "execution_count": 29,
   "metadata": {},
   "outputs": [],
   "source": [
    "# Assuming we have an empty list as the starter stack and the max number of elements can be added are up to 5 \n",
    "stack = []\n",
    "\n",
    "# isFull() function\n",
    "def isFull():\n",
    "    if len(stack) == 5: \n",
    "        return True\n",
    "    else:\n",
    "        return False\n",
    "\n",
    "# isEmpty() function\n",
    "def isEmpty():\n",
    "    if len(stack) == 0: \n",
    "        return True\n",
    "    else:\n",
    "        return False\n",
    "\n",
    "    \n",
    "# peek() function\n",
    "def peek():\n",
    "    print(\"This is the item at the TOP of the stack: \", stack[len(stack) - 1], \"\\n\")\n",
    "\n",
    "# pop() function \n",
    "def pop():\n",
    "    if (isEmpty()):\n",
    "        print(\"Stack is Empty!\")\n",
    "    else:\n",
    "        itemPopped = stack.pop()\n",
    "        print(itemPopped, \"has been popped out from the stack\")\n",
    "        print(\"This is the updated the stack view: \", stack, \"\\n\")\n",
    "        \n",
    "\n",
    "# push() function\n",
    "def push(item):\n",
    "    if(isFull()):\n",
    "        print(\"Stack is FULL!\")\n",
    "    else:\n",
    "        stack.append(item)\n",
    "        print(\"Item successfully added!\")\n",
    "        print(\"This is the updated the stack view: \", stack, \"\\n\")\n"
   ]
  },
  {
   "cell_type": "code",
   "execution_count": 30,
   "metadata": {},
   "outputs": [
    {
     "name": "stdout",
     "output_type": "stream",
     "text": [
      "Item successfully added!\n",
      "This is the updated the stack view:  [1] \n",
      "\n",
      "Item successfully added!\n",
      "This is the updated the stack view:  [1, 2] \n",
      "\n",
      "Item successfully added!\n",
      "This is the updated the stack view:  [1, 2, 3] \n",
      "\n",
      "This is the item at the TOP of the stack:  3 \n",
      "\n",
      "Item successfully added!\n",
      "This is the updated the stack view:  [1, 2, 3, 4] \n",
      "\n",
      "Item successfully added!\n",
      "This is the updated the stack view:  [1, 2, 3, 4, 5] \n",
      "\n",
      "This is the item at the TOP of the stack:  5 \n",
      "\n",
      "Stack is FULL!\n"
     ]
    }
   ],
   "source": [
    "# Running the stack\n",
    "\n",
    "# pushing 3 elements into the stack\n",
    "push(1)\n",
    "push(2)\n",
    "push(3)\n",
    "\n",
    "# using the peek() to get the item at the TOP of the stack\n",
    "peek()\n",
    "\n",
    "# pushing 2 elements into the stack\n",
    "push(4)\n",
    "push(5)\n",
    "\n",
    "# using the peek() to get the item at the TOP of the stack\n",
    "peek()\n",
    "\n",
    "# pushing the 6th element which exceeds the size of the stack\n",
    "push(6)"
   ]
  },
  {
   "cell_type": "code",
   "execution_count": 16,
   "metadata": {},
   "outputs": [
    {
     "name": "stdout",
     "output_type": "stream",
     "text": [
      "[1, 2, 3, 4, 5]\n"
     ]
    }
   ],
   "source": [
    "# Now lets check the size of the stack\n",
    "print(stack)\n",
    "\n",
    "# As you can see that the 6th element is NOT added to the stack"
   ]
  },
  {
   "cell_type": "code",
   "execution_count": 17,
   "metadata": {
    "scrolled": true
   },
   "outputs": [
    {
     "name": "stdout",
     "output_type": "stream",
     "text": [
      "5 has been popped out from the stack\n",
      "This is the updated the stack view:  [1, 2, 3, 4] \n",
      "\n",
      "4 has been popped out from the stack\n",
      "This is the updated the stack view:  [1, 2, 3] \n",
      "\n",
      "3 has been popped out from the stack\n",
      "This is the updated the stack view:  [1, 2] \n",
      "\n",
      "2 has been popped out from the stack\n",
      "This is the updated the stack view:  [1] \n",
      "\n",
      "1 has been popped out from the stack\n",
      "This is the updated the stack view:  [] \n",
      "\n",
      "Stack is Empty!\n"
     ]
    }
   ],
   "source": [
    "# performing POP operations\n",
    "\n",
    "# popping all the 5 elements from the list\n",
    "pop()\n",
    "pop()\n",
    "pop()\n",
    "pop()\n",
    "pop()\n",
    "\n",
    "\n",
    "# popping the 6th element from the list\n",
    "pop()\n"
   ]
  },
  {
   "cell_type": "code",
   "execution_count": 19,
   "metadata": {},
   "outputs": [
    {
     "name": "stdout",
     "output_type": "stream",
     "text": [
      "[]\n"
     ]
    }
   ],
   "source": [
    "# Now lets check the size of the stack\n",
    "print(stack)\n",
    "\n",
    "# Now you can see that the stack is empty!!!\n",
    "# Thats all about STACKS\n"
   ]
  },
  {
   "cell_type": "markdown",
   "metadata": {},
   "source": [
    "## Queues🚀🚀🚀\n",
    "<img src=\"https://www.tensator.com/wp-content/uploads/ab8c99f7f70de8e3504651010adb7fb9.jpg\" width=\"400\" />\n",
    "\n",
    "- A queue is a **linear data structure** that stores items in **First In First Out (FIFO) manner**\n",
    "\n",
    "-  With a queue the **least recently added item is removed first** (First In First Out)\n",
    "\n",
    "- A good example of **queue is any queue of consumers for a resource where the consumer that came first is served first.**\n",
    "\n",
    "<img src=\"https://www.tutorialandexample.com/wp-content/uploads/2020/05/Queue-in-DS-1.jpg\" width=\"500\" /> \n",
    "\n",
    "- There are some **basic operations** of stack as follows:\n",
    "        \n",
    "           1. enqueue(): Add an item into the queue.\n",
    "           2. dequeue(): Remove an item from the queue.\n",
    "           3. peek(): Gets the element at the front of the queue without removing it.\n",
    "           4. isFull(): Checks if the queue is full.\n",
    "           5. isEmpty(): Checks if the queue is empty.\n",
    "           \n",
    "#### NOTE: We always dequeue data, pointed  by front pointer and on the other hand enqueing data from the rear pointer end.\n",
    "\n",
    "---\n",
    "\n",
    "### Enqueue Operation (Algorithm steps specially when making pseudocodes)\n",
    "\n",
    "**Step 01**: Checks if the queue is FULL\n",
    "\n",
    "**Step 02**: If the queue is FULL, produces an overflow error and exit.\n",
    "\n",
    "**Step 03**: If the queue is not FULL, increments REAR pointer to point next empty space.\n",
    "\n",
    "**Step 04**: Adds data element to the queue location, where the REAR is pointing.\n",
    "\n",
    "**Step 05**: Returns Success.\n",
    "\n",
    "---\n",
    "\n",
    "### Dequeue Operation (Algorithm steps specially when making pseudocodes)\n",
    "\n",
    "**Step 01**: Checks if the queue is EMPTY\n",
    "\n",
    "**Step 02**: If the queue is EMPTY, produces an underflow error and exit.\n",
    "\n",
    "**Step 03**: If the queue is not EMPTY, access the data where FRONT is pointing.\n",
    "\n",
    "**Step 04**: Increment FRONT pointer to point to the next available data element.\n",
    "\n",
    "**Step 05**: Returns Success.\n",
    "\n",
    "---"
   ]
  },
  {
   "cell_type": "code",
   "execution_count": 38,
   "metadata": {},
   "outputs": [],
   "source": [
    "# Assuming we have an empty list as the starter queue and the max number of elements can be added are up to 5 \n",
    "queue = []\n",
    "\n",
    "# isFull() function\n",
    "def isFull():\n",
    "    if len(queue) == 5: \n",
    "        return True\n",
    "    else:\n",
    "        return False\n",
    "\n",
    "# isEmpty() function\n",
    "def isEmpty():\n",
    "    if len(queue) == 0: \n",
    "        return True\n",
    "    else:\n",
    "        return False\n",
    "    \n",
    "    \n",
    "# peek() function\n",
    "def peek():\n",
    "    print(\"This is the item at the FRONT of the queue: \",queue[0], \"\\n\")\n",
    "    \n",
    "# enqueue() function\n",
    "def enqueue(item):\n",
    "    if(isFull()):\n",
    "        print(\"The queue is FULL \\n\")\n",
    "    else:\n",
    "        queue.append(item)\n",
    "        print(\"The updated queue:\", queue,\"\\n\")\n",
    "    \n",
    "# dequeue() function\n",
    "def dequeue():\n",
    "    if(isEmpty()):\n",
    "        print(\"The queue is EMPTY \\n\")\n",
    "    else:\n",
    "        itemDequeued = queue.pop(0)\n",
    "        print(\"The updated queue:\", queue,\"\\n\")\n",
    "    "
   ]
  },
  {
   "cell_type": "code",
   "execution_count": 40,
   "metadata": {},
   "outputs": [
    {
     "name": "stdout",
     "output_type": "stream",
     "text": [
      "The updated queue: [3, 4, 5, 1] \n",
      "\n",
      "The updated queue: [3, 4, 5, 1, 2] \n",
      "\n",
      "The queue is FULL \n",
      "\n",
      "This is the item at the FRONT of the queue:  3 \n",
      "\n",
      "The queue is FULL \n",
      "\n",
      "The queue is FULL \n",
      "\n",
      "The queue is FULL \n",
      "\n",
      "The updated queue: [4, 5, 1, 2] \n",
      "\n",
      "The updated queue: [5, 1, 2] \n",
      "\n",
      "This is the item at the FRONT of the queue:  5 \n",
      "\n",
      "The updated queue: [5, 1, 2, 7] \n",
      "\n",
      "The updated queue: [5, 1, 2, 7, 8] \n",
      "\n"
     ]
    }
   ],
   "source": [
    "# Running the queue\n",
    "\n",
    "# adding 3 items into the queue\n",
    "enqueue(1)\n",
    "enqueue(2)\n",
    "enqueue(3)\n",
    "\n",
    "# checking the peek (FRONT item) from the queue\n",
    "peek()\n",
    "\n",
    "# adding 3 items into the queue\n",
    "enqueue(4)\n",
    "enqueue(5)\n",
    "enqueue(6)  # this won't be added, queue becomes FULL  \n",
    "\n",
    "# performing dequeue operation\n",
    "dequeue()\n",
    "dequeue()\n",
    "\n",
    "# checking the peek (FRONT item) from the queue\n",
    "peek()\n",
    "\n",
    "# adding 2 items into the queue\n",
    "enqueue(7)\n",
    "enqueue(8)"
   ]
  },
  {
   "cell_type": "code",
   "execution_count": null,
   "metadata": {},
   "outputs": [],
   "source": []
  },
  {
   "cell_type": "markdown",
   "metadata": {},
   "source": [
    "# Completed !!! 🎉🎊¶"
   ]
  },
  {
   "cell_type": "code",
   "execution_count": null,
   "metadata": {},
   "outputs": [],
   "source": []
  }
 ],
 "metadata": {
  "kernelspec": {
   "display_name": "Python 3",
   "language": "python",
   "name": "python3"
  },
  "language_info": {
   "codemirror_mode": {
    "name": "ipython",
    "version": 3
   },
   "file_extension": ".py",
   "mimetype": "text/x-python",
   "name": "python",
   "nbconvert_exporter": "python",
   "pygments_lexer": "ipython3",
   "version": "3.7.4"
  }
 },
 "nbformat": 4,
 "nbformat_minor": 4
}
