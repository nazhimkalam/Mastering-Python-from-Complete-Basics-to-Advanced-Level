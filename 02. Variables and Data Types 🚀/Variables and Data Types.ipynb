{
 "cells": [
  {
   "cell_type": "markdown",
   "metadata": {},
   "source": [
    "# Variables and Data Types 🔥"
   ]
  },
  {
   "cell_type": "markdown",
   "metadata": {},
   "source": [
    "## Indentation\n",
    "- Indentation refers to the spaces at the beginning of a code line.\n",
    "\n",
    "- Where in other programming languages the indentation in code is for readability only, the indentation in Python is very important.\n",
    "\n",
    "- Python uses indentation to indicate a block of code."
   ]
  },
  {
   "cell_type": "markdown",
   "metadata": {},
   "source": [
    "# Variables 🚀"
   ]
  },
  {
   "cell_type": "markdown",
   "metadata": {},
   "source": [
    "**Variable are containers for storing data values.**"
   ]
  },
  {
   "cell_type": "markdown",
   "metadata": {},
   "source": [
    "## Creating a Variable\n",
    "**A variable is created the moment you first assign a value to it.**"
   ]
  },
  {
   "cell_type": "code",
   "execution_count": 1,
   "metadata": {},
   "outputs": [
    {
     "name": "stdout",
     "output_type": "stream",
     "text": [
      "5\n"
     ]
    }
   ],
   "source": [
    "x = 5\n",
    "print(x)"
   ]
  },
  {
   "cell_type": "code",
   "execution_count": 2,
   "metadata": {},
   "outputs": [
    {
     "name": "stdout",
     "output_type": "stream",
     "text": [
      "Nazhim\n"
     ]
    }
   ],
   "source": [
    "y = \"Nazhim\"\n",
    "print(y)"
   ]
  },
  {
   "cell_type": "code",
   "execution_count": 3,
   "metadata": {},
   "outputs": [
    {
     "name": "stdout",
     "output_type": "stream",
     "text": [
      "2.56\n"
     ]
    }
   ],
   "source": [
    "z = 2.56\n",
    "print(z)"
   ]
  },
  {
   "cell_type": "code",
   "execution_count": 6,
   "metadata": {},
   "outputs": [
    {
     "name": "stdout",
     "output_type": "stream",
     "text": [
      "True\n",
      "False\n"
     ]
    }
   ],
   "source": [
    "a = True\n",
    "b = False\n",
    "\n",
    "print(a)\n",
    "print(b)"
   ]
  },
  {
   "cell_type": "markdown",
   "metadata": {},
   "source": [
    "**Variables do not need to be declared with any particular type, and can even change type after they have been set.**"
   ]
  },
  {
   "cell_type": "code",
   "execution_count": 8,
   "metadata": {},
   "outputs": [
    {
     "name": "stdout",
     "output_type": "stream",
     "text": [
      "5\n",
      "Kevin\n"
     ]
    }
   ],
   "source": [
    "# Firstly the variable 'number' is stores 5 \n",
    "number = 5\n",
    "print(number)\n",
    "\n",
    "# Now, we update the content of the variable 'number' \n",
    "number = \"Kevin\"\n",
    "print(number)\n"
   ]
  },
  {
   "cell_type": "markdown",
   "metadata": {},
   "source": [
    "## What are comments ?\n",
    "**Comments can be used to explain Python code.**\n",
    "\n",
    "**Comments can be used to make the code more readable.**\n",
    "\n",
    "**Comments can be used to prevent execution when testing code.**\n",
    "\n",
    "**Comments starts with a #**\n",
    "\n",
    "**Comments have no affect with the program code, its only used to give the user some meaning of the code**"
   ]
  },
  {
   "cell_type": "markdown",
   "metadata": {},
   "source": [
    "### Single Line Comment"
   ]
  },
  {
   "cell_type": "code",
   "execution_count": null,
   "metadata": {},
   "outputs": [],
   "source": [
    "# This is a single line comment"
   ]
  },
  {
   "cell_type": "markdown",
   "metadata": {},
   "source": [
    "### Multi Line Comment"
   ]
  },
  {
   "cell_type": "code",
   "execution_count": null,
   "metadata": {},
   "outputs": [],
   "source": [
    "# This\n",
    "# is \n",
    "# a \n",
    "# multi\n",
    "# line \n",
    "# comment"
   ]
  },
  {
   "cell_type": "markdown",
   "metadata": {},
   "source": [
    "## Casting\n",
    "**If you want to specify the data type of a variable, this can be done with casting.**\n",
    "\n",
    "**You can get the data type of a variable with the type() function.**"
   ]
  },
  {
   "cell_type": "code",
   "execution_count": 21,
   "metadata": {},
   "outputs": [
    {
     "name": "stdout",
     "output_type": "stream",
     "text": [
      "3 3 3.0\n",
      "<class 'str'> <class 'int'> <class 'float'>\n"
     ]
    }
   ],
   "source": [
    "x = str(3)    # x will be '3'\n",
    "y = int(3)    # y will be 3\n",
    "z = float(3)  # z will be 3.0\n",
    "\n",
    "print(x, y, z)\n",
    "print(type(x), type(y), type(z))"
   ]
  },
  {
   "cell_type": "markdown",
   "metadata": {},
   "source": [
    "## Single or Double Quotes in Strings"
   ]
  },
  {
   "cell_type": "code",
   "execution_count": 22,
   "metadata": {},
   "outputs": [
    {
     "name": "stdout",
     "output_type": "stream",
     "text": [
      "Nazhim\n",
      "Nazhim\n"
     ]
    }
   ],
   "source": [
    "x = \"Nazhim\"\n",
    "y = 'Nazhim'\n",
    "\n",
    "print(x)\n",
    "print(y)"
   ]
  },
  {
   "cell_type": "markdown",
   "metadata": {},
   "source": [
    "## Case Sensitive\n",
    "**Variable names are case-sensitive**"
   ]
  },
  {
   "cell_type": "code",
   "execution_count": 23,
   "metadata": {},
   "outputs": [
    {
     "name": "stdout",
     "output_type": "stream",
     "text": [
      "4 Sally\n"
     ]
    }
   ],
   "source": [
    "a = 4\n",
    "A = \"Sally\"\n",
    "\n",
    "# A will not overwrite a\n",
    "\n",
    "print(a, A)"
   ]
  },
  {
   "cell_type": "markdown",
   "metadata": {},
   "source": [
    "## Quick Code Summary Example of what Variables and Comments "
   ]
  },
  {
   "cell_type": "code",
   "execution_count": 24,
   "metadata": {},
   "outputs": [
    {
     "name": "stdout",
     "output_type": "stream",
     "text": [
      "My name is Nazhim\n",
      "I am 25 years old\n",
      "I am 6.1 feet tall\n"
     ]
    }
   ],
   "source": [
    "name = \"Nazhim\"  # variable 'name' stores the String 'Nazhim'\n",
    "age = 25         # variable 'age' stores the integer number 25\n",
    "height = 6.1     # variable 'height' stores the decimal value 6.1\n",
    "\n",
    "\n",
    "# Now let's print out the results of the variables\n",
    "print(\"My name is \" + name)     # we don't cast the name variable because its already in the same type which is String\n",
    "print(\"I am \" + str(age) + \" years old\")  \n",
    "print(\"I am \" + str(height) + \" feet tall\")\n"
   ]
  },
  {
   "cell_type": "markdown",
   "metadata": {},
   "source": [
    "## Exercise 01"
   ]
  },
  {
   "cell_type": "markdown",
   "metadata": {},
   "source": [
    "### Question 01\n",
    "**Create a variable named myName and assign your name to it and display your name as follow**\n",
    "\n",
    "eg:- **My name is Jhon**"
   ]
  },
  {
   "cell_type": "code",
   "execution_count": 28,
   "metadata": {},
   "outputs": [
    {
     "name": "stdout",
     "output_type": "stream",
     "text": [
      "My name is Nazhim\n"
     ]
    }
   ],
   "source": [
    "myName = \"Nazhim\"\n",
    "print(\"My name is \" + myName)"
   ]
  },
  {
   "cell_type": "markdown",
   "metadata": {},
   "source": [
    "### Question 02\n",
    "**Create a variable named x and assign the value 50 to it and display it as follows**\n",
    "\n",
    "eg:- **50 is a number**"
   ]
  },
  {
   "cell_type": "code",
   "execution_count": 32,
   "metadata": {},
   "outputs": [
    {
     "name": "stdout",
     "output_type": "stream",
     "text": [
      "50 is a number\n"
     ]
    }
   ],
   "source": [
    "x = 50\n",
    "print(str(x) + \" is a number\")"
   ]
  },
  {
   "cell_type": "markdown",
   "metadata": {},
   "source": [
    "### Question 03\n",
    "**Display the sum of 5 + 10, using two variables: x and y**\n",
    "\n",
    "eg:- **The sum of 5 and 10 is equal to 15**"
   ]
  },
  {
   "cell_type": "code",
   "execution_count": 33,
   "metadata": {},
   "outputs": [
    {
     "name": "stdout",
     "output_type": "stream",
     "text": [
      "The sum of 5 and 10 is equal to 15\n"
     ]
    }
   ],
   "source": [
    "x = 5\n",
    "y = 10\n",
    "print(\"The sum of \" + str(x) + \" and \" + str(y) + \" is equal to \" + str(x+y))"
   ]
  },
  {
   "cell_type": "markdown",
   "metadata": {},
   "source": [
    "### Question 04\n",
    "**Create a variable called z, assign x + y to it, and display the result.**\n",
    "\n",
    "eg:- **The sum of 5 and 10 is equal to 15**"
   ]
  },
  {
   "cell_type": "code",
   "execution_count": 34,
   "metadata": {},
   "outputs": [
    {
     "name": "stdout",
     "output_type": "stream",
     "text": [
      "The sum of 5 and 10 is equal to 15\n"
     ]
    }
   ],
   "source": [
    "x = 5\n",
    "y = 10\n",
    "\n",
    "z = x + y\n",
    "print(\"The sum of \" + str(x) + \" and \" + str(y) + \" is equal to \" + str(z))"
   ]
  },
  {
   "cell_type": "markdown",
   "metadata": {},
   "source": [
    "### Question 05\n",
    "**Remove the illegal characters in the variable name (to make sure that your answer is correct or not, display the result of the variable)**\n",
    "\n",
    "**2my-first_name = \"John\"**"
   ]
  },
  {
   "cell_type": "code",
   "execution_count": 38,
   "metadata": {},
   "outputs": [
    {
     "name": "stdout",
     "output_type": "stream",
     "text": [
      "John\n"
     ]
    }
   ],
   "source": [
    "# 2my-first_name = \"John\"\n",
    "\n",
    "# Remove all the special character such as -,+,/,*,$,%.@ etc  (UnderScores are allowed _)\n",
    "myfirst_name = \"John\"\n",
    "print(myfirst_name)"
   ]
  },
  {
   "cell_type": "markdown",
   "metadata": {},
   "source": [
    "### Question 06\n",
    "**Insert the correct syntax to assign the same value to all three variables in one code line.**\n",
    "\n",
    "**x _ y _ z _ \"Orange\"**"
   ]
  },
  {
   "cell_type": "code",
   "execution_count": 40,
   "metadata": {},
   "outputs": [
    {
     "name": "stdout",
     "output_type": "stream",
     "text": [
      "Orange\n",
      "Orange\n",
      "Orange\n"
     ]
    }
   ],
   "source": [
    "x = y = z = \"Orange\"\n",
    "\n",
    "print(x)\n",
    "print(y)\n",
    "print(z)"
   ]
  },
  {
   "cell_type": "markdown",
   "metadata": {},
   "source": [
    "### Question 07\n",
    "**Assign 3 different numbers in 3 different variables and display its product**\n",
    "\n",
    "eg:- **4 x 2 x 1 = 8**"
   ]
  },
  {
   "cell_type": "code",
   "execution_count": 42,
   "metadata": {},
   "outputs": [
    {
     "name": "stdout",
     "output_type": "stream",
     "text": [
      "4 x 2 x 1 = 8\n"
     ]
    }
   ],
   "source": [
    "num1 = 4\n",
    "num2 = 2\n",
    "num3 = 1\n",
    "num4 = num1 * num2 * num3\n",
    "print(str(num1) + \" x \" + str(num2) + \" x \" + str(num3) + \" = \" + str(num4))"
   ]
  },
  {
   "cell_type": "markdown",
   "metadata": {},
   "source": [
    "### Question 08\n",
    "**For the given variables display the variable type using the type() function**\n",
    "\n",
    "Sample Output\n",
    "eg:- **<class 'int'>**"
   ]
  },
  {
   "cell_type": "code",
   "execution_count": 43,
   "metadata": {},
   "outputs": [
    {
     "name": "stdout",
     "output_type": "stream",
     "text": [
      "<class 'str'>\n",
      "<class 'int'>\n",
      "<class 'float'>\n"
     ]
    }
   ],
   "source": [
    "x = \"Jhon\"\n",
    "y = 10\n",
    "z = 2.5\n",
    "\n",
    "print(type(x))\n",
    "print(type(y))\n",
    "print(type(z))"
   ]
  },
  {
   "cell_type": "markdown",
   "metadata": {},
   "source": [
    "### Question 09\n",
    "**Use the following variables to display an output like the one given in the example**\n",
    "\n",
    "eg:- **My name is Harry and I am 18 years old**\n"
   ]
  },
  {
   "cell_type": "code",
   "execution_count": 45,
   "metadata": {},
   "outputs": [
    {
     "name": "stdout",
     "output_type": "stream",
     "text": [
      "My name is Harry and I am 18 years old\n"
     ]
    }
   ],
   "source": [
    "name = \"Harry\"\n",
    "age = 18\n",
    "\n",
    "print(\"My name is\", name, \"and I am\", age, \"years old\")"
   ]
  },
  {
   "cell_type": "markdown",
   "metadata": {},
   "source": [
    "### Question 10\n",
    "**Use comments to explain whats happening in each line code given below**"
   ]
  },
  {
   "cell_type": "code",
   "execution_count": 46,
   "metadata": {},
   "outputs": [
    {
     "name": "stdout",
     "output_type": "stream",
     "text": [
      "26\n"
     ]
    }
   ],
   "source": [
    "num1 = 10  # Assigning value of 10 to variable num1\n",
    "num2 = 16  # Assigning value of 16 to variable num2\n",
    "num3 = num1 + num2  # Assigning the total of num1 and num2 to variable num3\n",
    "\n",
    "print(num3) # displaying the content of num3"
   ]
  },
  {
   "cell_type": "markdown",
   "metadata": {},
   "source": [
    "# Data Types 🚀"
   ]
  },
  {
   "cell_type": "markdown",
   "metadata": {},
   "source": [
    "## Built-in Data Types\n",
    "\n",
    "**In programming, data type is an important concept.**\n",
    "\n",
    "**Variables can store data of different types, and different types can do different things.**\n",
    "\n",
    "**In Python, the data type is set when you assign a value to a variable**\n",
    "\n",
    "**Python has a number of data types as follows built-in by default**\n",
    "\n",
    "eg:- *str, int, float, complex, list, tuple, range, dict, set, bool, bytes etc...*"
   ]
  },
  {
   "cell_type": "markdown",
   "metadata": {},
   "source": [
    "## Getting the Data Type"
   ]
  },
  {
   "cell_type": "code",
   "execution_count": 2,
   "metadata": {},
   "outputs": [
    {
     "name": "stdout",
     "output_type": "stream",
     "text": [
      "<class 'int'>\n",
      "<class 'str'>\n",
      "<class 'float'>\n"
     ]
    }
   ],
   "source": [
    "x = 5\n",
    "y = \"Harry\"\n",
    "z = 1.2\n",
    "\n",
    "print(type(x))\n",
    "print(type(y))\n",
    "print(type(z))"
   ]
  },
  {
   "cell_type": "markdown",
   "metadata": {},
   "source": [
    "## Setting the Specific Data Type\n",
    "**If you want to specify the data type, you can use the following constructor functions**"
   ]
  },
  {
   "cell_type": "code",
   "execution_count": 12,
   "metadata": {},
   "outputs": [
    {
     "name": "stdout",
     "output_type": "stream",
     "text": [
      "Hello World\n",
      "Hello World\n"
     ]
    }
   ],
   "source": [
    "# String Type\n",
    "x = \"Hello World\"\n",
    "y = str(\"Hello World\")\n",
    "\n",
    "print(x)\n",
    "print(y)"
   ]
  },
  {
   "cell_type": "code",
   "execution_count": 13,
   "metadata": {},
   "outputs": [
    {
     "name": "stdout",
     "output_type": "stream",
     "text": [
      "20\n",
      "20\n"
     ]
    }
   ],
   "source": [
    "# Integer Type\n",
    "x = 20\n",
    "y = int(20)\n",
    "\n",
    "print(x)\n",
    "print(y)"
   ]
  },
  {
   "cell_type": "code",
   "execution_count": 14,
   "metadata": {},
   "outputs": [
    {
     "name": "stdout",
     "output_type": "stream",
     "text": [
      "5.6\n",
      "5.6\n"
     ]
    }
   ],
   "source": [
    "# Decimal Type\n",
    "x = 5.6\n",
    "y = float(5.6)\n",
    "\n",
    "print(x)\n",
    "print(y)"
   ]
  },
  {
   "cell_type": "code",
   "execution_count": 15,
   "metadata": {},
   "outputs": [
    {
     "name": "stdout",
     "output_type": "stream",
     "text": [
      "['apple', 'banana', 'cherry', 'apple']\n"
     ]
    }
   ],
   "source": [
    "# List Type\n",
    "x = list((\"apple\", \"banana\", \"cherry\",\"apple\"))\n",
    "print(x)\n"
   ]
  },
  {
   "cell_type": "code",
   "execution_count": 20,
   "metadata": {},
   "outputs": [
    {
     "name": "stdout",
     "output_type": "stream",
     "text": [
      "('apple', 'banana', 'cherry', 'apple')\n"
     ]
    }
   ],
   "source": [
    "# Tuple Type\n",
    "x = tuple((\"apple\", \"banana\", \"cherry\",\"apple\"))\n",
    "print(x)\n"
   ]
  },
  {
   "cell_type": "code",
   "execution_count": 17,
   "metadata": {},
   "outputs": [
    {
     "name": "stdout",
     "output_type": "stream",
     "text": [
      "{'name': 'John', 'age': 36}\n"
     ]
    }
   ],
   "source": [
    "# Dictionary Type\n",
    "x = dict(name=\"John\", age=36)\n",
    "print(x)\n"
   ]
  },
  {
   "cell_type": "code",
   "execution_count": 18,
   "metadata": {},
   "outputs": [
    {
     "name": "stdout",
     "output_type": "stream",
     "text": [
      "{'apple', 'cherry', 'banana'}\n"
     ]
    }
   ],
   "source": [
    "# Set Type\n",
    "x = set((\"apple\", \"banana\", \"cherry\"))\n",
    "print(x)\n"
   ]
  },
  {
   "cell_type": "code",
   "execution_count": 26,
   "metadata": {},
   "outputs": [
    {
     "name": "stdout",
     "output_type": "stream",
     "text": [
      "True\n",
      "False\n"
     ]
    }
   ],
   "source": [
    "# Boolean Type\n",
    "x = bool(5>2)\n",
    "y = bool(5<2)\n",
    "\n",
    "print(x)\n",
    "print(y)\n"
   ]
  },
  {
   "cell_type": "markdown",
   "metadata": {},
   "source": [
    "## Exercise 02"
   ]
  },
  {
   "cell_type": "markdown",
   "metadata": {},
   "source": [
    "### Display the types of each variables"
   ]
  },
  {
   "cell_type": "code",
   "execution_count": 27,
   "metadata": {},
   "outputs": [
    {
     "name": "stdout",
     "output_type": "stream",
     "text": [
      "<class 'int'>\n",
      "<class 'str'>\n",
      "<class 'float'>\n",
      "<class 'list'>\n",
      "<class 'tuple'>\n",
      "<class 'dict'>\n",
      "<class 'bool'>\n"
     ]
    }
   ],
   "source": [
    "a = 5\n",
    "b = \"Hello World\"\n",
    "c = 21.2\n",
    "d = [\"apple\", \"banana\", \"cherry\"]\n",
    "e = (\"apple\", \"banana\", \"cherry\")\n",
    "f = {\"name\" : \"John\", \"age\" : 36}\n",
    "g = True\n",
    "\n",
    "\n",
    "print(type(a))\n",
    "print(type(b))\n",
    "print(type(c))\n",
    "print(type(d))\n",
    "print(type(e))\n",
    "print(type(f))\n",
    "print(type(g))"
   ]
  },
  {
   "cell_type": "code",
   "execution_count": null,
   "metadata": {},
   "outputs": [],
   "source": []
  }
 ],
 "metadata": {
  "kernelspec": {
   "display_name": "Python 3",
   "language": "python",
   "name": "python3"
  },
  "language_info": {
   "codemirror_mode": {
    "name": "ipython",
    "version": 3
   },
   "file_extension": ".py",
   "mimetype": "text/x-python",
   "name": "python",
   "nbconvert_exporter": "python",
   "pygments_lexer": "ipython3",
   "version": "3.7.4"
  }
 },
 "nbformat": 4,
 "nbformat_minor": 4
}
