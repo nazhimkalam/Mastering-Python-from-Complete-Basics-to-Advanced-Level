{
 "cells": [
  {
   "cell_type": "markdown",
   "metadata": {},
   "source": [
    "# Math 🚀\n",
    "**Python has a set of built-in math functions, including an extensive math module, that allows you to perform mathematical tasks on numbers.**"
   ]
  },
  {
   "cell_type": "markdown",
   "metadata": {},
   "source": [
    "## Built-in Math Functions"
   ]
  },
  {
   "cell_type": "code",
   "execution_count": 4,
   "metadata": {},
   "outputs": [
    {
     "name": "stdout",
     "output_type": "stream",
     "text": [
      "This is the minimum number from the iterable: 5\n",
      "This is the maximum number from the iterable: 25\n"
     ]
    }
   ],
   "source": [
    "# The min() and max() functions can be used to find the lowest or highest value in an iterable\n",
    "\n",
    "x = min(5, 10, 25)\n",
    "y = max(5, 10, 25)\n",
    "\n",
    "print(\"This is the minimum number from the iterable:\", x)\n",
    "print(\"This is the maximum number from the iterable:\", y)"
   ]
  },
  {
   "cell_type": "code",
   "execution_count": 6,
   "metadata": {},
   "outputs": [
    {
     "name": "stdout",
     "output_type": "stream",
     "text": [
      "This is the absolute value of x: 7.25\n",
      "This is the absolute value of y: 15\n"
     ]
    }
   ],
   "source": [
    "# The abs() function returns the absolute (positive) value of the specified number\n",
    "\n",
    "x = abs(-7.25)\n",
    "y = abs(15)\n",
    "\n",
    "print(\"This is the absolute value of x:\", x)\n",
    "print(\"This is the absolute value of y:\", y)"
   ]
  },
  {
   "cell_type": "code",
   "execution_count": 8,
   "metadata": {},
   "outputs": [
    {
     "name": "stdout",
     "output_type": "stream",
     "text": [
      "16\n"
     ]
    }
   ],
   "source": [
    "# The pow(x, y) function returns the value of x to the power of y\n",
    "\n",
    "x = pow(2, 4)\n",
    "print(x)"
   ]
  },
  {
   "cell_type": "markdown",
   "metadata": {},
   "source": [
    "## The Math Module\n",
    "**Python has also a built-in module called math, which extends the list of mathematical functions.**\n",
    "\n",
    "**To use it, you must import the math module**\n",
    "\n",
    "**When you have imported the math module, you can start using methods and constants of the module.**"
   ]
  },
  {
   "cell_type": "code",
   "execution_count": 9,
   "metadata": {},
   "outputs": [
    {
     "name": "stdout",
     "output_type": "stream",
     "text": [
      "8.0\n"
     ]
    }
   ],
   "source": [
    "# The math.sqrt() method for example, returns the square root of a number\n",
    "\n",
    "import math\n",
    "\n",
    "x = math.sqrt(64)\n",
    "\n",
    "print(x)"
   ]
  },
  {
   "cell_type": "code",
   "execution_count": 10,
   "metadata": {},
   "outputs": [
    {
     "name": "stdout",
     "output_type": "stream",
     "text": [
      "2\n",
      "1\n"
     ]
    }
   ],
   "source": [
    "# The math.ceil() method rounds a number upwards to its nearest integer,\n",
    "# and the math.floor() method rounds a number downwards to its nearest integer, and returns the result:\n",
    "\n",
    "import math\n",
    "\n",
    "x = math.ceil(1.4)\n",
    "y = math.floor(1.4)\n",
    "\n",
    "print(x) # returns 2\n",
    "print(y) # returns 1"
   ]
  },
  {
   "cell_type": "code",
   "execution_count": 12,
   "metadata": {},
   "outputs": [
    {
     "name": "stdout",
     "output_type": "stream",
     "text": [
      "3.141592653589793\n"
     ]
    }
   ],
   "source": [
    "# The math.pi constant, returns the value of PI (3.14...)\n",
    "import math\n",
    "\n",
    "x = math.pi\n",
    "\n",
    "print(x) "
   ]
  },
  {
   "cell_type": "markdown",
   "metadata": {},
   "source": [
    "## Exercises"
   ]
  },
  {
   "cell_type": "markdown",
   "metadata": {},
   "source": [
    "### **1. Write a Python program to convert degree to radian.**\n",
    "\n",
    "Note : The radian is the standard unit of angular measure, used in many areas of mathematics. \n",
    "\n",
    "An angle's measurement in radians is numerically equal to the length of a corresponding arc of a unit circle;\n",
    "\n",
    "One radian is just under 57.3 degrees (when the arc length is equal to the radius).\n",
    "\n",
    "Test Data:\n",
    "\n",
    "Degree : 15\n",
    "\n",
    "Expected Result in radians: 0.2619047619047619"
   ]
  },
  {
   "cell_type": "markdown",
   "metadata": {},
   "source": [
    "### **2. Write a Python program to convert radian to degree.**\n",
    "\n",
    "Test Data:\n",
    "\n",
    "Radian : .52\n",
    "\n",
    "Expected Result : 29.781818181818185"
   ]
  },
  {
   "cell_type": "markdown",
   "metadata": {},
   "source": [
    "### 3. Write a Python program to calculate the area of a parallelogram.\n",
    "\n",
    "Note : A parallelogram is a quadrilateral with opposite sides parallel (and therefore opposite angles equal). \n",
    "\n",
    "A quadrilateral with equal sides is called a rhombus, and a parallelogram whose angles are all right angles is called a rectangle.\n",
    "\n",
    "Test Data:\n",
    "\n",
    "Length of base : 5\n",
    "\n",
    "Height of parallelogram : 6\n",
    "\n",
    "Expected Output: Area is : 30.0"
   ]
  },
  {
   "cell_type": "markdown",
   "metadata": {},
   "source": [
    "### 4. Write a Python program to calculate surface volume and area of a cylinder.\n",
    "Note: A cylinder is one of the most basic curvilinear geometric shapes, the surface formed by the points at a fixed distance from a given straight line, the axis of the cylinder.\n",
    "\n",
    "Test Data:\n",
    "\n",
    "volume : Height (4), Radius(6)\n",
    "\n",
    "Expected Output:\n",
    "\n",
    "Volume is : 452.57142857142856\n",
    "\n",
    "Surface Area is : 377.1428571428571"
   ]
  },
  {
   "cell_type": "markdown",
   "metadata": {},
   "source": [
    "### 5. Find the area of a Circle\n",
    "\n",
    "Note: Area of a circle is calculated as follows pi x radius squared\n",
    "\n",
    "Given Radius: 5\n",
    "\n",
    "Expected Output: 78.54\n"
   ]
  },
  {
   "cell_type": "markdown",
   "metadata": {},
   "source": [
    "### 6. Find the smallest value from the given List of numbers\n",
    "\n",
    "x = [ 45, -5, 0, 5, 45 ]"
   ]
  },
  {
   "cell_type": "markdown",
   "metadata": {},
   "source": [
    "### 7. Find the highest value from the given List of numbers\n",
    "\n",
    "x = [ 45, -5, 0, 5, 45 ]"
   ]
  },
  {
   "cell_type": "markdown",
   "metadata": {},
   "source": [
    "# User Input 🚀\n",
    "\n",
    "**Python allows for user input.**\n",
    "\n",
    "**That means we are able to ask the user for input.**\n",
    "\n",
    "**Make sure that you are using Python version 3.6 or above**"
   ]
  },
  {
   "cell_type": "markdown",
   "metadata": {},
   "source": [
    "### The following example asks for the username, and when you entered the username, it gets printed on the screen"
   ]
  },
  {
   "cell_type": "code",
   "execution_count": 13,
   "metadata": {},
   "outputs": [
    {
     "name": "stdout",
     "output_type": "stream",
     "text": [
      "Enter username:Nazhim Kalam\n",
      "Username is: Nazhim Kalam\n"
     ]
    }
   ],
   "source": [
    "username = input(\"Enter username:\")\n",
    "\n",
    "print(\"Username is: \" + username)"
   ]
  },
  {
   "cell_type": "code",
   "execution_count": 16,
   "metadata": {},
   "outputs": [
    {
     "name": "stdout",
     "output_type": "stream",
     "text": [
      "Enter age:as\n",
      "Age is: as\n"
     ]
    }
   ],
   "source": [
    "age = input(\"Enter age:\")\n",
    "\n",
    "print(\"Age is: \" + str(age))"
   ]
  },
  {
   "cell_type": "markdown",
   "metadata": {},
   "source": [
    "### Validating User Inputs "
   ]
  },
  {
   "cell_type": "code",
   "execution_count": 15,
   "metadata": {},
   "outputs": [
    {
     "name": "stdout",
     "output_type": "stream",
     "text": [
      "Enter username:Nazhim Kalam\n",
      "Username is: Nazhim Kalam\n"
     ]
    }
   ],
   "source": [
    "username = str(input(\"Enter username:\"))\n",
    "\n",
    "print(\"Username is: \" + username)"
   ]
  },
  {
   "cell_type": "code",
   "execution_count": 22,
   "metadata": {},
   "outputs": [
    {
     "name": "stdout",
     "output_type": "stream",
     "text": [
      "Enter age:22\n",
      "Age is: 22\n"
     ]
    }
   ],
   "source": [
    "age = int(input(\"Enter age:\"))\n",
    "\n",
    "print(\"Age is: \" + str(age))"
   ]
  },
  {
   "cell_type": "markdown",
   "metadata": {},
   "source": [
    "## Exercise"
   ]
  },
  {
   "cell_type": "markdown",
   "metadata": {},
   "source": [
    "### Question 1: Accept two numbers from the user and calculate multiplication"
   ]
  },
  {
   "cell_type": "markdown",
   "metadata": {},
   "source": [
    "### Question 2: Display “My Name Is James” by entering your name instead of the hardcoded name \"James\""
   ]
  },
  {
   "cell_type": "markdown",
   "metadata": {},
   "source": [
    "### Question 3: Accept length and width measurement of a square from the user and display the area square"
   ]
  },
  {
   "cell_type": "markdown",
   "metadata": {},
   "source": [
    "### Question 4: Accept radius measurement of a circle from the user and display the area of the circle"
   ]
  },
  {
   "cell_type": "markdown",
   "metadata": {},
   "source": [
    "### Question 5: Accept radius measurement of a sphere from the user and display the volume of the sphere"
   ]
  },
  {
   "cell_type": "code",
   "execution_count": null,
   "metadata": {},
   "outputs": [],
   "source": []
  }
 ],
 "metadata": {
  "kernelspec": {
   "display_name": "Python 3",
   "language": "python",
   "name": "python3"
  },
  "language_info": {
   "codemirror_mode": {
    "name": "ipython",
    "version": 3
   },
   "file_extension": ".py",
   "mimetype": "text/x-python",
   "name": "python",
   "nbconvert_exporter": "python",
   "pygments_lexer": "ipython3",
   "version": "3.7.4"
  }
 },
 "nbformat": 4,
 "nbformat_minor": 4
}
