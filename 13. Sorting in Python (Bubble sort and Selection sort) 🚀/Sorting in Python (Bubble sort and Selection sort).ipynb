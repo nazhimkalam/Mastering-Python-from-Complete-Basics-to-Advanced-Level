{
 "cells": [
  {
   "cell_type": "markdown",
   "metadata": {},
   "source": [
    "# Sorting in Python ⚽\n",
    "\n",
    "<img src= \"https://wallpapercave.com/wp/wp2573530.png\" width = \"400\" />\n",
    "\n",
    "- Sorting is the mechanism of rearranging the elements in either Ascending or Descending order"
   ]
  },
  {
   "cell_type": "markdown",
   "metadata": {},
   "source": [
    "## Selection Sort 🚀\n",
    "\n",
    "<img src=\"https://res.cloudinary.com/practicaldev/image/fetch/s--HMFtIGpt--/c_limit%2Cf_auto%2Cfl_progressive%2Cq_auto%2Cw_880/https://www.w3resource.com/w3r_images/selection-short.png\" width=\"450\" />\n",
    "\n",
    "- The selection sort algorithm sorts an array by repeatedly finding the minimum element (considering ascending order) from unsorted part and putting it at the beginning\n",
    "\n",
    "- The algorithm maintains two subarrays in a given array.\n",
    "\n",
    "        1) The subarray which is already sorted.\n",
    "        2) Remaining subarray which is unsorted.\n",
    "\n",
    "- In every iteration of selection sort, the minimum element (considering ascending order) from the unsorted subarray is picked and moved to the sorted subarray."
   ]
  },
  {
   "cell_type": "markdown",
   "metadata": {},
   "source": [
    "### Code for Selection Sort 🤩\n",
    "\n",
    "    This is how Selection Sort Works: \n",
    "    \n",
    "        1. Set the first element as Minimum.\n",
    "        \n",
    "        2. Compare minimum with the second element. \n",
    "           If the second element is smaller than minimum, assign the second element as minimum.\n",
    "           \n",
    "        3. Compare minimum with the third element. \n",
    "           Again, if the third element is smaller, then assign minimum to the third element otherwise do nothing. \n",
    "           The process goes on until the last element.\n",
    "           \n",
    "        4. After each iteration, minimum is placed in the front of the unsorted list\n",
    "        \n",
    "        5. For each iteration, indexing starts from the first unsorted element. \n",
    "           Step 1 to 3 are repeated until all the elements are placed at their correct positions.\n",
    "           \n"
   ]
  },
  {
   "cell_type": "code",
   "execution_count": 16,
   "metadata": {},
   "outputs": [
    {
     "name": "stdout",
     "output_type": "stream",
     "text": [
      "This is the unsorted list: [64, 25, 12, 22, 11]\n",
      "This is the sorted list: [11, 12, 22, 25, 64]\n"
     ]
    }
   ],
   "source": [
    "# This my list which needs to be sorted\n",
    "myList = [64, 25, 12, 22, 11] \n",
    "sizeOfMyList = len(myList)\n",
    "\n",
    "\n",
    "def selection__sort(myList, sizeOfMyList):\n",
    "    # Traverse through all array elements \n",
    "    for i in range(sizeOfMyList): \n",
    "\n",
    "        # Find the minimum element in remaining unsorted array \n",
    "        minimum_index = i \n",
    "\n",
    "        for j in range(i+1, sizeOfMyList): \n",
    "            if myList[minimum_index] > myList[j]: \n",
    "                minimum_index = j \n",
    "\n",
    "        # Swap the found minimum element with the first element \n",
    "        temp = myList[i]\n",
    "        myList[i] = myList[minimum_index]\n",
    "        myList[minimum_index] =  temp\n",
    "    \n",
    "    \n",
    "    \n",
    "    \n",
    "# Code to test the above Selection Sort Function\n",
    "print(\"This is the unsorted list:\", myList)\n",
    "\n",
    "selection__sort(myList, sizeOfMyList)\n",
    "\n",
    "print(\"This is the sorted list:\", myList)"
   ]
  },
  {
   "cell_type": "markdown",
   "metadata": {},
   "source": [
    "## Bubble Sort 🙀\n",
    "\n",
    "<img src=\"https://www.w3resource.com/w3r_images/bubble-short.png\" width=\"650\" />\n",
    "\n",
    "- Bubble Sort is the simplest sorting algorithm that works by repeatedly swapping the adjacent elements if they are in wrong order."
   ]
  },
  {
   "cell_type": "markdown",
   "metadata": {},
   "source": [
    "### Code for Bubble Sort 🤯\n",
    "\n",
    "    This is how Bubble Sort Works: \n",
    "    \n",
    "    1. Starting from the first index, compare the first and the second elements.\n",
    "       If the first element is greater than the second element, they are swapped.\n",
    "       Now, compare the second and the third elements. \n",
    "       Swap them if they are not in order.\n",
    "       The above process goes on until the last element.\n",
    "    \n",
    "    2. The same process goes on for the remaining iterations. \n",
    "       After each iteration, the largest element among the unsorted elements is placed at the end.\n",
    "       In each iteration, the comparison takes place up to the last unsorted element.\n",
    "       The array is sorted when all the unsorted elements are placed at their correct positions.\n"
   ]
  },
  {
   "cell_type": "code",
   "execution_count": 17,
   "metadata": {},
   "outputs": [
    {
     "name": "stdout",
     "output_type": "stream",
     "text": [
      "This is the unsorted list: [64, 34, 25, 12, 22, 11, 90]\n",
      "This is the sorted list: [11, 12, 22, 25, 34, 64, 90]\n"
     ]
    }
   ],
   "source": [
    "  \n",
    "def bubble__sort(myList):\n",
    "    length_Of_List = len(myList) \n",
    "  \n",
    "    # Traverse through all array elements \n",
    "    for i in range(length_Of_List - 1): \n",
    "    # range(length_Of_List) also work but outer loop will repeat one time more than needed. \n",
    "  \n",
    "        # Last i elements are already in place \n",
    "        for j in range(0, length_Of_List-i-1): \n",
    "  \n",
    "            # traverse the array from 0 to length_Of_List-i-1 \n",
    "            # Swap if the element found is greater than the next element \n",
    "            if myList[j] > myList[j+1] : \n",
    "                temp = myList[j]\n",
    "                myList[j] = myList[j+1]\n",
    "                myList[j+1] = temp\n",
    "                \n",
    "                \n",
    "                \n",
    "# Code to test the bubble__sort function\n",
    "myList = [64, 34, 25, 12, 22, 11, 90] \n",
    "print(\"This is the unsorted list:\", myList)\n",
    "\n",
    "bubble__sort(myList)\n",
    "\n",
    "print(\"This is the sorted list:\", myList)"
   ]
  },
  {
   "cell_type": "markdown",
   "metadata": {},
   "source": [
    "## Exercise 😎\n",
    "\n",
    "<img src=\"https://animatedgif.me/uploads/7c176e549370fbd9ce52cfc8164e311b.gif\" width=\"300\" />"
   ]
  },
  {
   "cell_type": "code",
   "execution_count": null,
   "metadata": {},
   "outputs": [],
   "source": [
    "# Question 01\n",
    "# Create your selection sort function from scratch (make sure you add commments so its understandable) and sort the following \n",
    "# list in Ascending Order \n",
    "\n",
    "sortMe = [-1, 5, -15, 3, 99]\n",
    "\n"
   ]
  },
  {
   "cell_type": "code",
   "execution_count": null,
   "metadata": {},
   "outputs": [],
   "source": [
    "# Question 02\n",
    "# Create your bubble sort function from scratch (make sure you add commments so its understandable) and sort the following \n",
    "# list in Ascending Order \n",
    "\n",
    "sortMe = [-1, 5, -15, 3, 99]\n"
   ]
  },
  {
   "cell_type": "markdown",
   "metadata": {},
   "source": [
    "## Completed 🎉🎊🥳"
   ]
  },
  {
   "cell_type": "code",
   "execution_count": null,
   "metadata": {},
   "outputs": [],
   "source": []
  }
 ],
 "metadata": {
  "kernelspec": {
   "display_name": "Python 3",
   "language": "python",
   "name": "python3"
  },
  "language_info": {
   "codemirror_mode": {
    "name": "ipython",
    "version": 3
   },
   "file_extension": ".py",
   "mimetype": "text/x-python",
   "name": "python",
   "nbconvert_exporter": "python",
   "pygments_lexer": "ipython3",
   "version": "3.7.4"
  }
 },
 "nbformat": 4,
 "nbformat_minor": 4
}
