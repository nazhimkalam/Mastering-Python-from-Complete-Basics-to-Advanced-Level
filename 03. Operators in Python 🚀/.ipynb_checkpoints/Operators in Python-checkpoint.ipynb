{
 "cells": [
  {
   "cell_type": "markdown",
   "metadata": {},
   "source": [
    "# Python Operators 🚀\n",
    "\n",
    "**Operators are used to perform operations on variables and values.**"
   ]
  },
  {
   "cell_type": "markdown",
   "metadata": {},
   "source": [
    "### Exmaple of working with the '+' Operator"
   ]
  },
  {
   "cell_type": "code",
   "execution_count": 72,
   "metadata": {},
   "outputs": [
    {
     "name": "stdout",
     "output_type": "stream",
     "text": [
      "7\n"
     ]
    }
   ],
   "source": [
    "print(5 + 2)"
   ]
  },
  {
   "cell_type": "markdown",
   "metadata": {},
   "source": [
    "### Python divides the operators in the following groups:\n",
    "1. Arithmetic operators\n",
    "2. Assignment operators\n",
    "3. Comparison operators\n",
    "4. Logical operators\n",
    "5. Identity operators\n",
    "6. Membership operators\n",
    "7. Bitwise operators"
   ]
  },
  {
   "cell_type": "markdown",
   "metadata": {},
   "source": [
    "## 1. Arithmetic Operators\n",
    "**Arithmetic operators are used with numeric values to perform common mathematical operations:**"
   ]
  },
  {
   "cell_type": "code",
   "execution_count": 70,
   "metadata": {},
   "outputs": [],
   "source": [
    "x = 10\n",
    "y = 3"
   ]
  },
  {
   "cell_type": "code",
   "execution_count": 71,
   "metadata": {},
   "outputs": [
    {
     "name": "stdout",
     "output_type": "stream",
     "text": [
      "13\n"
     ]
    }
   ],
   "source": [
    "# ADDITION ( x = 10, y = 3 )\n",
    "print(x + y)\n"
   ]
  },
  {
   "cell_type": "code",
   "execution_count": 18,
   "metadata": {},
   "outputs": [
    {
     "name": "stdout",
     "output_type": "stream",
     "text": [
      "7\n"
     ]
    }
   ],
   "source": [
    "# SUBSTRACTION ( x = 10, y = 3 )\n",
    "print(x - y)\n"
   ]
  },
  {
   "cell_type": "code",
   "execution_count": 19,
   "metadata": {},
   "outputs": [
    {
     "name": "stdout",
     "output_type": "stream",
     "text": [
      "30\n"
     ]
    }
   ],
   "source": [
    "# MULTIPLICATION ( x = 10, y = 3 )\n",
    "print(x * y)\n"
   ]
  },
  {
   "cell_type": "code",
   "execution_count": 20,
   "metadata": {},
   "outputs": [
    {
     "name": "stdout",
     "output_type": "stream",
     "text": [
      "3.3333333333333335\n"
     ]
    }
   ],
   "source": [
    "# DIVISION ( x = 10, y = 3 )\n",
    "print(x / y)\n",
    " "
   ]
  },
  {
   "cell_type": "code",
   "execution_count": 21,
   "metadata": {},
   "outputs": [
    {
     "name": "stdout",
     "output_type": "stream",
     "text": [
      "1\n"
     ]
    }
   ],
   "source": [
    "# MODULUS ( x = 10, y = 3 )\n",
    "print(x % y)\n"
   ]
  },
  {
   "cell_type": "code",
   "execution_count": 22,
   "metadata": {},
   "outputs": [
    {
     "name": "stdout",
     "output_type": "stream",
     "text": [
      "1000\n"
     ]
    }
   ],
   "source": [
    "# EXPONENTIATION ( x = 10, y = 3 )\n",
    "print(x ** y)\n"
   ]
  },
  {
   "cell_type": "code",
   "execution_count": 23,
   "metadata": {},
   "outputs": [
    {
     "name": "stdout",
     "output_type": "stream",
     "text": [
      "3\n"
     ]
    }
   ],
   "source": [
    "# FLOOR DIVISION ( x = 10, y = 3 )\n",
    "print(x // y)\n"
   ]
  },
  {
   "cell_type": "markdown",
   "metadata": {},
   "source": [
    "### Exercise\n"
   ]
  },
  {
   "cell_type": "markdown",
   "metadata": {},
   "source": [
    "1. Display the sum of 3 and 8\n",
    "2. Display the difference of 3 and 8\n",
    "3. Display the product of 3 and 8\n",
    "4. Display the result of 8 divided by 3\n",
    "5. Display the remainder or modulus of 8 by 3\n",
    "6. Display the result of 8 to the power of 3\n",
    "7. Display the divisor of 8 by 3"
   ]
  },
  {
   "cell_type": "markdown",
   "metadata": {},
   "source": [
    "## 2. Assignment Operators\n",
    "**Assignment operators are used to assign values to variables**"
   ]
  },
  {
   "cell_type": "code",
   "execution_count": 25,
   "metadata": {},
   "outputs": [
    {
     "name": "stdout",
     "output_type": "stream",
     "text": [
      "5\n"
     ]
    }
   ],
   "source": [
    "# Symbol = (Assign)\n",
    "x = 5\n",
    "print(x)\n"
   ]
  },
  {
   "cell_type": "code",
   "execution_count": 38,
   "metadata": {},
   "outputs": [
    {
     "name": "stdout",
     "output_type": "stream",
     "text": [
      "6\n",
      "6\n"
     ]
    }
   ],
   "source": [
    "# Symbol += (Increment)\n",
    "x = 5\n",
    "\n",
    "x += 1   # this is same as x = x + 1\n",
    "print(x)\n",
    "\n",
    "# Same As\n",
    "x = 5\n",
    "\n",
    "x = x + 1\n",
    "print(x)\n"
   ]
  },
  {
   "cell_type": "code",
   "execution_count": 39,
   "metadata": {},
   "outputs": [
    {
     "name": "stdout",
     "output_type": "stream",
     "text": [
      "4\n",
      "4\n"
     ]
    }
   ],
   "source": [
    "# Symbol -= (Decrement)\n",
    "x = 5\n",
    "\n",
    "x -= 1   # this is same as x = x - 1\n",
    "print(x)\n",
    "\n",
    "# Same As\n",
    "x = 5\n",
    "\n",
    "x = x - 1\n",
    "print(x)\n"
   ]
  },
  {
   "cell_type": "code",
   "execution_count": 40,
   "metadata": {},
   "outputs": [
    {
     "name": "stdout",
     "output_type": "stream",
     "text": [
      "10\n",
      "10\n"
     ]
    }
   ],
   "source": [
    "# Symbol *= \n",
    "x = 5\n",
    "\n",
    "x *= 2   # this is same as x = x * 2\n",
    "print(x)\n",
    "\n",
    "# Same As\n",
    "x = 5\n",
    "\n",
    "x = x * 2\n",
    "print(x)\n"
   ]
  },
  {
   "cell_type": "code",
   "execution_count": 41,
   "metadata": {},
   "outputs": [
    {
     "name": "stdout",
     "output_type": "stream",
     "text": [
      "10.0\n",
      "10.0\n"
     ]
    }
   ],
   "source": [
    "# Symbol /=\n",
    "x = 20\n",
    "\n",
    "x /= 2   # this is same as x = x / 2\n",
    "print(x)\n",
    "\n",
    "# Same As\n",
    "x = 20\n",
    "\n",
    "x = x / 2\n",
    "print(x)\n"
   ]
  },
  {
   "cell_type": "code",
   "execution_count": 42,
   "metadata": {},
   "outputs": [
    {
     "name": "stdout",
     "output_type": "stream",
     "text": [
      "0\n",
      "0\n"
     ]
    }
   ],
   "source": [
    "# Symbol %= (MOD, Modulus or Remainder)\n",
    "x = 20\n",
    "\n",
    "x %= 2   # this is same as x = x % 2\n",
    "print(x)\n",
    "\n",
    "# Same As\n",
    "x = 20\n",
    "\n",
    "x = x % 2\n",
    "print(x)\n"
   ]
  },
  {
   "cell_type": "code",
   "execution_count": 45,
   "metadata": {},
   "outputs": [
    {
     "name": "stdout",
     "output_type": "stream",
     "text": [
      "6\n",
      "6\n"
     ]
    }
   ],
   "source": [
    "# Symbol //= (FLOOR DIVISION)\n",
    "x = 20\n",
    "\n",
    "x //= 3   # this is same as x = x // 3\n",
    "print(x)\n",
    "\n",
    "# Same As\n",
    "x = 20\n",
    "\n",
    "x = x // 3\n",
    "print(x)\n"
   ]
  },
  {
   "cell_type": "code",
   "execution_count": 49,
   "metadata": {},
   "outputs": [
    {
     "name": "stdout",
     "output_type": "stream",
     "text": [
      "8\n",
      "8\n"
     ]
    }
   ],
   "source": [
    "# Symbol **=\n",
    "x = 2\n",
    "\n",
    "x **= 3   # this is same as x = x ** 3\n",
    "print(x)\n",
    "\n",
    "# Same As\n",
    "x = 2\n",
    "\n",
    "x = x ** 3\n",
    "print(x)\n"
   ]
  },
  {
   "cell_type": "code",
   "execution_count": 53,
   "metadata": {},
   "outputs": [
    {
     "name": "stdout",
     "output_type": "stream",
     "text": [
      "1\n",
      "1\n"
     ]
    }
   ],
   "source": [
    "# Symbol &= (bitwise AND operator)\n",
    "x = 1\n",
    "\n",
    "x &= 1   # this is same as x = x & 1\n",
    "print(x)\n",
    "\n",
    "# Same As\n",
    "x = 1\n",
    "\n",
    "x = x & 1\n",
    "print(x)\n"
   ]
  },
  {
   "cell_type": "code",
   "execution_count": 58,
   "metadata": {},
   "outputs": [
    {
     "name": "stdout",
     "output_type": "stream",
     "text": [
      "1\n",
      "1\n"
     ]
    }
   ],
   "source": [
    "# Symbol |= (bitwise OR operator)\n",
    "x = 0\n",
    "\n",
    "x |= 1   # this is same as x = x | 1\n",
    "print(x)\n",
    "\n",
    "# Same As\n",
    "x = 1\n",
    "\n",
    "x = x | 1\n",
    "print(x)\n"
   ]
  },
  {
   "cell_type": "code",
   "execution_count": 63,
   "metadata": {},
   "outputs": [
    {
     "name": "stdout",
     "output_type": "stream",
     "text": [
      "1\n",
      "1\n"
     ]
    }
   ],
   "source": [
    "# Symbol ^= (bitwise NOT operator)\n",
    "x = 0\n",
    "\n",
    "x ^= 1   # this is same as x = x ^ 1\n",
    "print(x)\n",
    "\n",
    "# Same As\n",
    "x = 1\n",
    "\n",
    "x = x ^ 0\n",
    "print(x)\n"
   ]
  },
  {
   "cell_type": "code",
   "execution_count": 67,
   "metadata": {},
   "outputs": [
    {
     "name": "stdout",
     "output_type": "stream",
     "text": [
      "1\n",
      "1\n"
     ]
    }
   ],
   "source": [
    "# Symbol >>= (Shifting number of bits to RIGHT )\n",
    "x = 3\n",
    "\n",
    "x >>= 1   # this is same as x = x >> 1\n",
    "print(x)\n",
    "\n",
    "# Same As\n",
    "x = 3\n",
    "\n",
    "x = x >> 1\n",
    "print(x)\n"
   ]
  },
  {
   "cell_type": "code",
   "execution_count": 68,
   "metadata": {},
   "outputs": [
    {
     "name": "stdout",
     "output_type": "stream",
     "text": [
      "6\n",
      "6\n"
     ]
    }
   ],
   "source": [
    "# Symbol <<= (Shifting number of bits to LEFT )\n",
    "x = 3\n",
    "\n",
    "x <<= 1   # this is same as x = x << 1\n",
    "print(x)\n",
    "\n",
    "# Same As\n",
    "x = 3\n",
    "\n",
    "x = x << 1\n",
    "print(x)\n"
   ]
  },
  {
   "cell_type": "markdown",
   "metadata": {},
   "source": [
    "## 3. Comparison Operators\n",
    "**Comparison operators are used to compare two values**"
   ]
  },
  {
   "cell_type": "code",
   "execution_count": 139,
   "metadata": {},
   "outputs": [
    {
     "name": "stdout",
     "output_type": "stream",
     "text": [
      "False\n"
     ]
    }
   ],
   "source": [
    "# Equals ==\n",
    "x = 5\n",
    "y = 3\n",
    "print(x == y)\n"
   ]
  },
  {
   "cell_type": "code",
   "execution_count": 141,
   "metadata": {},
   "outputs": [
    {
     "name": "stdout",
     "output_type": "stream",
     "text": [
      "True\n"
     ]
    }
   ],
   "source": [
    "# Not equal !=\n",
    "x = 5\n",
    "y = 3\n",
    "print(x != y)\n"
   ]
  },
  {
   "cell_type": "code",
   "execution_count": 85,
   "metadata": {},
   "outputs": [
    {
     "name": "stdout",
     "output_type": "stream",
     "text": [
      "True\n"
     ]
    }
   ],
   "source": [
    "# Greater than >\n",
    "x = 5\n",
    "y = 3\n",
    "print(x > y)\n"
   ]
  },
  {
   "cell_type": "code",
   "execution_count": 86,
   "metadata": {},
   "outputs": [
    {
     "name": "stdout",
     "output_type": "stream",
     "text": [
      "False\n"
     ]
    }
   ],
   "source": [
    "# Less than <\n",
    "x = 5\n",
    "y = 3\n",
    "print(x < y)\n"
   ]
  },
  {
   "cell_type": "code",
   "execution_count": 87,
   "metadata": {},
   "outputs": [
    {
     "name": "stdout",
     "output_type": "stream",
     "text": [
      "True\n"
     ]
    }
   ],
   "source": [
    "# Greater than or equal to >=\n",
    "x = 5\n",
    "y = 3\n",
    "print(x >= y)\n"
   ]
  },
  {
   "cell_type": "code",
   "execution_count": 88,
   "metadata": {},
   "outputs": [
    {
     "name": "stdout",
     "output_type": "stream",
     "text": [
      "False\n"
     ]
    }
   ],
   "source": [
    "# Less than or equal to <=\n",
    "x = 5\n",
    "y = 3\n",
    "print(x <= y)\n"
   ]
  },
  {
   "cell_type": "markdown",
   "metadata": {},
   "source": [
    "### Exercise\n"
   ]
  },
  {
   "cell_type": "markdown",
   "metadata": {},
   "source": [
    "1. Display the result if 5 is equal 5.0\n",
    "2. Display the result if 5 is greater than 2\n",
    "3. Display the result if 5 is lower than 2\n",
    "4. Display the result if 5 is greater than or equal to 5.0\n",
    "5. Display the result if  5 is lower than or equal to 4\n",
    "6. Display the result if 5 is equal or not to 5.0"
   ]
  },
  {
   "cell_type": "markdown",
   "metadata": {},
   "source": [
    "## 4. Logical Operators\n",
    "**Logical operators are used to combine conditional statements**"
   ]
  },
  {
   "cell_type": "code",
   "execution_count": 92,
   "metadata": {},
   "outputs": [
    {
     "name": "stdout",
     "output_type": "stream",
     "text": [
      "False\n",
      "True\n"
     ]
    }
   ],
   "source": [
    "# 'and' (Returns True if both statements are true)\n",
    "x = 4\n",
    "y = 10\n",
    "\n",
    "print( x < 5 and y < 5 )\n",
    "print( x < 5 and y < 20 )"
   ]
  },
  {
   "cell_type": "code",
   "execution_count": 95,
   "metadata": {},
   "outputs": [
    {
     "name": "stdout",
     "output_type": "stream",
     "text": [
      "True\n",
      "False\n"
     ]
    }
   ],
   "source": [
    "# 'or' (Returns True if one of the statements is true)\n",
    "x = 4\n",
    "y = 10\n",
    "\n",
    "print( x < 5 or y < 5 )\n",
    "print( x > 50 or y > 20 )"
   ]
  },
  {
   "cell_type": "code",
   "execution_count": 98,
   "metadata": {},
   "outputs": [
    {
     "name": "stdout",
     "output_type": "stream",
     "text": [
      "True\n",
      "False\n"
     ]
    }
   ],
   "source": [
    "# 'not' (Reverse the result, returns False if the result is true)\n",
    "x = 4\n",
    "y = 10\n",
    "\n",
    "print( not(x < 5 and y < 5) )\n",
    "print( not(x < 5 and y < 20 ) )"
   ]
  },
  {
   "cell_type": "markdown",
   "metadata": {},
   "source": [
    "## 5. Identity Operators\n",
    "**Identity operators are used to compare the objects, not if they are equal, but if they are actually the same object, with the same memory location**"
   ]
  },
  {
   "cell_type": "code",
   "execution_count": 99,
   "metadata": {},
   "outputs": [
    {
     "name": "stdout",
     "output_type": "stream",
     "text": [
      "False\n"
     ]
    }
   ],
   "source": [
    "# \"is\" (Returns True if both variables are the same object)\n",
    "x = 5\n",
    "y = 7\n",
    "\n",
    "print(x is y)"
   ]
  },
  {
   "cell_type": "code",
   "execution_count": 100,
   "metadata": {},
   "outputs": [
    {
     "name": "stdout",
     "output_type": "stream",
     "text": [
      "True\n"
     ]
    }
   ],
   "source": [
    "# \"is not\" (Returns True if both variables are not the same object)\n",
    "x = 5\n",
    "y = 7\n",
    "\n",
    "print(x is not y)"
   ]
  },
  {
   "cell_type": "markdown",
   "metadata": {},
   "source": [
    "## 6. Membership Operators\n",
    "**Membership operators are used to test if a sequence is presented in an object**"
   ]
  },
  {
   "cell_type": "code",
   "execution_count": 103,
   "metadata": {},
   "outputs": [
    {
     "name": "stdout",
     "output_type": "stream",
     "text": [
      "True\n"
     ]
    }
   ],
   "source": [
    "# \"in\" (Returns True if a sequence with the specified value is present)\n",
    "x = 5\n",
    "y = [1,2,3,4,5]\n",
    "\n",
    "print(x in y)"
   ]
  },
  {
   "cell_type": "code",
   "execution_count": 110,
   "metadata": {},
   "outputs": [
    {
     "name": "stdout",
     "output_type": "stream",
     "text": [
      "False\n"
     ]
    }
   ],
   "source": [
    "# \"not in\" (Returns True if a sequence with the specified value is not present)\n",
    "x = 3\n",
    "y = [1,2,3,4,5]\n",
    "\n",
    "print(x not in y)"
   ]
  },
  {
   "cell_type": "markdown",
   "metadata": {},
   "source": [
    "### Exercise\n"
   ]
  },
  {
   "cell_type": "markdown",
   "metadata": {},
   "source": [
    "1. Check if the value 10 is in the given list [1,5,10,101]\n",
    "2. Check if the value -8 is in the given list [1,5,10,101]"
   ]
  },
  {
   "cell_type": "markdown",
   "metadata": {},
   "source": [
    "## 7. Bitwise Operators\n",
    "**Bitwise operators are used to compare (binary) numbers**"
   ]
  },
  {
   "cell_type": "code",
   "execution_count": 113,
   "metadata": {},
   "outputs": [
    {
     "name": "stdout",
     "output_type": "stream",
     "text": [
      "1\n"
     ]
    }
   ],
   "source": [
    "# & (AND, Sets each bit to 1 if both bits are 1)\n",
    "x = 1\n",
    "y = 1\n",
    "\n",
    "print(x & y)"
   ]
  },
  {
   "cell_type": "code",
   "execution_count": 115,
   "metadata": {},
   "outputs": [
    {
     "name": "stdout",
     "output_type": "stream",
     "text": [
      "1\n"
     ]
    }
   ],
   "source": [
    "# | (OR, Sets each bit to 1 if one of two bits is 1)\n",
    "x = 1\n",
    "y = 0\n",
    "\n",
    "print(x | y)"
   ]
  },
  {
   "cell_type": "code",
   "execution_count": 123,
   "metadata": {},
   "outputs": [
    {
     "name": "stdout",
     "output_type": "stream",
     "text": [
      "1\n"
     ]
    }
   ],
   "source": [
    "# ^ (XOR, Sets each bit to 1 if only one of two bits is 1)\n",
    "x = 1\n",
    "y = 0\n",
    "\n",
    "print(x ^ y)"
   ]
  },
  {
   "cell_type": "code",
   "execution_count": 127,
   "metadata": {},
   "outputs": [
    {
     "name": "stdout",
     "output_type": "stream",
     "text": [
      "-11\n"
     ]
    }
   ],
   "source": [
    "# ~ (NOT, Inverts all the bits)\n",
    "x = 10\n",
    "\n",
    "print(~x)"
   ]
  },
  {
   "cell_type": "code",
   "execution_count": 135,
   "metadata": {},
   "outputs": [
    {
     "name": "stdout",
     "output_type": "stream",
     "text": [
      "8\n"
     ]
    }
   ],
   "source": [
    "# << (Zero fill left shift, Shift left by pushing zeros in from the right and let the leftmost bits fall off) \n",
    "# (This is like multiplying by 2 for every left jump)\n",
    "x = 4\n",
    "y = 1\n",
    "\n",
    "print(x << y)"
   ]
  },
  {
   "cell_type": "code",
   "execution_count": 137,
   "metadata": {},
   "outputs": [
    {
     "name": "stdout",
     "output_type": "stream",
     "text": [
      "4\n"
     ]
    }
   ],
   "source": [
    "# >> (Signed right shift, Shift right by pushing copies of the leftmost bit in from the left, and let the rightmost bits fall off)\n",
    "# (This is like dividing by 2 for every right jump)\n",
    "x = 8\n",
    "y = 1\n",
    "\n",
    "print(x >> y)"
   ]
  },
  {
   "cell_type": "markdown",
   "metadata": {},
   "source": [
    "# Completed !!! 🎉🎊¶"
   ]
  },
  {
   "cell_type": "code",
   "execution_count": null,
   "metadata": {},
   "outputs": [],
   "source": []
  }
 ],
 "metadata": {
  "kernelspec": {
   "display_name": "Python 3",
   "language": "python",
   "name": "python3"
  },
  "language_info": {
   "codemirror_mode": {
    "name": "ipython",
    "version": 3
   },
   "file_extension": ".py",
   "mimetype": "text/x-python",
   "name": "python",
   "nbconvert_exporter": "python",
   "pygments_lexer": "ipython3",
   "version": "3.7.4"
  }
 },
 "nbformat": 4,
 "nbformat_minor": 4
}
