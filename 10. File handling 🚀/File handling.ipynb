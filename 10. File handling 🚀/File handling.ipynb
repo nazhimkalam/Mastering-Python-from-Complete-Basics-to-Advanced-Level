{
 "cells": [
  {
   "cell_type": "markdown",
   "metadata": {},
   "source": [
    "# File Handling 📂\n",
    "\n",
    "<img src = \"https://images.all-free-download.com/images/graphicthumb/folder_icon_144145.jpg\" width = \"400\" />\n",
    "\n",
    "- File handling is an important part of any web application.\n",
    "\n",
    "* The key function for working with files in Python is the open() function.\n",
    "\n",
    "* The open() function takes two parameters; filename, and mode.\n",
    "\n",
    "* There are four different methods (modes) for opening a file:\n",
    "\n",
    "        \"r\" - Read - Default value. Opens a file for reading, error if the file does not exist\n",
    "        \n",
    "        \"a\" - Append - Opens a file for appending, creates the file if it does not exist\n",
    "\n",
    "        \"w\" - Write - Opens a file for writing, creates the file if it does not exist\n",
    "\n",
    "        \"x\" - Create - Creates the specified file, returns an error if the file exists\n",
    "\n",
    "* In addition you can specify if the file should be handled as binary or text mode\n",
    "\n",
    "        \"t\" - Text - Default value. Text mode\n",
    "\n",
    "        \"b\" - Binary - Binary mode (e.g. images)\n",
    "        "
   ]
  },
  {
   "cell_type": "markdown",
   "metadata": {},
   "source": [
    "## File Open 📁\n",
    "- To open a file for reading it is enough to specify the name of the file:"
   ]
  },
  {
   "cell_type": "code",
   "execution_count": 4,
   "metadata": {},
   "outputs": [],
   "source": [
    "# make sure that the txt file and the path is correct else it will throw up an error\n",
    "file = open(\"demo.txt\")\n"
   ]
  },
  {
   "cell_type": "markdown",
   "metadata": {},
   "source": [
    "## Read Files 📖\n",
    "- To open the file, use the built-in open() function.\n",
    "\n",
    "- The open() function returns a file object, which has a read() method for reading the content of the file:"
   ]
  },
  {
   "cell_type": "markdown",
   "metadata": {},
   "source": [
    "### Reading the entire File 📖\n",
    "- Using the read() method we can read the entire file, if you don't mention anything/paramter inside the read() function"
   ]
  },
  {
   "cell_type": "code",
   "execution_count": 2,
   "metadata": {},
   "outputs": [
    {
     "name": "stdout",
     "output_type": "stream",
     "text": [
      "This is a demo text file\n",
      "Testing 1\n",
      "Testing 2\n",
      "Testing 3\n"
     ]
    }
   ],
   "source": [
    "file = open(\"demo.txt\", \"r\")\n",
    "print(file.read())\n"
   ]
  },
  {
   "cell_type": "markdown",
   "metadata": {},
   "source": [
    "**If the file is located in a different location, you will have to specify the file path, like this**"
   ]
  },
  {
   "cell_type": "code",
   "execution_count": null,
   "metadata": {},
   "outputs": [],
   "source": [
    "# Open a file on a different location\n",
    "file = open(\"D:\\\\myfiles\\welcome.txt\", \"r\")\n",
    "print(f.read())\n"
   ]
  },
  {
   "cell_type": "markdown",
   "metadata": {},
   "source": [
    "### Read Only Parts of the File 📖\n",
    "- By default the read() method returns the whole text, but you can also specify how many characters you want to return"
   ]
  },
  {
   "cell_type": "code",
   "execution_count": 8,
   "metadata": {},
   "outputs": [
    {
     "name": "stdout",
     "output_type": "stream",
     "text": [
      "This is a \n"
     ]
    }
   ],
   "source": [
    "# Return the 5 first characters of the file\n",
    "file = open(\"demo.txt\", \"r\")\n",
    "print(file.read(10))\n"
   ]
  },
  {
   "cell_type": "markdown",
   "metadata": {},
   "source": [
    "### Read Lines 📖\n",
    "- You can return one line by using the readline() method"
   ]
  },
  {
   "cell_type": "code",
   "execution_count": 10,
   "metadata": {},
   "outputs": [
    {
     "name": "stdout",
     "output_type": "stream",
     "text": [
      "This is a demo text file\n",
      "\n"
     ]
    }
   ],
   "source": [
    "# Read one line of the file\n",
    "file = open(\"demo.txt\", \"r\")\n",
    "print(file.readline())\n"
   ]
  },
  {
   "cell_type": "code",
   "execution_count": 12,
   "metadata": {},
   "outputs": [
    {
     "name": "stdout",
     "output_type": "stream",
     "text": [
      "This is a demo text file\n",
      "\n",
      "Testing 1\n",
      "\n"
     ]
    }
   ],
   "source": [
    "# By calling readline() two times, you can read the two first lines\n",
    "# Read two lines of the file\n",
    "file = open(\"demo.txt\", \"r\")\n",
    "print(file.readline())\n",
    "print(file.readline())\n"
   ]
  },
  {
   "cell_type": "markdown",
   "metadata": {},
   "source": [
    "**By looping through the lines of the file, you can read the whole file, line by line**"
   ]
  },
  {
   "cell_type": "code",
   "execution_count": 13,
   "metadata": {},
   "outputs": [
    {
     "name": "stdout",
     "output_type": "stream",
     "text": [
      "This is a demo text file\n",
      "\n",
      "Testing 1\n",
      "\n",
      "Testing 2\n",
      "\n",
      "Testing 3\n"
     ]
    }
   ],
   "source": [
    "# Loop through the file line by line\n",
    "f = open(\"demo.txt\", \"r\")\n",
    "for x in f:\n",
    "      print(x)\n",
    "        "
   ]
  },
  {
   "cell_type": "markdown",
   "metadata": {},
   "source": [
    "### Close Files 📁\n",
    "- It is a good practice to always close the file when you are done with it."
   ]
  },
  {
   "cell_type": "code",
   "execution_count": 14,
   "metadata": {},
   "outputs": [
    {
     "name": "stdout",
     "output_type": "stream",
     "text": [
      "This is a demo text file\n",
      "\n"
     ]
    }
   ],
   "source": [
    "# Close the file when you are finish with it\n",
    "file = open(\"demo.txt\", \"r\")\n",
    "print(file.readline())\n",
    "file.close()\n"
   ]
  },
  {
   "cell_type": "markdown",
   "metadata": {},
   "source": [
    "## Write/Create Files 📝"
   ]
  },
  {
   "cell_type": "markdown",
   "metadata": {},
   "source": [
    "### Write to an Existing File ✍🏼\n",
    "- To write to an existing file, you must add a parameter to the open() function:\n",
    "\n",
    "        \"a\" - Append - will append to the end of the file\n",
    "\n",
    "        \"w\" - Write - will overwrite any existing content"
   ]
  },
  {
   "cell_type": "markdown",
   "metadata": {},
   "source": [
    "### Appending ➕"
   ]
  },
  {
   "cell_type": "code",
   "execution_count": 15,
   "metadata": {},
   "outputs": [
    {
     "name": "stdout",
     "output_type": "stream",
     "text": [
      "This is a demo text file\n",
      "Testing 1\n",
      "Testing 2\n",
      "Testing 3Now the file has more content!\n"
     ]
    }
   ],
   "source": [
    "# Open the file \"demo.txt\" and append content to the file\n",
    "f = open(\"demo.txt\", \"a\")\n",
    "f.write(\"Now the file has more content!\")\n",
    "f.close()\n",
    "\n",
    "#open and read the file after the appending:\n",
    "f = open(\"demo.txt\", \"r\")\n",
    "print(f.read())\n"
   ]
  },
  {
   "cell_type": "markdown",
   "metadata": {},
   "source": [
    "### Overwrite ✍🏼"
   ]
  },
  {
   "cell_type": "code",
   "execution_count": 16,
   "metadata": {},
   "outputs": [
    {
     "name": "stdout",
     "output_type": "stream",
     "text": [
      "Woops! I have deleted the content!\n"
     ]
    }
   ],
   "source": [
    "# Open the file \"demo.txt\" and overwrite the content\n",
    "f = open(\"demo.txt\", \"w\")\n",
    "f.write(\"Woops! I have deleted the content!\")\n",
    "f.close()\n",
    "\n",
    "#open and read the file after the appending:\n",
    "f = open(\"demo.txt\", \"r\")\n",
    "print(f.read())\n"
   ]
  },
  {
   "cell_type": "markdown",
   "metadata": {},
   "source": [
    "### Creating a New File 🤪\n",
    "- To create a new file in Python, use the open() method, with one of the following parameters:\n",
    "\n",
    "        \"x\" - Create - will create a file, returns an error if the file exist\n",
    "\n",
    "        \"a\" - Append - will create a file if the specified file does not exist\n",
    "\n",
    "        \"w\" - Write - will create a file if the specified file does not exist"
   ]
  },
  {
   "cell_type": "code",
   "execution_count": 17,
   "metadata": {},
   "outputs": [],
   "source": [
    "# Create a file called \"myfile.txt\"\n",
    "f = open(\"myfile.txt\", \"x\")\n"
   ]
  },
  {
   "cell_type": "code",
   "execution_count": 20,
   "metadata": {},
   "outputs": [],
   "source": [
    "# Create a new file if it does not exist\n",
    "f = open(\"myfile.txt\", \"w\")\n"
   ]
  },
  {
   "cell_type": "markdown",
   "metadata": {},
   "source": [
    "## Delete Files 📕\n",
    "- To delete a file, you must import the OS module, and run its os.remove() function"
   ]
  },
  {
   "cell_type": "code",
   "execution_count": 23,
   "metadata": {},
   "outputs": [],
   "source": [
    "# Remove the file \"demofile.txt\n",
    "import os\n",
    "os.remove(\"demo.txt\")\n"
   ]
  },
  {
   "cell_type": "markdown",
   "metadata": {},
   "source": [
    "### Check if File exist ✔\n",
    "- To avoid getting an error, you might want to check if the file exists before you try to delete it"
   ]
  },
  {
   "cell_type": "code",
   "execution_count": 25,
   "metadata": {},
   "outputs": [
    {
     "name": "stdout",
     "output_type": "stream",
     "text": [
      "The file does not exist\n"
     ]
    }
   ],
   "source": [
    "# Check if file exists, then delete it\n",
    "import os\n",
    "\n",
    "if os.path.exists(\"demo.txt\"):\n",
    "      os.remove(\"demo.txt\")\n",
    "        \n",
    "else:\n",
    "      print(\"The file does not exist\")\n",
    "        "
   ]
  },
  {
   "cell_type": "markdown",
   "metadata": {},
   "source": [
    "### Make and Delete Folder 📁\n",
    "- To delete an entire folder, use the os.rmdir() method"
   ]
  },
  {
   "cell_type": "code",
   "execution_count": 31,
   "metadata": {},
   "outputs": [],
   "source": [
    "import os\n",
    "\n",
    "# Make a folder \"myfolder\"\n",
    "os.mkdir(\"myfolder\")\n"
   ]
  },
  {
   "cell_type": "code",
   "execution_count": 32,
   "metadata": {},
   "outputs": [],
   "source": [
    "# Remove the folder \"myfolder\"\n",
    "os.rmdir(\"myfolder\")\n"
   ]
  },
  {
   "cell_type": "markdown",
   "metadata": {},
   "source": [
    "#### Note: You can only remove empty folders."
   ]
  },
  {
   "cell_type": "markdown",
   "metadata": {},
   "source": [
    "## Exercises 📁\n",
    "\n",
    "<img src =\"https://ak2.picdn.net/shutterstock/videos/6441422/thumb/1.jpg?ip=x480\" width=\"300\" />"
   ]
  },
  {
   "cell_type": "code",
   "execution_count": 1,
   "metadata": {},
   "outputs": [],
   "source": [
    "# Question 01\n",
    "# Create a folder called \"exercise\" with in the current root folder your notebook is currently in\n",
    "\n",
    "\n"
   ]
  },
  {
   "cell_type": "code",
   "execution_count": 2,
   "metadata": {},
   "outputs": [],
   "source": [
    "# Question 02\n",
    "# Create a text file inside the \"exercise\" folder called \"exerciseDemo.txt\"\n",
    "\n"
   ]
  },
  {
   "cell_type": "code",
   "execution_count": null,
   "metadata": {},
   "outputs": [],
   "source": [
    "# Question 03\n",
    "# Append your name and age in two different line inside the \"exerciseDemo.txt\" using python file handling and display the \n",
    "# contents of the file\n",
    "\n"
   ]
  },
  {
   "cell_type": "code",
   "execution_count": null,
   "metadata": {},
   "outputs": [],
   "source": [
    "# Question 04\n",
    "# Override the context of the \"exerciseDemo.txt\" file with the following string \"Hello World!!!\" and display the contents\n",
    "# of the file \n",
    "\n"
   ]
  },
  {
   "cell_type": "code",
   "execution_count": 3,
   "metadata": {},
   "outputs": [],
   "source": [
    "# Question 05\n",
    "# Using file handling delete the contents of the folder and the folder as well.\n",
    "# Hint: Firstly delete the file inside the folder then try to delete the folder it self (folder has to be empty to be deleted!)\n",
    "\n"
   ]
  },
  {
   "cell_type": "markdown",
   "metadata": {},
   "source": [
    "# Completed ! 🎉🎊 "
   ]
  },
  {
   "cell_type": "code",
   "execution_count": null,
   "metadata": {},
   "outputs": [],
   "source": []
  }
 ],
 "metadata": {
  "kernelspec": {
   "display_name": "Python 3",
   "language": "python",
   "name": "python3"
  },
  "language_info": {
   "codemirror_mode": {
    "name": "ipython",
    "version": 3
   },
   "file_extension": ".py",
   "mimetype": "text/x-python",
   "name": "python",
   "nbconvert_exporter": "python",
   "pygments_lexer": "ipython3",
   "version": "3.7.4"
  }
 },
 "nbformat": 4,
 "nbformat_minor": 4
}
