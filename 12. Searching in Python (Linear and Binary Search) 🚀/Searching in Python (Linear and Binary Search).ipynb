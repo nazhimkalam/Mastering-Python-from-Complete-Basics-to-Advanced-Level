{
 "cells": [
  {
   "cell_type": "markdown",
   "metadata": {},
   "source": [
    "# Searching in Python 🔍\n",
    "- Searching is an operation or a technique that helps finds the place of a given element or value in the list. \n",
    "- Some of the Standard Searching techniques that is being followed in the data structure is listed below:\n",
    "\n",
    "        1. Linear Search \n",
    "        2. Binary Search"
   ]
  },
  {
   "cell_type": "markdown",
   "metadata": {},
   "source": [
    "## Linear Search 🔎\n",
    "- This is the simplest method for searching. In this technique of searching, the element to be found in searching the elements to be found is searched sequentially in the list. This method can be performed on a sorted or an unsorted list. \n",
    "\n",
    "- In case of a sorted list searching starts from 0th element and continues until the element is found from the list or the element whose value is greater than (assuming the list is sorted in ascending order), the value being searched is reached.\n",
    "\n",
    "- As against this, searching in case of unsorted list also begins from the 0th element and continues until the element or the end of the list is reached.\n",
    "\n",
    "<img src=\"https://www.cdn.geeksforgeeks.org/wp-content/uploads/Linear-Search.png\" width=\"500\"/>"
   ]
  },
  {
   "cell_type": "markdown",
   "metadata": {},
   "source": [
    "### Code for Performing Linear Search"
   ]
  },
  {
   "cell_type": "code",
   "execution_count": 15,
   "metadata": {},
   "outputs": [],
   "source": [
    "def search(arr, x): \n",
    "    for i in range(len(arr)): \n",
    "        if arr[i] == x: \n",
    "            return i \n",
    "    return -1"
   ]
  },
  {
   "cell_type": "code",
   "execution_count": 17,
   "metadata": {},
   "outputs": [
    {
     "name": "stdout",
     "output_type": "stream",
     "text": [
      "Searched item not found\n"
     ]
    }
   ],
   "source": [
    "# Getting the Search Value\n",
    "data = [\"Apple\", \"Orange\", \"Mango\", \"Pear\", \"Grapes\", \"Pineapple\"]\n",
    "\n",
    "searchIndex = search(data, \"PeDvsar\")\n",
    "\n",
    "if(searchIndex != -1):\n",
    "    print(\"The index value for\", data[searchIndex], \"is\", searchIndex)\n",
    "\n",
    "else:\n",
    "    print(\"Searched item not found\")\n",
    "    "
   ]
  },
  {
   "cell_type": "markdown",
   "metadata": {},
   "source": [
    "## Binary Search 🔍\n",
    "\n",
    "- Binary Search works on a divide-and-conquer approach and relies on the fact that the array is sorted to eliminate half of possible candidates in each iteration. \n",
    "- More specifically, it compares the middle element of the sorted array to the element it's searching for in order to decide where to continue the search.\n",
    "\n",
    "- If the target element is larger than the middle element - it can't be located in the first half of the collection so it's discarded. The same goes the other way around.\n",
    "<img src = \"https://www.geeksforgeeks.org/wp-content/uploads/Binary-Search.png\" width = \"500\"/>"
   ]
  },
  {
   "cell_type": "markdown",
   "metadata": {},
   "source": [
    "### Code for Performing Binary Search"
   ]
  },
  {
   "cell_type": "code",
   "execution_count": 4,
   "metadata": {},
   "outputs": [],
   "source": [
    "# Returns index of x in arr if present, else -1 \n",
    "def binary_search(arr, low, high, x): \n",
    "  \n",
    "    # Check base case \n",
    "    if high >= low: \n",
    "  \n",
    "        mid = (high + low) // 2\n",
    "  \n",
    "        # If element is present at the middle itself \n",
    "        if arr[mid] == x: \n",
    "            return mid \n",
    "  \n",
    "        # If element is smaller than mid, then it can only be present in left subarray \n",
    "        elif arr[mid] > x: \n",
    "            return binary_search(arr, low, mid - 1, x) \n",
    "  \n",
    "        # Else the element can only be present in right subarray \n",
    "        else: \n",
    "            return binary_search(arr, mid + 1, high, x) \n",
    "  \n",
    "    else: \n",
    "        # Element is not present in the array \n",
    "        return -1"
   ]
  },
  {
   "cell_type": "code",
   "execution_count": 38,
   "metadata": {},
   "outputs": [
    {
     "name": "stdout",
     "output_type": "stream",
     "text": [
      "['Apple', 'Grapes', 'Mango', 'Orange', 'Pear', 'Pineapple']\n",
      "Element is present at index 0\n"
     ]
    }
   ],
   "source": [
    "# Testing the Binary Search Code\n",
    "\n",
    "# For binary search we have to first sort the array in ascending order\n",
    "arr = [\"Apple\", \"Orange\", \"Mango\", \"Pear\", \"Grapes\", \"Pineapple\"] # unsorted\n",
    "arr.sort() # sorted list ['Apple', 'Grapes', 'Mango', 'Orange', 'Pear', 'Pineapple']\n",
    "print(arr)\n",
    "\n",
    "x = \"Apple\"\n",
    "\n",
    "# Function call\n",
    "result = binary_search(arr, 0, len(arr)-1, x)\n",
    "\n",
    "# Displaying the result\n",
    "if result != -1: \n",
    "    print(\"Element is present at index\", result) \n",
    "    \n",
    "else: \n",
    "    print(\"Element is not present in array\") "
   ]
  },
  {
   "cell_type": "markdown",
   "metadata": {},
   "source": [
    "# Completed ! 🎉🎊🥳"
   ]
  },
  {
   "cell_type": "code",
   "execution_count": null,
   "metadata": {},
   "outputs": [],
   "source": []
  }
 ],
 "metadata": {
  "kernelspec": {
   "display_name": "Python 3",
   "language": "python",
   "name": "python3"
  }
 },
 "nbformat": 4,
 "nbformat_minor": 4
}
